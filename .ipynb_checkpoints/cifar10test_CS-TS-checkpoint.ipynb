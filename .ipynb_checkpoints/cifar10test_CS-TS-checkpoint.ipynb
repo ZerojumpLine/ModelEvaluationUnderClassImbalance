{
 "cells": [
  {
   "cell_type": "code",
   "execution_count": 1,
   "metadata": {},
   "outputs": [],
   "source": [
    "import os\n",
    "import seaborn as sns\n",
    "import pandas as pd\n",
    "import numpy as np\n",
    "from tqdm import tqdm\n",
    "import matplotlib.pyplot as plt"
   ]
  },
  {
   "cell_type": "code",
   "execution_count": 22,
   "metadata": {},
   "outputs": [],
   "source": [
    "def softmax(x, T = 1):\n",
    "    \"\"\"Compute softmax values for each sets of scores in x.\"\"\"\n",
    "    return np.exp(x / T) / np.sum(np.exp(x / T), axis=0)"
   ]
  },
  {
   "cell_type": "code",
   "execution_count": 23,
   "metadata": {},
   "outputs": [],
   "source": [
    "cifar_resultsdir = '/vol/biomedic3/zl9518/ModelEvaluation/LDAM-DRW/cifar10results/'\n",
    "cnn_pred = pd.read_csv(cifar_resultsdir + 'predictions_val.csv')"
   ]
  },
  {
   "cell_type": "code",
   "execution_count": 24,
   "metadata": {},
   "outputs": [
    {
     "name": "stdout",
     "output_type": "stream",
     "text": [
      "0.7054\n",
      "0.9106864566517481\n",
      "0.7072816198306675\n"
     ]
    }
   ],
   "source": [
    "kcls = 10\n",
    "targets_all = np.array(cnn_pred[['target_0', 'target_1', 'target_2', 'target_3', 'target_4', 'target_5', 'target_6', 'target_7', 'target_8', 'target_9']])\n",
    "logit_all = np.array(cnn_pred[['logit_0', 'logit_1', 'logit_2', 'logit_3', 'logit_4', 'logit_5', 'logit_6', 'logit_7', 'logit_8', 'logit_9']])\n",
    "preds_all_argmax = np.argmax(logit_all, axis = 1)\n",
    "# acc\n",
    "target_class = np.argmax(targets_all, axis = 1)\n",
    "pred_class = np.argmax(logit_all, axis = 1)\n",
    "acc = np.sum(pred_class == target_class) / len(target_class)\n",
    "prob = softmax(logit_all.transpose(), T = 1).transpose()\n",
    "probmax = np.max(prob, axis = 1)\n",
    "prob_Topt = softmax(logit_all.transpose(), T = 3.0).transpose()\n",
    "prob_Toptmax = np.max(prob_Topt, axis = 1)\n",
    "print(acc)\n",
    "print(np.mean(probmax))\n",
    "print(np.mean(prob_Toptmax))"
   ]
  },
  {
   "cell_type": "code",
   "execution_count": 25,
   "metadata": {},
   "outputs": [
    {
     "name": "stdout",
     "output_type": "stream",
     "text": [
      "cls 0\n",
      "0.5130111524163569\n",
      "0.9225970527876363\n",
      "0.5174702558349566\n",
      "cls 1\n",
      "0.667574931880109\n",
      "0.9465175121023574\n",
      "0.6638625247488893\n",
      "cls 2\n",
      "0.6723577235772358\n",
      "0.8975987002607149\n",
      "0.6747693768252498\n",
      "cls 3\n",
      "0.5485674353598882\n",
      "0.8778312932453294\n",
      "0.5515075198723262\n",
      "cls 4\n",
      "0.7966976264189887\n",
      "0.9152566261328222\n",
      "0.7927198522007158\n",
      "cls 5\n",
      "0.7688504326328801\n",
      "0.8755787630858152\n",
      "0.7727616252283973\n",
      "cls 6\n",
      "0.920881971465629\n",
      "0.9290975108112881\n",
      "0.9200385890090808\n",
      "cls 7\n",
      "0.9548494983277592\n",
      "0.9130334698715659\n",
      "0.9526457191968399\n",
      "cls 8\n",
      "0.9671717171717171\n",
      "0.9070707221184109\n",
      "0.9661278774550892\n",
      "cls 9\n",
      "0.9842696629213483\n",
      "0.9059517630576093\n",
      "0.9824487077408494\n"
     ]
    }
   ],
   "source": [
    "# choose TS for different classes, manually\n",
    "label = 0\n",
    "targets_y1 = np.where(preds_all_argmax==label)[0]\n",
    "pred_class = np.argmax(logit_all, axis = 1)[targets_y1]\n",
    "target_class = np.argmax(targets_all, axis = 1)[targets_y1]\n",
    "acc = np.sum(pred_class == target_class) / len(target_class)\n",
    "prob = softmax(logit_all.transpose(), T = 1).transpose()[targets_y1]\n",
    "probmax = np.max(prob, axis = 1)\n",
    "prob_Topt = softmax(logit_all.transpose(), T = 5.0).transpose()[targets_y1]\n",
    "prob_Toptmax = np.max(prob_Topt, axis = 1)\n",
    "print('cls ' + str(label))\n",
    "print(acc)\n",
    "print(np.mean(probmax))\n",
    "print(np.mean(prob_Toptmax))\n",
    "label = 1\n",
    "targets_y1 = np.where(preds_all_argmax==label)[0]\n",
    "pred_class = np.argmax(logit_all, axis = 1)[targets_y1]\n",
    "target_class = np.argmax(targets_all, axis = 1)[targets_y1]\n",
    "acc = np.sum(pred_class == target_class) / len(target_class)\n",
    "prob = softmax(logit_all.transpose(), T = 1).transpose()[targets_y1]\n",
    "probmax = np.max(prob, axis = 1)\n",
    "prob_Topt = softmax(logit_all.transpose(), T = 5.1).transpose()[targets_y1]\n",
    "prob_Toptmax = np.max(prob_Topt, axis = 1)\n",
    "print('cls ' + str(label))\n",
    "print(acc)\n",
    "print(np.mean(probmax))\n",
    "print(np.mean(prob_Toptmax))\n",
    "label = 2\n",
    "targets_y1 = np.where(preds_all_argmax==label)[0]\n",
    "pred_class = np.argmax(logit_all, axis = 1)[targets_y1]\n",
    "target_class = np.argmax(targets_all, axis = 1)[targets_y1]\n",
    "acc = np.sum(pred_class == target_class) / len(target_class)\n",
    "prob = softmax(logit_all.transpose(), T = 1).transpose()[targets_y1]\n",
    "probmax = np.max(prob, axis = 1)\n",
    "prob_Topt = softmax(logit_all.transpose(), T = 3.1).transpose()[targets_y1]\n",
    "prob_Toptmax = np.max(prob_Topt, axis = 1)\n",
    "print('cls ' + str(label))\n",
    "print(acc)\n",
    "print(np.mean(probmax))\n",
    "print(np.mean(prob_Toptmax))\n",
    "label = 3\n",
    "targets_y1 = np.where(preds_all_argmax==label)[0]\n",
    "pred_class = np.argmax(logit_all, axis = 1)[targets_y1]\n",
    "target_class = np.argmax(targets_all, axis = 1)[targets_y1]\n",
    "acc = np.sum(pred_class == target_class) / len(target_class)\n",
    "prob = softmax(logit_all.transpose(), T = 1).transpose()[targets_y1]\n",
    "probmax = np.max(prob, axis = 1)\n",
    "prob_Topt = softmax(logit_all.transpose(), T = 3.8).transpose()[targets_y1]\n",
    "prob_Toptmax = np.max(prob_Topt, axis = 1)\n",
    "print('cls ' + str(label))\n",
    "print(acc)\n",
    "print(np.mean(probmax))\n",
    "print(np.mean(prob_Toptmax))\n",
    "label = 4\n",
    "targets_y1 = np.where(preds_all_argmax==label)[0]\n",
    "pred_class = np.argmax(logit_all, axis = 1)[targets_y1]\n",
    "target_class = np.argmax(targets_all, axis = 1)[targets_y1]\n",
    "acc = np.sum(pred_class == target_class) / len(target_class)\n",
    "prob = softmax(logit_all.transpose(), T = 1).transpose()[targets_y1]\n",
    "probmax = np.max(prob, axis = 1)\n",
    "prob_Topt = softmax(logit_all.transpose(), T = 2.2).transpose()[targets_y1]\n",
    "prob_Toptmax = np.max(prob_Topt, axis = 1)\n",
    "print('cls ' + str(label))\n",
    "print(acc)\n",
    "print(np.mean(probmax))\n",
    "print(np.mean(prob_Toptmax))\n",
    "label = 5\n",
    "targets_y1 = np.where(preds_all_argmax==label)[0]\n",
    "pred_class = np.argmax(logit_all, axis = 1)[targets_y1]\n",
    "target_class = np.argmax(targets_all, axis = 1)[targets_y1]\n",
    "acc = np.sum(pred_class == target_class) / len(target_class)\n",
    "prob = softmax(logit_all.transpose(), T = 1).transpose()[targets_y1]\n",
    "probmax = np.max(prob, axis = 1)\n",
    "prob_Topt = softmax(logit_all.transpose(), T = 1.9).transpose()[targets_y1]\n",
    "prob_Toptmax = np.max(prob_Topt, axis = 1)\n",
    "print('cls ' + str(label))\n",
    "print(acc)\n",
    "print(np.mean(probmax))\n",
    "print(np.mean(prob_Toptmax))\n",
    "label = 6\n",
    "targets_y1 = np.where(preds_all_argmax==label)[0]\n",
    "pred_class = np.argmax(logit_all, axis = 1)[targets_y1]\n",
    "target_class = np.argmax(targets_all, axis = 1)[targets_y1]\n",
    "acc = np.sum(pred_class == target_class) / len(target_class)\n",
    "prob = softmax(logit_all.transpose(), T = 1).transpose()[targets_y1]\n",
    "probmax = np.max(prob, axis = 1)\n",
    "prob_Topt = softmax(logit_all.transpose(), T = 1.1).transpose()[targets_y1]\n",
    "prob_Toptmax = np.max(prob_Topt, axis = 1)\n",
    "print('cls ' + str(label))\n",
    "print(acc)\n",
    "print(np.mean(probmax))\n",
    "print(np.mean(prob_Toptmax))\n",
    "label = 7\n",
    "targets_y1 = np.where(preds_all_argmax==label)[0]\n",
    "pred_class = np.argmax(logit_all, axis = 1)[targets_y1]\n",
    "target_class = np.argmax(targets_all, axis = 1)[targets_y1]\n",
    "acc = np.sum(pred_class == target_class) / len(target_class)\n",
    "prob = softmax(logit_all.transpose(), T = 1).transpose()[targets_y1]\n",
    "probmax = np.max(prob, axis = 1)\n",
    "prob_Topt = softmax(logit_all.transpose(), T = 0.6).transpose()[targets_y1]\n",
    "prob_Toptmax = np.max(prob_Topt, axis = 1)\n",
    "print('cls ' + str(label))\n",
    "print(acc)\n",
    "print(np.mean(probmax))\n",
    "print(np.mean(prob_Toptmax))\n",
    "label = 8\n",
    "targets_y1 = np.where(preds_all_argmax==label)[0]\n",
    "pred_class = np.argmax(logit_all, axis = 1)[targets_y1]\n",
    "target_class = np.argmax(targets_all, axis = 1)[targets_y1]\n",
    "acc = np.sum(pred_class == target_class) / len(target_class)\n",
    "prob = softmax(logit_all.transpose(), T = 1).transpose()[targets_y1]\n",
    "probmax = np.max(prob, axis = 1)\n",
    "prob_Topt = softmax(logit_all.transpose(), T = 0.4).transpose()[targets_y1]\n",
    "prob_Toptmax = np.max(prob_Topt, axis = 1)\n",
    "print('cls ' + str(label))\n",
    "print(acc)\n",
    "print(np.mean(probmax))\n",
    "print(np.mean(prob_Toptmax))\n",
    "label = 9\n",
    "targets_y1 = np.where(preds_all_argmax==label)[0]\n",
    "pred_class = np.argmax(logit_all, axis = 1)[targets_y1]\n",
    "target_class = np.argmax(targets_all, axis = 1)[targets_y1]\n",
    "acc = np.sum(pred_class == target_class) / len(target_class)\n",
    "prob = softmax(logit_all.transpose(), T = 1).transpose()[targets_y1]\n",
    "probmax = np.max(prob, axis = 1)\n",
    "prob_Topt = softmax(logit_all.transpose(), T = 0.2).transpose()[targets_y1]\n",
    "prob_Toptmax = np.max(prob_Topt, axis = 1)\n",
    "print('cls ' + str(label))\n",
    "print(acc)\n",
    "print(np.mean(probmax))\n",
    "print(np.mean(prob_Toptmax))"
   ]
  },
  {
   "cell_type": "code",
   "execution_count": 26,
   "metadata": {},
   "outputs": [],
   "source": [
    "learnT = 3.0\n",
    "learnTs = [5.0, 5.1, 3.1, 3.8, 2.2, 1.9, 1.1, 0.6, 0.4, 0.2]"
   ]
  },
  {
   "cell_type": "code",
   "execution_count": 27,
   "metadata": {
    "scrolled": false
   },
   "outputs": [
    {
     "data": {
      "image/png": "[encoded data removed]",
      "text/plain": [
       "<Figure size 432x216 with 1 Axes>"
      ]
     },
     "metadata": {},
     "output_type": "display_data"
    },
    {
     "name": "stdout",
     "output_type": "stream",
     "text": [
      "0.7072816198306675\n",
      "[0.722509605686851, 0.82465771959896, 0.6854481740002188, 0.6342704707830767, 0.7048298837303691, 0.6515387223274521, 0.7128931595414856, 0.6792923063173834, 0.6925667497921426, 0.6984313234081]\n"
     ]
    }
   ],
   "source": [
    "# Divided based on the predictions\n",
    "sns.set(rc={'figure.figsize':(6,3)})\n",
    "kcls = 10\n",
    "preds_class_all = []\n",
    "acc_cls = []\n",
    "cls_num = []\n",
    "targets_all = []\n",
    "mean_prob = []\n",
    "logit_all = np.array(cnn_pred[['logit_0', 'logit_1', 'logit_2', 'logit_3', 'logit_4', 'logit_5', 'logit_6', 'logit_7', 'logit_8', 'logit_9']])\n",
    "preds_all_argmax = np.argmax(logit_all, axis = 1)\n",
    "class_all = np.array(cnn_pred[['target_0', 'target_1', 'target_2', 'target_3', 'target_4', 'target_5', 'target_6', 'target_7', 'target_8', 'target_9']])\n",
    "class_all_argmax = np.argmax(class_all, axis = 1)\n",
    "for label in range(kcls):\n",
    "    preds_all = softmax(logit_all.transpose(), T = learnT).transpose()\n",
    "    preds_all_max = np.max(preds_all, axis = 1)\n",
    "    targets_y1 = np.where(preds_all_argmax==label)[0]\n",
    "    preds_class = preds_all_max[targets_y1]\n",
    "    \n",
    "    preds_class_all = np.concatenate((preds_class_all, preds_class), axis=0)\n",
    "    targets_all = np.concatenate((targets_all, np.ones(len(preds_class)) * label), axis=0)\n",
    "    mean_prob.append(np.mean(preds_class))\n",
    "        \n",
    "    preds_realclass = class_all_argmax[targets_y1]\n",
    "    acc_cls.append(np.sum(preds_realclass == label) / len(targets_y1))\n",
    "    cls_num.append(label)\n",
    "# Build the data structure\n",
    "d = {'prob': preds_class_all, 'class': targets_all}\n",
    "df = pd.DataFrame(data=d)\n",
    "dacc = {'prob': acc_cls, 'class': cls_num}\n",
    "dfacc = pd.DataFrame(data=dacc)\n",
    "\n",
    "fontsize = 20\n",
    "fig, ax1 = plt.subplots()\n",
    "ax1 = sns.barplot(x='class', y='prob', data=df, color = 'skyblue', label='Calibrated Confidence')\n",
    "# ax2 = ax1.twinx()\n",
    "ax1 = sns.barplot(x='class', y='prob', data=dfacc, facecolor=(1, 1, 1, 0), edgecolor=\".1\", label='Accuracy')\n",
    "\n",
    "plt.xlabel('Predicted Class', fontsize=fontsize)\n",
    "plt.ylabel(' ', fontsize=fontsize)\n",
    "plt.ylim([0, 1])\n",
    "plt.legend(loc=4, fontsize=fontsize)\n",
    "plt.xticks(fontsize=fontsize)\n",
    "plt.yticks(fontsize=fontsize)\n",
    "plt.tick_params(labelleft=False)\n",
    "plt.show()\n",
    "print(np.mean(preds_class_all))\n",
    "print(mean_prob)\n",
    "fig.savefig(\"3.png\", bbox_inches='tight', dpi=300, transparent=True)"
   ]
  },
  {
   "cell_type": "code",
   "execution_count": 28,
   "metadata": {},
   "outputs": [
    {
     "data": {
      "image/png": "[encoded data removed]",
      "text/plain": [
       "<Figure size 72x216 with 1 Axes>"
      ]
     },
     "metadata": {},
     "output_type": "display_data"
    }
   ],
   "source": [
    "sns.set(rc={'figure.figsize':(1,3)})\n",
    "kcls = 10\n",
    "acc_cls = []\n",
    "preds_all = np.array(cnn_pred[['class_0', 'class_1', 'class_2', 'class_3', 'class_4', 'class_5', 'class_6', 'class_7', 'class_8', 'class_9']])\n",
    "# get the prediction acc / average of recall\n",
    "for label in range(kcls):\n",
    "    targets = np.array(cnn_pred['target_' + str(label)])\n",
    "    targets_y1 = np.where(targets==1)[0]\n",
    "    preds_class = preds_all[targets_y1, :]\n",
    "    preds_class_argmax = np.argmax(np.array(preds_class), axis = 1)\n",
    "    acc_cls.append(np.sum(preds_class_argmax == label) / len(preds_class))\n",
    "\n",
    "sns.set(rc={'figure.figsize':(1,3)})\n",
    "d = {'prob': preds_class_all, 'class': np.zeros(targets_all.shape)}\n",
    "df = pd.DataFrame(data=d)\n",
    "dacc = {'prob': np.mean(acc_cls), 'class': np.zeros(1)}\n",
    "dfacc = pd.DataFrame(data=dacc)\n",
    "\n",
    "fontsize = 20\n",
    "fig, ax1 = plt.subplots()\n",
    "sns.barplot(ax=ax1, x='class', y='prob', data=df, color = 'skyblue', label='Average Confidence')\n",
    "sns.barplot(ax=ax1, x='class', y='prob', data=dfacc, facecolor=(1, 1, 1, 0), edgecolor=\".1\", label='Accuracy')\n",
    "\n",
    "plt.xlabel(' ', fontsize=fontsize)\n",
    "plt.ylabel(' ', fontsize=fontsize)\n",
    "plt.ylabel('Accuracy/Confidence', fontsize=fontsize)\n",
    "plt.ylim([0, 1])\n",
    "plt.xticks(fontsize=fontsize)\n",
    "plt.yticks(fontsize=fontsize)\n",
    "plt.tick_params(labelbottom=False)\n",
    "plt.show()\n",
    "fig.savefig(\"4.png\", bbox_inches='tight', dpi=300, transparent=True)"
   ]
  },
  {
   "cell_type": "code",
   "execution_count": 29,
   "metadata": {},
   "outputs": [
    {
     "data": {
      "image/png": "[encoded data removed]",
      "text/plain": [
       "<Figure size 432x216 with 1 Axes>"
      ]
     },
     "metadata": {},
     "output_type": "display_data"
    },
    {
     "name": "stdout",
     "output_type": "stream",
     "text": [
      "0.7060238170715821\n",
      "[0.5174702558349566, 0.6638625247488893, 0.6747693768252498, 0.5515075198723262, 0.7927198522007158, 0.7727616252283973, 0.9200385890090808, 0.9526457191968399, 0.9661278774550892, 0.9824487077408494]\n"
     ]
    }
   ],
   "source": [
    "# Divided based on the predictions\n",
    "sns.set(rc={'figure.figsize':(6,3)})\n",
    "kcls = 10\n",
    "preds_class_all = []\n",
    "acc_cls = []\n",
    "cls_num = []\n",
    "targets_all = []\n",
    "mean_prob = []\n",
    "logit_all = np.array(cnn_pred[['logit_0', 'logit_1', 'logit_2', 'logit_3', 'logit_4', 'logit_5', 'logit_6', 'logit_7', 'logit_8', 'logit_9']])\n",
    "preds_all_argmax = np.argmax(logit_all, axis = 1)\n",
    "class_all = np.array(cnn_pred[['target_0', 'target_1', 'target_2', 'target_3', 'target_4', 'target_5', 'target_6', 'target_7', 'target_8', 'target_9']])\n",
    "class_all_argmax = np.argmax(class_all, axis = 1)\n",
    "for label in range(kcls):\n",
    "    preds_all = softmax(logit_all.transpose(), T = learnTs[label]).transpose()\n",
    "    preds_all_max = np.max(preds_all, axis = 1)\n",
    "    targets_y1 = np.where(preds_all_argmax==label)[0]\n",
    "    preds_class = preds_all_max[targets_y1]\n",
    "    \n",
    "    preds_class_all = np.concatenate((preds_class_all, preds_class), axis=0)\n",
    "    targets_all = np.concatenate((targets_all, np.ones(len(preds_class)) * label), axis=0)\n",
    "    mean_prob.append(np.mean(preds_class))\n",
    "        \n",
    "    preds_realclass = class_all_argmax[targets_y1]\n",
    "    acc_cls.append(np.sum(preds_realclass == label) / len(targets_y1))\n",
    "    cls_num.append(label)\n",
    "# Build the data structure\n",
    "d = {'prob': preds_class_all, 'class': targets_all}\n",
    "df = pd.DataFrame(data=d)\n",
    "dacc = {'prob': acc_cls, 'class': cls_num}\n",
    "dfacc = pd.DataFrame(data=dacc)\n",
    "\n",
    "fontsize = 20\n",
    "fig, ax1 = plt.subplots()\n",
    "ax1 = sns.barplot(x='class', y='prob', data=df, color = 'skyblue', label='Calibrated Confidence')\n",
    "# ax2 = ax1.twinx()\n",
    "ax1 = sns.barplot(x='class', y='prob', data=dfacc, facecolor=(1, 1, 1, 0), edgecolor=\".1\", label='Accuracy')\n",
    "\n",
    "plt.xlabel('Predicted Class', fontsize=fontsize)\n",
    "plt.ylabel(' ', fontsize=fontsize)\n",
    "plt.ylim([0, 1])\n",
    "plt.legend(loc=4, fontsize=fontsize)\n",
    "plt.xticks(fontsize=fontsize)\n",
    "plt.yticks(fontsize=fontsize)\n",
    "plt.tick_params(labelleft=False)\n",
    "plt.show()\n",
    "print(np.mean(preds_class_all))\n",
    "print(mean_prob)\n",
    "fig.savefig(\"5.png\", bbox_inches='tight', dpi=300, transparent=True)"
   ]
  },
  {
   "cell_type": "code",
   "execution_count": 30,
   "metadata": {},
   "outputs": [
    {
     "data": {
      "image/png": "[encoded data removed]",
      "text/plain": [
       "<Figure size 72x216 with 1 Axes>"
      ]
     },
     "metadata": {},
     "output_type": "display_data"
    }
   ],
   "source": [
    "sns.set(rc={'figure.figsize':(1,3)})\n",
    "kcls = 10\n",
    "acc_cls = []\n",
    "preds_all = np.array(cnn_pred[['class_0', 'class_1', 'class_2', 'class_3', 'class_4', 'class_5', 'class_6', 'class_7', 'class_8', 'class_9']])\n",
    "# get the prediction acc / average of recall\n",
    "for label in range(kcls):\n",
    "    targets = np.array(cnn_pred['target_' + str(label)])\n",
    "    targets_y1 = np.where(targets==1)[0]\n",
    "    preds_class = preds_all[targets_y1, :]\n",
    "    preds_class_argmax = np.argmax(np.array(preds_class), axis = 1)\n",
    "    acc_cls.append(np.sum(preds_class_argmax == label) / len(preds_class))\n",
    "\n",
    "sns.set(rc={'figure.figsize':(1,3)})\n",
    "d = {'prob': preds_class_all, 'class': np.zeros(targets_all.shape)}\n",
    "df = pd.DataFrame(data=d)\n",
    "dacc = {'prob': np.mean(acc_cls), 'class': np.zeros(1)}\n",
    "dfacc = pd.DataFrame(data=dacc)\n",
    "\n",
    "fontsize = 20\n",
    "fig, ax1 = plt.subplots()\n",
    "sns.barplot(ax=ax1, x='class', y='prob', data=df, color = 'skyblue', label='Average Confidence')\n",
    "sns.barplot(ax=ax1, x='class', y='prob', data=dfacc, facecolor=(1, 1, 1, 0), edgecolor=\".1\", label='Accuracy')\n",
    "\n",
    "plt.xlabel(' ', fontsize=fontsize)\n",
    "plt.ylabel(' ', fontsize=fontsize)\n",
    "plt.ylabel('Accuracy/Confidence', fontsize=fontsize)\n",
    "plt.ylim([0, 1])\n",
    "plt.xticks(fontsize=fontsize)\n",
    "plt.yticks(fontsize=fontsize)\n",
    "plt.tick_params(labelbottom=False)\n",
    "plt.show()\n",
    "fig.savefig(\"6.png\", bbox_inches='tight', dpi=300, transparent=True)"
   ]
  },
  {
   "cell_type": "code",
   "execution_count": 31,
   "metadata": {},
   "outputs": [
    {
     "name": "stderr",
     "output_type": "stream",
     "text": [
      "100%|█████████████████████████████████████████████████████████████████| 19/19 [00:03<00:00,  4.85it/s]\n"
     ]
    }
   ],
   "source": [
    "# bring a test condition here.\n",
    "acc_results = []\n",
    "AC_results = []\n",
    "TS_results = []\n",
    "CSTS_results = []\n",
    "cifar_resultsdir = '/vol/biomedic3/zl9518/ModelEvaluation/LDAM-DRW/cifar10results/'\n",
    "corruptions = ['gaussian_noise', 'shot_noise' , 'impulse_noise', 'defocus_blur', 'glass_blur', \n",
    "               'motion_blur', 'zoom_blur', 'snow', 'frost', 'fog', 'brightness', 'contrast' , 'elastic_transform', \n",
    "               'pixelate', 'jpeg_compression', 'speckle_noise', 'gaussian_blur', 'spatter', 'saturate']\n",
    "\n",
    "for cname in tqdm(corruptions):\n",
    "    csvfilename = cifar_resultsdir + 'predictions_val_' + cname + '.csv'\n",
    "    cnn_pred_all = pd.read_csv(csvfilename)\n",
    "    for severity in range(5):\n",
    "        cnn_pred = cnn_pred_all.iloc[severity * 10000:(severity + 1) * 10000, :]\n",
    "        \n",
    "        kcls = 10\n",
    "        targets_all = np.array(cnn_pred[['target_0', 'target_1', 'target_2', 'target_3', 'target_4', 'target_5', 'target_6', 'target_7', 'target_8', 'target_9']])\n",
    "        logit_all = np.array(cnn_pred[['logit_0', 'logit_1', 'logit_2', 'logit_3', 'logit_4', 'logit_5', 'logit_6', 'logit_7', 'logit_8', 'logit_9']])\n",
    "        preds_all_argmax = np.argmax(logit_all, axis = 1)\n",
    "        # acc\n",
    "        target_class = np.argmax(targets_all, axis = 1)\n",
    "        pred_class = np.argmax(logit_all, axis = 1)\n",
    "        acc = np.sum(pred_class == target_class) / len(target_class)\n",
    "        prob = softmax(logit_all.transpose(), T = 1).transpose()\n",
    "        probmax = np.max(prob, axis = 1)\n",
    "        prob_Topt = softmax(logit_all.transpose(), T = learnT).transpose()\n",
    "        prob_Toptmax = np.max(prob_Topt, axis = 1)\n",
    "        acc_results.append(acc)\n",
    "        AC_results.append(np.mean(probmax))\n",
    "        TS_results.append(np.mean(prob_Toptmax))\n",
    "        targets_all = []\n",
    "        preds_class_all = []\n",
    "        for label in range(kcls):\n",
    "            preds_all = softmax(logit_all.transpose(), T = learnTs[label]).transpose()\n",
    "            preds_all_max = np.max(preds_all, axis = 1)\n",
    "            targets_y1 = np.where(preds_all_argmax==label)[0]\n",
    "            preds_class = preds_all_max[targets_y1]\n",
    "\n",
    "            preds_class_all = np.concatenate((preds_class_all, preds_class), axis=0)\n",
    "        CSTS_results.append(np.mean(preds_class_all))"
   ]
  },
  {
   "cell_type": "code",
   "execution_count": 32,
   "metadata": {},
   "outputs": [
    {
     "name": "stdout",
     "output_type": "stream",
     "text": [
      "AC_results:\n",
      "0.31302850098791185\n",
      "TS_results:\n",
      "0.05689427230773313\n",
      "CSTS_results:\n",
      "0.054954298758242\n"
     ]
    }
   ],
   "source": [
    "print('AC_results:')\n",
    "print(np.mean(np.abs(np.array(acc_results)-np.array(AC_results))))\n",
    "print('TS_results:')\n",
    "print(np.mean(np.abs(np.array(acc_results)-np.array(TS_results))))\n",
    "print('CSTS_results:')\n",
    "print(np.mean(np.abs(np.array(acc_results)-np.array(CSTS_results))))"
   ]
  },
  {
   "cell_type": "code",
   "execution_count": 33,
   "metadata": {},
   "outputs": [
    {
     "name": "stdout",
     "output_type": "stream",
     "text": [
      "[0.651, 0.5639, 0.4721, 0.438, 0.3986, 0.6829, 0.6401, 0.5331, 0.4997, 0.425, 0.6382, 0.581, 0.5246, 0.4258, 0.3512, 0.6961, 0.6573, 0.5855, 0.503, 0.3783, 0.3993, 0.4042, 0.4291, 0.3289, 0.3513, 0.5843, 0.5045, 0.4507, 0.4459, 0.401, 0.5696, 0.5354, 0.4922, 0.4521, 0.3986, 0.6483, 0.5721, 0.5854, 0.5653, 0.54, 0.6728, 0.6226, 0.5513, 0.5409, 0.4748, 0.6854, 0.6458, 0.6054, 0.5586, 0.4614, 0.7047, 0.6975, 0.6886, 0.6744, 0.6319, 0.6767, 0.5734, 0.494, 0.3783, 0.1989, 0.6043, 0.5982, 0.5544, 0.4916, 0.4712, 0.6889, 0.6688, 0.6508, 0.5686, 0.4554, 0.6796, 0.637, 0.6214, 0.5974, 0.5686, 0.6801, 0.6137, 0.5785, 0.5091, 0.447, 0.6964, 0.585, 0.5002, 0.4219, 0.3055, 0.6712, 0.6143, 0.5644, 0.6253, 0.5731, 0.6752, 0.6559, 0.6974, 0.6676, 0.623]\n"
     ]
    }
   ],
   "source": [
    "print(acc_results)"
   ]
  },
  {
   "cell_type": "code",
   "execution_count": 34,
   "metadata": {},
   "outputs": [
    {
     "name": "stdout",
     "output_type": "stream",
     "text": [
      "[0.8768938289047543, 0.837108389877433, 0.8042482551633682, 0.7924244916383646, 0.7841384748680134, 0.8923598882268036, 0.8734436809775249, 0.8246622929684018, 0.8121906407070694, 0.7910475813026588, 0.8913638637234937, 0.8652425629593042, 0.8376033932662527, 0.7951425246138926, 0.7699623924260166, 0.9086157761566732, 0.9007210888659134, 0.8880728840496118, 0.8758626623043698, 0.8558056324709005, 0.8212118099296088, 0.8268701607727522, 0.825253173017265, 0.8181323275274984, 0.8087014787414917, 0.8949403192655, 0.8828286250172336, 0.8741018981876794, 0.8717841209665826, 0.8672806384667616, 0.8791042151836198, 0.877514365111139, 0.8705219892996149, 0.8658454850547948, 0.8545418469717173, 0.8936421798720414, 0.8581827377220492, 0.8671515599874541, 0.862831326866085, 0.8446643210122553, 0.898355460297235, 0.8780508560404494, 0.8517011558034937, 0.8488903200420435, 0.8157444346081698, 0.9088944492569421, 0.8982663396440106, 0.8891245210000807, 0.8791414812142608, 0.8502583650248956, 0.9116635765290539, 0.9119093835673945, 0.9105395791625922, 0.9063686896733639, 0.89776189662132, 0.9076518813526345, 0.887285790116767, 0.8721803495800085, 0.8412303202184692, 0.7129085644608616, 0.8857658278180829, 0.8883836422533219, 0.8822405133244597, 0.8743002784379923, 0.8675585681218466, 0.898697543977032, 0.8871065780502407, 0.8744634923072474, 0.8387110323331519, 0.8127918013076033, 0.8920618320877127, 0.8780834887342811, 0.8742877887709044, 0.8697643294907337, 0.8637573809855583, 0.895275940018897, 0.8648918226117683, 0.8490311810983745, 0.816015618794116, 0.7937331378366976, 0.9086493411745891, 0.8877120902036176, 0.8775117658652911, 0.867584953973892, 0.8543038363134571, 0.9018729420504842, 0.882876883911297, 0.8657732530674753, 0.8948087452854988, 0.8838529833477294, 0.9026108981441999, 0.8955421860161681, 0.9084305932242418, 0.8974345220611598, 0.8838785021944899]\n"
     ]
    }
   ],
   "source": [
    "print(AC_results)"
   ]
  },
  {
   "cell_type": "code",
   "execution_count": 35,
   "metadata": {},
   "outputs": [
    {
     "name": "stdout",
     "output_type": "stream",
     "text": [
      "[0.6272623038604255, 0.5534199576127247, 0.49592856660379786, 0.4755811393509783, 0.46090196067867084, 0.6624951853480968, 0.6209175830317167, 0.5360764646645102, 0.5105972855138613, 0.47481541594331056, 0.6566998855214617, 0.5978708364307403, 0.5449883124868313, 0.4683213877329503, 0.4287328663616697, 0.7025474934983739, 0.6833189664335477, 0.6521146832761106, 0.6150350974622916, 0.5584527172376893, 0.5180443906866569, 0.5242117509024344, 0.5274041495082346, 0.5030763251929926, 0.4983216465171991, 0.6642034484289119, 0.6311107500413472, 0.604594500465856, 0.6049609087068497, 0.582438374948789, 0.628881696574335, 0.6234775761340446, 0.6025660755026805, 0.5911144536464235, 0.5664231266614487, 0.662864360884118, 0.5851538101902953, 0.6050592338526403, 0.5944865863279252, 0.559570571040717, 0.6751283623859788, 0.631670222704502, 0.5792951566608936, 0.5720105286845472, 0.5215285802284169, 0.7022056279048705, 0.6789984217373237, 0.6541895241185818, 0.6264893006024916, 0.5645988002540947, 0.7089491021802066, 0.7072161655815755, 0.7016169558743469, 0.6925329138220834, 0.669618188973441, 0.6986943436294759, 0.6484765200520074, 0.6058804195014138, 0.5415780980959353, 0.382006633954674, 0.648320621702987, 0.6493314537286095, 0.6329756405763249, 0.6153316266471464, 0.5998002352918853, 0.6762613598399764, 0.6439343226954523, 0.6200795957173272, 0.5536892616936694, 0.5164480700824502, 0.6588634332822759, 0.6278699024141455, 0.6181489119314731, 0.609207990914609, 0.5968197259076382, 0.6637675595358098, 0.6036145748634546, 0.5747919790733901, 0.5196876234673539, 0.48280555509047374, 0.7025786697013413, 0.651110367746249, 0.6193858808410388, 0.5900814854922956, 0.5418569201004599, 0.6823600801654058, 0.6409133509640331, 0.5984038770973242, 0.6671916024657106, 0.635471891850119, 0.6818900479378832, 0.6662261355062253, 0.6999412105991649, 0.671777964801593, 0.6389230890987101]\n"
     ]
    }
   ],
   "source": [
    "print(TS_results)"
   ]
  },
  {
   "cell_type": "code",
   "execution_count": 36,
   "metadata": {},
   "outputs": [
    {
     "name": "stdout",
     "output_type": "stream",
     "text": [
      "[0.6553444670900808, 0.6152968924286655, 0.5995177505774462, 0.5995157959010894, 0.6068145851061995, 0.6833770644226781, 0.6554281417764621, 0.6080897998045748, 0.6005098499245652, 0.6010409459161689, 0.6496022543862455, 0.5971645778189916, 0.5648069420465673, 0.5406692133698189, 0.5518307609331128, 0.6979228434353023, 0.6669188226784114, 0.617558817126402, 0.5643754850525313, 0.4898111634435661, 0.5723927714201854, 0.5638921197158373, 0.5594287528525311, 0.5580567857380699, 0.5519658331999342, 0.6258312167918488, 0.5711950312447732, 0.5319773276036008, 0.5320245041840898, 0.4996921723255074, 0.5946849706983836, 0.5796462903105056, 0.5503692131192993, 0.5301431026690872, 0.4974381300745798, 0.6563136509631978, 0.6132050846812588, 0.6099993560661372, 0.5952159768373223, 0.584908853699324, 0.6774207111814683, 0.6385501328329687, 0.5993087428940428, 0.5972937213764274, 0.5709312932970217, 0.6953816913571486, 0.6617567975994391, 0.6268899290540229, 0.5906232272794015, 0.5248436837158799, 0.70700140893707, 0.7035967327114544, 0.6958513862826405, 0.6826337726240905, 0.6469227394665702, 0.6888465623322055, 0.6121309909994874, 0.5539739930675577, 0.4772354835476288, 0.3144465382644062, 0.6202173121001533, 0.6192124582734033, 0.5916782812210947, 0.5597131519000983, 0.5521172109605832, 0.6791779918820912, 0.6542315445448288, 0.6358990373677316, 0.5877655500369341, 0.5863278312154866, 0.6665753174541916, 0.634282830674437, 0.62119945803804, 0.607962795355317, 0.590870247983443, 0.6836662273696644, 0.6438590158344077, 0.6270414041174824, 0.6017180828288992, 0.5907879275578459, 0.6979446670463145, 0.6162689616956123, 0.565442338308208, 0.5210766280601521, 0.4572708329270658, 0.6776082566757446, 0.6322731042097215, 0.5877310998942359, 0.6491394698376575, 0.6132548196742489, 0.6777835914718223, 0.6586253969408691, 0.6960771879051324, 0.6641874110883884, 0.6216843587639196]\n"
     ]
    }
   ],
   "source": [
    "print(CSTS_results)"
   ]
  },
  {
   "cell_type": "code",
   "execution_count": 37,
   "metadata": {},
   "outputs": [
    {
     "data": {
      "image/png": "[encoded data removed]",
      "text/plain": [
       "<Figure size 432x216 with 1 Axes>"
      ]
     },
     "metadata": {},
     "output_type": "display_data"
    },
    {
     "name": "stdout",
     "output_type": "stream",
     "text": [
      "0.4572708329270658\n",
      "[0.33755660255056585, 0.3355780544369181, 0.4718232093267096, 0.4826387915850914, 0.5301678630604354, 0.57531372535828, 0.7305735352663512, 0.8026071471274951, 0.9096771744390043, 0.9580532116792801]\n"
     ]
    }
   ],
   "source": [
    "csvfilename = cifar_resultsdir + 'predictions_val_gaussian_blur.csv'\n",
    "cnn_pred_all = pd.read_csv(csvfilename)\n",
    "cnn_pred = cnn_pred_all.iloc[40000:50000, :]\n",
    "sns.set(rc={'figure.figsize':(6,3)})\n",
    "kcls = 10\n",
    "preds_class_all = []\n",
    "acc_cls = []\n",
    "cls_num = []\n",
    "targets_all = []\n",
    "mean_prob = []\n",
    "logit_all = np.array(cnn_pred[['logit_0', 'logit_1', 'logit_2', 'logit_3', 'logit_4', 'logit_5', 'logit_6', 'logit_7', 'logit_8', 'logit_9']])\n",
    "preds_all_argmax = np.argmax(logit_all, axis = 1)\n",
    "class_all = np.array(cnn_pred[['target_0', 'target_1', 'target_2', 'target_3', 'target_4', 'target_5', 'target_6', 'target_7', 'target_8', 'target_9']])\n",
    "class_all_argmax = np.argmax(class_all, axis = 1)\n",
    "for label in range(kcls):\n",
    "    preds_all = softmax(logit_all.transpose(), T = learnTs[label]).transpose()\n",
    "    preds_all_max = np.max(preds_all, axis = 1)\n",
    "    targets_y1 = np.where(preds_all_argmax==label)[0]\n",
    "    preds_class = preds_all_max[targets_y1]\n",
    "    \n",
    "    preds_class_all = np.concatenate((preds_class_all, preds_class), axis=0)\n",
    "    targets_all = np.concatenate((targets_all, np.ones(len(preds_class)) * label), axis=0)\n",
    "    mean_prob.append(np.mean(preds_class))\n",
    "        \n",
    "    preds_realclass = class_all_argmax[targets_y1]\n",
    "    acc_cls.append(np.sum(preds_realclass == label) / len(targets_y1))\n",
    "    cls_num.append(label)\n",
    "# Build the data structure\n",
    "d = {'prob': preds_class_all, 'class': targets_all}\n",
    "df = pd.DataFrame(data=d)\n",
    "dacc = {'prob': acc_cls, 'class': cls_num}\n",
    "dfacc = pd.DataFrame(data=dacc)\n",
    "\n",
    "fontsize = 20\n",
    "fig, ax1 = plt.subplots()\n",
    "ax1 = sns.barplot(x='class', y='prob', data=df, color = 'skyblue', label='Calibrated Confidence')\n",
    "plt.legend()\n",
    "# ax2 = ax1.twinx()\n",
    "ax1 = sns.barplot(x='class', y='prob', data=dfacc, facecolor=(1, 1, 1, 0), edgecolor=\".1\", label='Accuracy')\n",
    "\n",
    "plt.xlabel('Predicted Class', fontsize=fontsize)\n",
    "plt.ylabel(' ', fontsize=fontsize)\n",
    "plt.ylim([0, 1])\n",
    "plt.legend(loc=4, fontsize=fontsize)\n",
    "plt.xticks(fontsize=fontsize)\n",
    "plt.yticks(fontsize=fontsize)\n",
    "plt.tick_params(labelleft=False)\n",
    "plt.show()\n",
    "print(np.mean(preds_class_all))\n",
    "print(mean_prob)\n",
    "fig.savefig(\"7.png\", bbox_inches='tight', dpi=300, transparent=True)"
   ]
  },
  {
   "cell_type": "code",
   "execution_count": 38,
   "metadata": {},
   "outputs": [
    {
     "data": {
      "image/png": "[encoded data removed]",
      "text/plain": [
       "<Figure size 72x216 with 1 Axes>"
      ]
     },
     "metadata": {},
     "output_type": "display_data"
    }
   ],
   "source": [
    "sns.set(rc={'figure.figsize':(1,3)})\n",
    "kcls = 10\n",
    "acc_cls = []\n",
    "preds_all = np.array(cnn_pred[['class_0', 'class_1', 'class_2', 'class_3', 'class_4', 'class_5', 'class_6', 'class_7', 'class_8', 'class_9']])\n",
    "# get the prediction acc / average of recall\n",
    "for label in range(kcls):\n",
    "    targets = np.array(cnn_pred['target_' + str(label)])\n",
    "    targets_y1 = np.where(targets==1)[0]\n",
    "    preds_class = preds_all[targets_y1, :]\n",
    "    preds_class_argmax = np.argmax(np.array(preds_class), axis = 1)\n",
    "    acc_cls.append(np.sum(preds_class_argmax == label) / len(preds_class))\n",
    "\n",
    "sns.set(rc={'figure.figsize':(1,3)})\n",
    "d = {'prob': preds_class_all, 'class': np.zeros(targets_all.shape)}\n",
    "df = pd.DataFrame(data=d)\n",
    "dacc = {'prob': np.mean(acc_cls), 'class': np.zeros(1)}\n",
    "dfacc = pd.DataFrame(data=dacc)\n",
    "\n",
    "fontsize = 20\n",
    "fig, ax1 = plt.subplots()\n",
    "sns.barplot(ax=ax1, x='class', y='prob', data=df, color = 'skyblue', label='Average Confidence')\n",
    "sns.barplot(ax=ax1, x='class', y='prob', data=dfacc, facecolor=(1, 1, 1, 0), edgecolor=\".1\", label='Accuracy')\n",
    "\n",
    "plt.xlabel(' ', fontsize=fontsize)\n",
    "plt.ylabel(' ', fontsize=fontsize)\n",
    "plt.ylabel('Accuracy/Confidence', fontsize=fontsize)\n",
    "plt.ylim([0, 1])\n",
    "plt.xticks(fontsize=fontsize)\n",
    "plt.yticks(fontsize=fontsize)\n",
    "plt.tick_params(labelbottom=False)\n",
    "plt.show()\n",
    "fig.savefig(\"8.png\", bbox_inches='tight', dpi=300, transparent=True)"
   ]
  },
  {
   "cell_type": "code",
   "execution_count": 41,
   "metadata": {},
   "outputs": [
    {
     "data": {
      "image/png": "[encoded data removed]",
      "text/plain": [
       "<Figure size 432x216 with 1 Axes>"
      ]
     },
     "metadata": {},
     "output_type": "display_data"
    },
    {
     "name": "stdout",
     "output_type": "stream",
     "text": [
      "0.54185692010046\n",
      "[0.5252574031972175, 0.5256158579119224, 0.48314031478002994, 0.5746519491074644, 0.43599417235952065, 0.4556001939423892, 0.43234378421653347, 0.4146600725706465, 0.4707125103458141, 0.3446319952961765]\n"
     ]
    }
   ],
   "source": [
    "csvfilename = cifar_resultsdir + 'predictions_val_gaussian_blur.csv'\n",
    "cnn_pred_all = pd.read_csv(csvfilename)\n",
    "cnn_pred = cnn_pred_all.iloc[40000:50000, :]\n",
    "sns.set(rc={'figure.figsize':(6,3)})\n",
    "kcls = 10\n",
    "preds_class_all = []\n",
    "acc_cls = []\n",
    "cls_num = []\n",
    "targets_all = []\n",
    "mean_prob = []\n",
    "logit_all = np.array(cnn_pred[['logit_0', 'logit_1', 'logit_2', 'logit_3', 'logit_4', 'logit_5', 'logit_6', 'logit_7', 'logit_8', 'logit_9']])\n",
    "preds_all_argmax = np.argmax(logit_all, axis = 1)\n",
    "class_all = np.array(cnn_pred[['target_0', 'target_1', 'target_2', 'target_3', 'target_4', 'target_5', 'target_6', 'target_7', 'target_8', 'target_9']])\n",
    "class_all_argmax = np.argmax(class_all, axis = 1)\n",
    "for label in range(kcls):\n",
    "    preds_all = softmax(logit_all.transpose(), T = learnT).transpose()\n",
    "    preds_all_max = np.max(preds_all, axis = 1)\n",
    "    targets_y1 = np.where(preds_all_argmax==label)[0]\n",
    "    preds_class = preds_all_max[targets_y1]\n",
    "    \n",
    "    preds_class_all = np.concatenate((preds_class_all, preds_class), axis=0)\n",
    "    targets_all = np.concatenate((targets_all, np.ones(len(preds_class)) * label), axis=0)\n",
    "    mean_prob.append(np.mean(preds_class))\n",
    "        \n",
    "    preds_realclass = class_all_argmax[targets_y1]\n",
    "    acc_cls.append(np.sum(preds_realclass == label) / len(targets_y1))\n",
    "    cls_num.append(label)\n",
    "# Build the data structure\n",
    "d = {'prob': preds_class_all, 'class': targets_all}\n",
    "df = pd.DataFrame(data=d)\n",
    "dacc = {'prob': acc_cls, 'class': cls_num}\n",
    "dfacc = pd.DataFrame(data=dacc)\n",
    "\n",
    "fontsize = 20\n",
    "fig, ax1 = plt.subplots()\n",
    "ax1 = sns.barplot(x='class', y='prob', data=df, color = 'skyblue', label='Calibrated Confidence')\n",
    "plt.legend()\n",
    "# ax2 = ax1.twinx()\n",
    "ax1 = sns.barplot(x='class', y='prob', data=dfacc, facecolor=(1, 1, 1, 0), edgecolor=\".1\", label='Accuracy')\n",
    "\n",
    "plt.xlabel('Predicted Class', fontsize=fontsize)\n",
    "plt.ylabel(' ', fontsize=fontsize)\n",
    "plt.ylim([0, 1])\n",
    "plt.legend(loc=4, fontsize=fontsize)\n",
    "plt.xticks(fontsize=fontsize)\n",
    "plt.yticks(fontsize=fontsize)\n",
    "plt.tick_params(labelleft=False)\n",
    "plt.show()\n",
    "print(np.mean(preds_class_all))\n",
    "print(mean_prob)\n",
    "fig.savefig(\"9.png\", bbox_inches='tight', dpi=300, transparent=True)"
   ]
  },
  {
   "cell_type": "code",
   "execution_count": 40,
   "metadata": {},
   "outputs": [
    {
     "data": {
      "image/png": "[encoded data removed]",
      "text/plain": [
       "<Figure size 72x216 with 1 Axes>"
      ]
     },
     "metadata": {},
     "output_type": "display_data"
    }
   ],
   "source": [
    "sns.set(rc={'figure.figsize':(1,3)})\n",
    "kcls = 10\n",
    "acc_cls = []\n",
    "preds_all = np.array(cnn_pred[['class_0', 'class_1', 'class_2', 'class_3', 'class_4', 'class_5', 'class_6', 'class_7', 'class_8', 'class_9']])\n",
    "# get the prediction acc / average of recall\n",
    "for label in range(kcls):\n",
    "    targets = np.array(cnn_pred['target_' + str(label)])\n",
    "    targets_y1 = np.where(targets==1)[0]\n",
    "    preds_class = preds_all[targets_y1, :]\n",
    "    preds_class_argmax = np.argmax(np.array(preds_class), axis = 1)\n",
    "    acc_cls.append(np.sum(preds_class_argmax == label) / len(preds_class))\n",
    "\n",
    "sns.set(rc={'figure.figsize':(1,3)})\n",
    "d = {'prob': preds_class_all, 'class': np.zeros(targets_all.shape)}\n",
    "df = pd.DataFrame(data=d)\n",
    "dacc = {'prob': np.mean(acc_cls), 'class': np.zeros(1)}\n",
    "dfacc = pd.DataFrame(data=dacc)\n",
    "\n",
    "fontsize = 20\n",
    "fig, ax1 = plt.subplots()\n",
    "sns.barplot(ax=ax1, x='class', y='prob', data=df, color = 'skyblue', label='Average Confidence')\n",
    "sns.barplot(ax=ax1, x='class', y='prob', data=dfacc, facecolor=(1, 1, 1, 0), edgecolor=\".1\", label='Accuracy')\n",
    "\n",
    "plt.xlabel(' ', fontsize=fontsize)\n",
    "plt.ylabel('Accuracy/Confidence', fontsize=fontsize)\n",
    "plt.ylim([0, 1])\n",
    "plt.xticks(fontsize=fontsize)\n",
    "plt.yticks(fontsize=fontsize)\n",
    "plt.tick_params(labelbottom=False)\n",
    "plt.show()\n",
    "fig.savefig(\"10.png\", bbox_inches='tight', dpi=300, transparent=True)"
   ]
  },
  {
   "cell_type": "code",
   "execution_count": null,
   "metadata": {},
   "outputs": [],
   "source": []
  }
 ],
 "metadata": {
  "kernelspec": {
   "display_name": "IW",
   "language": "python",
   "name": "iw"
  },
  "language_info": {
   "codemirror_mode": {
    "name": "ipython",
    "version": 3
   },
   "file_extension": ".py",
   "mimetype": "text/x-python",
   "name": "python",
   "nbconvert_exporter": "python",
   "pygments_lexer": "ipython3",
   "version": "3.9.7"
  }
 },
 "nbformat": 4,
 "nbformat_minor": 2
}
