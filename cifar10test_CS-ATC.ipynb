{
 "cells": [
  {
   "cell_type": "code",
   "execution_count": 2,
   "metadata": {},
   "outputs": [],
   "source": [
    "import os\n",
    "import seaborn as sns\n",
    "import pandas as pd\n",
    "import numpy as np\n",
    "from tqdm import tqdm\n",
    "import matplotlib.pyplot as plt"
   ]
  },
  {
   "cell_type": "code",
   "execution_count": 3,
   "metadata": {},
   "outputs": [],
   "source": [
    "def softmax(x, T = 1):\n",
    "    \"\"\"Compute softmax values for each sets of scores in x.\"\"\"\n",
    "    return np.exp(x / T) / np.sum(np.exp(x / T), axis=0)"
   ]
  },
  {
   "cell_type": "code",
   "execution_count": 4,
   "metadata": {},
   "outputs": [],
   "source": [
    "cifar_resultsdir = '/vol/biomedic3/zl9518/ModelEvaluation/LDAM-DRW/cifar10results/'\n",
    "cnn_pred = pd.read_csv(cifar_resultsdir + 'predictions_val.csv')"
   ]
  },
  {
   "cell_type": "code",
   "execution_count": 193,
   "metadata": {},
   "outputs": [
    {
     "name": "stdout",
     "output_type": "stream",
     "text": [
      "0.7054\n",
      "0.9106864566517481\n",
      "0.706\n"
     ]
    }
   ],
   "source": [
    "kcls = 10\n",
    "targets_all = np.array(cnn_pred[['target_0', 'target_1', 'target_2', 'target_3', 'target_4', 'target_5', 'target_6', 'target_7', 'target_8', 'target_9']])\n",
    "logit_all = np.array(cnn_pred[['logit_0', 'logit_1', 'logit_2', 'logit_3', 'logit_4', 'logit_5', 'logit_6', 'logit_7', 'logit_8', 'logit_9']])\n",
    "preds_all_argmax = np.argmax(logit_all, axis = 1)\n",
    "# acc\n",
    "target_class = np.argmax(targets_all, axis = 1)\n",
    "pred_class = np.argmax(logit_all, axis = 1)\n",
    "acc = np.sum(pred_class == target_class) / len(target_class)\n",
    "prob = softmax(logit_all.transpose(), T = 1).transpose()\n",
    "probmax = np.max(prob, axis = 1)\n",
    "threshold = 0.928\n",
    "acc_appr = np.sum(probmax > threshold) / len(target_class)\n",
    "print(acc)\n",
    "print(np.mean(probmax))\n",
    "print(acc_appr)"
   ]
  },
  {
   "cell_type": "code",
   "execution_count": 152,
   "metadata": {},
   "outputs": [
    {
     "name": "stdout",
     "output_type": "stream",
     "text": [
      "cls 0\n",
      "0.5130111524163569\n",
      "0.9225970527876363\n",
      "0.5220392989909719\n",
      "cls 1\n",
      "0.667574931880109\n",
      "0.9465175121023574\n",
      "0.6750681198910081\n",
      "cls 2\n",
      "0.6723577235772358\n",
      "0.8975987002607149\n",
      "0.6723577235772358\n",
      "cls 3\n",
      "0.5485674353598882\n",
      "0.8778312932453294\n",
      "0.5499650593990216\n",
      "cls 4\n",
      "0.7966976264189887\n",
      "0.9152566261328222\n",
      "0.7966976264189887\n",
      "cls 5\n",
      "0.7688504326328801\n",
      "0.8755787630858152\n",
      "0.7688504326328801\n",
      "cls 6\n",
      "0.920881971465629\n",
      "0.9290975108112881\n",
      "0.920881971465629\n",
      "cls 7\n",
      "0.9548494983277592\n",
      "0.9130334698715659\n",
      "0.9548494983277592\n",
      "cls 8\n",
      "0.9671717171717171\n",
      "0.9070707221184109\n",
      "0.9671717171717171\n",
      "cls 9\n",
      "0.9842696629213483\n",
      "0.9059517630576093\n",
      "0.9842696629213483\n"
     ]
    }
   ],
   "source": [
    "# choose TS for different classes, manually\n",
    "label = 0\n",
    "targets_y1 = np.where(preds_all_argmax==label)[0]\n",
    "target_class = np.argmax(targets_all, axis = 1)[targets_y1]\n",
    "pred_class = np.argmax(logit_all, axis = 1)[targets_y1]\n",
    "acc = np.sum(pred_class == target_class) / len(target_class)\n",
    "prob = softmax(logit_all.transpose(), T = 1).transpose()[targets_y1]\n",
    "probmax = np.max(prob, axis = 1)\n",
    "threshold = 0.997\n",
    "acc_appr = np.sum(probmax > threshold) / len(target_class)\n",
    "print('cls ' + str(label))\n",
    "print(acc)\n",
    "print(np.mean(probmax))\n",
    "print(acc_appr)\n",
    "label = 1\n",
    "targets_y1 = np.where(preds_all_argmax==label)[0]\n",
    "target_class = np.argmax(targets_all, axis = 1)[targets_y1]\n",
    "pred_class = np.argmax(logit_all, axis = 1)[targets_y1]\n",
    "acc = np.sum(pred_class == target_class) / len(target_class)\n",
    "prob = softmax(logit_all.transpose(), T = 1).transpose()[targets_y1]\n",
    "probmax = np.max(prob, axis = 1)\n",
    "threshold = 0.998\n",
    "acc_appr = np.sum(probmax > threshold) / len(target_class)\n",
    "print('cls ' + str(label))\n",
    "print(acc)\n",
    "print(np.mean(probmax))\n",
    "print(acc_appr)\n",
    "label = 2\n",
    "targets_y1 = np.where(preds_all_argmax==label)[0]\n",
    "target_class = np.argmax(targets_all, axis = 1)[targets_y1]\n",
    "pred_class = np.argmax(logit_all, axis = 1)[targets_y1]\n",
    "acc = np.sum(pred_class == target_class) / len(target_class)\n",
    "prob = softmax(logit_all.transpose(), T = 1).transpose()[targets_y1]\n",
    "probmax = np.max(prob, axis = 1)\n",
    "threshold = 0.927\n",
    "acc_appr = np.sum(probmax > threshold) / len(target_class)\n",
    "print('cls ' + str(label))\n",
    "print(acc)\n",
    "print(np.mean(probmax))\n",
    "print(acc_appr)\n",
    "label = 3\n",
    "targets_y1 = np.where(preds_all_argmax==label)[0]\n",
    "target_class = np.argmax(targets_all, axis = 1)[targets_y1]\n",
    "pred_class = np.argmax(logit_all, axis = 1)[targets_y1]\n",
    "acc = np.sum(pred_class == target_class) / len(target_class)\n",
    "prob = softmax(logit_all.transpose(), T = 1).transpose()[targets_y1]\n",
    "probmax = np.max(prob, axis = 1)\n",
    "threshold = 0.960\n",
    "acc_appr = np.sum(probmax > threshold) / len(target_class)\n",
    "print('cls ' + str(label))\n",
    "print(acc)\n",
    "print(np.mean(probmax))\n",
    "print(acc_appr)\n",
    "label = 4\n",
    "targets_y1 = np.where(preds_all_argmax==label)[0]\n",
    "target_class = np.argmax(targets_all, axis = 1)[targets_y1]\n",
    "pred_class = np.argmax(logit_all, axis = 1)[targets_y1]\n",
    "acc = np.sum(pred_class == target_class) / len(target_class)\n",
    "prob = softmax(logit_all.transpose(), T = 1).transpose()[targets_y1]\n",
    "probmax = np.max(prob, axis = 1)\n",
    "threshold = 0.840\n",
    "acc_appr = np.sum(probmax > threshold) / len(target_class)\n",
    "print('cls ' + str(label))\n",
    "print(acc)\n",
    "print(np.mean(probmax))\n",
    "print(acc_appr)\n",
    "label = 5\n",
    "targets_y1 = np.where(preds_all_argmax==label)[0]\n",
    "target_class = np.argmax(targets_all, axis = 1)[targets_y1]\n",
    "pred_class = np.argmax(logit_all, axis = 1)[targets_y1]\n",
    "acc = np.sum(pred_class == target_class) / len(target_class)\n",
    "prob = softmax(logit_all.transpose(), T = 1).transpose()[targets_y1]\n",
    "probmax = np.max(prob, axis = 1)\n",
    "threshold = 0.764\n",
    "acc_appr = np.sum(probmax > threshold) / len(target_class)\n",
    "print('cls ' + str(label))\n",
    "print(acc)\n",
    "print(np.mean(probmax))\n",
    "print(acc_appr)\n",
    "label = 6\n",
    "targets_y1 = np.where(preds_all_argmax==label)[0]\n",
    "target_class = np.argmax(targets_all, axis = 1)[targets_y1]\n",
    "pred_class = np.argmax(logit_all, axis = 1)[targets_y1]\n",
    "acc = np.sum(pred_class == target_class) / len(target_class)\n",
    "prob = softmax(logit_all.transpose(), T = 1).transpose()[targets_y1]\n",
    "probmax = np.max(prob, axis = 1)\n",
    "threshold = 0.670\n",
    "acc_appr = np.sum(probmax > threshold) / len(target_class)\n",
    "print('cls ' + str(label))\n",
    "print(acc)\n",
    "print(np.mean(probmax))\n",
    "print(acc_appr)\n",
    "label = 7\n",
    "targets_y1 = np.where(preds_all_argmax==label)[0]\n",
    "target_class = np.argmax(targets_all, axis = 1)[targets_y1]\n",
    "pred_class = np.argmax(logit_all, axis = 1)[targets_y1]\n",
    "acc = np.sum(pred_class == target_class) / len(target_class)\n",
    "prob = softmax(logit_all.transpose(), T = 1).transpose()[targets_y1]\n",
    "probmax = np.max(prob, axis = 1)\n",
    "threshold = 0.535\n",
    "acc_appr = np.sum(probmax > threshold) / len(target_class)\n",
    "print('cls ' + str(label))\n",
    "print(acc)\n",
    "print(np.mean(probmax))\n",
    "print(acc_appr)\n",
    "label = 8\n",
    "targets_y1 = np.where(preds_all_argmax==label)[0]\n",
    "target_class = np.argmax(targets_all, axis = 1)[targets_y1]\n",
    "pred_class = np.argmax(logit_all, axis = 1)[targets_y1]\n",
    "acc = np.sum(pred_class == target_class) / len(target_class)\n",
    "prob = softmax(logit_all.transpose(), T = 1).transpose()[targets_y1]\n",
    "probmax = np.max(prob, axis = 1)\n",
    "threshold = 0.547\n",
    "acc_appr = np.sum(probmax > threshold) / len(target_class)\n",
    "print('cls ' + str(label))\n",
    "print(acc)\n",
    "print(np.mean(probmax))\n",
    "print(acc_appr)\n",
    "label = 9\n",
    "targets_y1 = np.where(preds_all_argmax==label)[0]\n",
    "target_class = np.argmax(targets_all, axis = 1)[targets_y1]\n",
    "pred_class = np.argmax(logit_all, axis = 1)[targets_y1]\n",
    "acc = np.sum(pred_class == target_class) / len(target_class)\n",
    "prob = softmax(logit_all.transpose(), T = 1).transpose()[targets_y1]\n",
    "probmax = np.max(prob, axis = 1)\n",
    "threshold = 0.395\n",
    "acc_appr = np.sum(probmax > threshold) / len(target_class)\n",
    "print('cls ' + str(label))\n",
    "print(acc)\n",
    "print(np.mean(probmax))\n",
    "print(acc_appr)"
   ]
  },
  {
   "cell_type": "code",
   "execution_count": 6,
   "metadata": {},
   "outputs": [],
   "source": [
    "learnT = 0.928\n",
    "learnTs = [0.997, 0.998, 0.927, 0.960, 0.840, 0.764, 0.670, 0.535, 0.547, 0.395]\n",
    "# learnT = 0.93\n",
    "# learnTs = [0.99, 0.99, 0.93, 0.96, 0.84, 0.76, 0.67, 0.54, 0.55, 0.40]"
   ]
  },
  {
   "cell_type": "code",
   "execution_count": 15,
   "metadata": {},
   "outputs": [
    {
     "name": "stderr",
     "output_type": "stream",
     "text": [
      "100%|███████████████████████████████████████████████████████████████████████████████████████████████████████████| 19/19 [00:03<00:00,  5.55it/s]\n"
     ]
    }
   ],
   "source": [
    "# bring a test condition here.\n",
    "acc_results = []\n",
    "AC_results = []\n",
    "ATC_results = []\n",
    "CSATC_results = []\n",
    "cifar_resultsdir = '/vol/biomedic3/zl9518/ModelEvaluation/LDAM-DRW/cifar10results/'\n",
    "corruptions = ['gaussian_noise', 'shot_noise' , 'impulse_noise', 'defocus_blur', 'glass_blur', \n",
    "               'motion_blur', 'zoom_blur', 'snow', 'frost', 'fog', 'brightness', 'contrast' , 'elastic_transform', \n",
    "               'pixelate', 'jpeg_compression', 'speckle_noise', 'gaussian_blur', 'spatter', 'saturate']\n",
    "\n",
    "for cname in tqdm(corruptions):\n",
    "    csvfilename = cifar_resultsdir + 'predictions_val_' + cname + '.csv'\n",
    "    cnn_pred_all = pd.read_csv(csvfilename)\n",
    "    for severity in range(5):\n",
    "        cnn_pred = cnn_pred_all.iloc[severity * 10000:(severity + 1) * 10000, :]\n",
    "        \n",
    "        kcls = 10\n",
    "        targets_all = np.array(cnn_pred[['target_0', 'target_1', 'target_2', 'target_3', 'target_4', 'target_5', 'target_6', 'target_7', 'target_8', 'target_9']])\n",
    "        logit_all = np.array(cnn_pred[['logit_0', 'logit_1', 'logit_2', 'logit_3', 'logit_4', 'logit_5', 'logit_6', 'logit_7', 'logit_8', 'logit_9']])\n",
    "        preds_all_argmax = np.argmax(logit_all, axis = 1)\n",
    "        # acc\n",
    "        target_class = np.argmax(targets_all, axis = 1)\n",
    "        pred_class = np.argmax(logit_all, axis = 1)\n",
    "        acc = np.sum(pred_class == target_class) / len(target_class)\n",
    "        prob = softmax(logit_all.transpose(), T = 1).transpose()\n",
    "        probmax = np.max(prob, axis = 1)\n",
    "        acc_results.append(acc)\n",
    "        AC_results.append(np.mean(probmax))\n",
    "        ATC_results.append(np.sum(probmax > learnT) / len(target_class))\n",
    "        hit_cnt = 0\n",
    "        for label in range(kcls):\n",
    "            preds_all = softmax(logit_all.transpose(), T = 1).transpose()\n",
    "            preds_all_max = np.max(preds_all, axis = 1)\n",
    "            targets_y1 = np.where(preds_all_argmax==label)[0]\n",
    "            preds_class = preds_all_max[targets_y1]\n",
    "\n",
    "        #     print(np.sum(preds_class > learnTs[label]) / len(targets_y1))\n",
    "            hit_cnt += np.sum(preds_class > learnTs[label])\n",
    "        CSATC_results.append(hit_cnt / len(target_class))"
   ]
  },
  {
   "cell_type": "code",
   "execution_count": 16,
   "metadata": {},
   "outputs": [
    {
     "name": "stdout",
     "output_type": "stream",
     "text": [
      "AC_results:\n",
      "0.31302850098791185\n",
      "ATC_results:\n",
      "0.045514736842105274\n",
      "CSATC_results:\n",
      "0.02805052631578948\n"
     ]
    }
   ],
   "source": [
    "print('AC_results:')\n",
    "print(np.mean(np.abs(np.array(acc_results)-np.array(AC_results))))\n",
    "print('ATC_results:')\n",
    "print(np.mean(np.abs(np.array(acc_results)-np.array(ATC_results))))\n",
    "print('CSATC_results:')\n",
    "print(np.mean(np.abs(np.array(acc_results)-np.array(CSATC_results))))"
   ]
  },
  {
   "cell_type": "code",
   "execution_count": 17,
   "metadata": {},
   "outputs": [
    {
     "name": "stderr",
     "output_type": "stream",
     "text": [
      "100%|█████████████████████████████████████████████████████████████████████████████████████████████████████████████| 1/1 [00:00<00:00, 51.58it/s]\n"
     ]
    }
   ],
   "source": [
    "# bring a test condition here.\n",
    "acc_results = []\n",
    "AC_results = []\n",
    "ATC_results = []\n",
    "CSATC_results = []\n",
    "cifar_resultsdir = '/vol/biomedic3/zl9518/ModelEvaluation/LDAM-DRW/cifar10results/'\n",
    "corruptions = ['2']\n",
    "\n",
    "for cname in tqdm(corruptions):\n",
    "    csvfilename = cifar_resultsdir + 'predictions_val_' + cname + '.csv'\n",
    "    cnn_pred_all = pd.read_csv(csvfilename)\n",
    "    cnn_pred = cnn_pred_all\n",
    "\n",
    "    kcls = 10\n",
    "    targets_all = np.array(cnn_pred[['target_0', 'target_1', 'target_2', 'target_3', 'target_4', 'target_5', 'target_6', 'target_7', 'target_8', 'target_9']])\n",
    "    logit_all = np.array(cnn_pred[['logit_0', 'logit_1', 'logit_2', 'logit_3', 'logit_4', 'logit_5', 'logit_6', 'logit_7', 'logit_8', 'logit_9']])\n",
    "    preds_all_argmax = np.argmax(logit_all, axis = 1)\n",
    "    # acc\n",
    "    target_class = np.argmax(targets_all, axis = 1)\n",
    "    pred_class = np.argmax(logit_all, axis = 1)\n",
    "    acc = np.sum(pred_class == target_class) / len(target_class)\n",
    "    prob = softmax(logit_all.transpose(), T = 1).transpose()\n",
    "    probmax = np.max(prob, axis = 1)\n",
    "    acc_results.append(acc)\n",
    "    AC_results.append(np.mean(probmax))\n",
    "    ATC_results.append(np.sum(probmax > learnT) / len(target_class))\n",
    "    hit_cnt = 0\n",
    "    for label in range(kcls):\n",
    "        preds_all = softmax(logit_all.transpose(), T = 1).transpose()\n",
    "        preds_all_max = np.max(preds_all, axis = 1)\n",
    "        targets_y1 = np.where(preds_all_argmax==label)[0]\n",
    "        preds_class = preds_all_max[targets_y1]\n",
    "\n",
    "    #     print(np.sum(preds_class > learnTs[label]) / len(targets_y1))\n",
    "        hit_cnt += np.sum(preds_class > learnTs[label])\n",
    "    CSATC_results.append(hit_cnt / len(target_class))"
   ]
  },
  {
   "cell_type": "code",
   "execution_count": 18,
   "metadata": {},
   "outputs": [
    {
     "name": "stdout",
     "output_type": "stream",
     "text": [
      "AC_results:\n",
      "0.2663055219592222\n",
      "ATC_results:\n",
      "0.007500000000000062\n",
      "CSATC_results:\n",
      "0.01849999999999996\n"
     ]
    }
   ],
   "source": [
    "print('AC_results:')\n",
    "print(np.mean(np.abs(np.array(acc_results)-np.array(AC_results))))\n",
    "print('ATC_results:')\n",
    "print(np.mean(np.abs(np.array(acc_results)-np.array(ATC_results))))\n",
    "print('CSATC_results:')\n",
    "print(np.mean(np.abs(np.array(acc_results)-np.array(CSATC_results))))"
   ]
  },
  {
   "cell_type": "code",
   "execution_count": 10,
   "metadata": {},
   "outputs": [
    {
     "name": "stdout",
     "output_type": "stream",
     "text": [
      "[0.6136, 0.505, 0.4148, 0.3917, 0.3802, 0.6496, 0.5982, 0.4764, 0.4382, 0.3921, 0.6508, 0.5848, 0.5145, 0.4062, 0.3544, 0.7029, 0.6734, 0.6331, 0.5923, 0.5336, 0.459, 0.471, 0.4624, 0.4482, 0.422, 0.6522, 0.6177, 0.5911, 0.5876, 0.5683, 0.6074, 0.6025, 0.5759, 0.5658, 0.5335, 0.6601, 0.5534, 0.5847, 0.5726, 0.524, 0.6713, 0.6125, 0.5409, 0.5288, 0.4485, 0.6998, 0.6709, 0.6425, 0.6115, 0.5249, 0.7093, 0.7069, 0.7001, 0.6901, 0.6637, 0.6947, 0.6385, 0.5865, 0.5002, 0.2, 0.63, 0.6356, 0.6167, 0.5949, 0.5731, 0.6778, 0.6416, 0.6067, 0.5175, 0.4574, 0.6474, 0.612, 0.6038, 0.5929, 0.5682, 0.6565, 0.5793, 0.5346, 0.449, 0.3969, 0.7015, 0.633, 0.594, 0.5625, 0.521, 0.6813, 0.6306, 0.579, 0.6634, 0.6269, 0.6808, 0.6643, 0.6971, 0.6693, 0.6311]\n"
     ]
    }
   ],
   "source": [
    "print(ATC_results)"
   ]
  },
  {
   "cell_type": "code",
   "execution_count": 11,
   "metadata": {},
   "outputs": [
    {
     "name": "stdout",
     "output_type": "stream",
     "text": [
      "[0.6284, 0.5499, 0.5117, 0.5072, 0.5074, 0.6698, 0.6239, 0.5349, 0.5167, 0.506, 0.6417, 0.5642, 0.5017, 0.4365, 0.4322, 0.7007, 0.6637, 0.6057, 0.5416, 0.4416, 0.4893, 0.4848, 0.4792, 0.4675, 0.4586, 0.6183, 0.5521, 0.5016, 0.5043, 0.4589, 0.5775, 0.5583, 0.5232, 0.5011, 0.4489, 0.6517, 0.5704, 0.5815, 0.5634, 0.5325, 0.6766, 0.6205, 0.5501, 0.5469, 0.4902, 0.699, 0.6608, 0.6189, 0.5723, 0.4787, 0.7133, 0.7085, 0.6997, 0.6807, 0.6363, 0.6963, 0.6033, 0.5272, 0.413, 0.1017, 0.6075, 0.6066, 0.5818, 0.5332, 0.5258, 0.6804, 0.6499, 0.6172, 0.5345, 0.5082, 0.6636, 0.62, 0.6015, 0.5864, 0.5676, 0.6728, 0.6081, 0.5785, 0.5221, 0.4969, 0.7007, 0.6058, 0.543, 0.4825, 0.408, 0.6809, 0.6143, 0.5494, 0.6474, 0.5971, 0.6807, 0.656, 0.695, 0.6607, 0.6025]\n"
     ]
    }
   ],
   "source": [
    "print(CSATC_results)"
   ]
  },
  {
   "cell_type": "code",
   "execution_count": null,
   "metadata": {},
   "outputs": [],
   "source": []
  }
 ],
 "metadata": {
  "kernelspec": {
   "display_name": "IW",
   "language": "python",
   "name": "iw"
  },
  "language_info": {
   "codemirror_mode": {
    "name": "ipython",
    "version": 3
   },
   "file_extension": ".py",
   "mimetype": "text/x-python",
   "name": "python",
   "nbconvert_exporter": "python",
   "pygments_lexer": "ipython3",
   "version": "3.9.7"
  }
 },
 "nbformat": 4,
 "nbformat_minor": 2
}
