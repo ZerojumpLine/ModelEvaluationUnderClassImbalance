{
 "cells": [
  {
   "cell_type": "code",
   "execution_count": 47,
   "metadata": {},
   "outputs": [],
   "source": [
    "import os\n",
    "import seaborn as sns\n",
    "import nibabel as nib\n",
    "import numpy as np\n",
    "import pandas as pd\n",
    "from tqdm import tqdm\n",
    "import torch\n",
    "import matplotlib.pyplot as plt"
   ]
  },
  {
   "cell_type": "code",
   "execution_count": 48,
   "metadata": {},
   "outputs": [],
   "source": [
    "def softmax(x, T):\n",
    "    x = x / T\n",
    "    f = np.exp(x - np.max(x, axis = 0))  # shift values\n",
    "    return f / f.sum(axis = 0)\n",
    "\n",
    "def ComputMetric(ACTUAL, PREDICTED):\n",
    "    ACTUAL = ACTUAL.flatten()\n",
    "    PREDICTED = PREDICTED.flatten()\n",
    "    idxp = ACTUAL == True\n",
    "    idxn = ACTUAL == False\n",
    "\n",
    "    tp = np.sum(ACTUAL[idxp] == PREDICTED[idxp])\n",
    "    tn = np.sum(ACTUAL[idxn] == PREDICTED[idxn])\n",
    "    fp = np.sum(idxn) - tn\n",
    "    fn = np.sum(idxp) - tp\n",
    "    FPR = fp / (fp + tn)\n",
    "    if tp == 0 :\n",
    "        dice = 0\n",
    "        Precision = 0\n",
    "        Sensitivity = 0\n",
    "    else:\n",
    "        dice = 2 * tp / (2 * tp + fp + fn)\n",
    "        Precision = tp / (tp + fp)\n",
    "        Sensitivity = tp / (tp + fn)\n",
    "    return dice, Sensitivity, Precision"
   ]
  },
  {
   "cell_type": "code",
   "execution_count": 49,
   "metadata": {},
   "outputs": [],
   "source": [
    "def sum_tensor(inp, axes, keepdim=False):\n",
    "    axes = np.unique(axes).astype(int)\n",
    "    if keepdim:\n",
    "        for ax in axes:\n",
    "            inp = inp.sum(int(ax), keepdim=True)\n",
    "    else:\n",
    "        for ax in sorted(axes, reverse=True):\n",
    "            inp = inp.sum(int(ax))\n",
    "    return inp\n",
    "\n",
    "def get_tp_fp_fn(net_output, gt, axes=None, mask=None, square=False):\n",
    "    \"\"\"\n",
    "    net_output must be (b, c, x, y(, z)))\n",
    "    gt must be a label map (shape (b, 1, x, y(, z)) OR shape (b, x, y(, z))) or one hot encoding (b, c, x, y(, z))\n",
    "    if mask is provided it must have shape (b, 1, x, y(, z)))\n",
    "    :param net_output:\n",
    "    :param gt:\n",
    "    :param axes:\n",
    "    :param mask: mask must be 1 for valid pixels and 0 for invalid pixels\n",
    "    :param square: if True then fp, tp and fn will be squared before summation\n",
    "    :return:\n",
    "    \"\"\"\n",
    "    if axes is None:\n",
    "        axes = tuple(range(2, len(net_output.size())))\n",
    "\n",
    "    shp_x = net_output.shape\n",
    "    shp_y = gt.shape\n",
    "\n",
    "    with torch.no_grad():\n",
    "        if len(shp_x) != len(shp_y):\n",
    "            gt = gt.view((shp_y[0], 1, *shp_y[1:]))\n",
    "\n",
    "        if all([i == j for i, j in zip(net_output.shape, gt.shape)]):\n",
    "            # if this is the case then gt is probably already a one hot encoding\n",
    "            y_onehot = gt\n",
    "        else:\n",
    "            gt = gt.long()\n",
    "            y_onehot = torch.zeros(shp_x)\n",
    "            if net_output.device.type == \"cuda\":\n",
    "                y_onehot = y_onehot.cuda(net_output.device.index)\n",
    "            y_onehot.scatter_(1, gt, 1)\n",
    "\n",
    "    tp = net_output * y_onehot\n",
    "    fp = net_output * (1 - y_onehot)\n",
    "    fn = (1 - net_output) * y_onehot\n",
    "\n",
    "    if mask is not None:\n",
    "        tp = torch.stack(tuple(x_i * mask[:, 0] for x_i in torch.unbind(tp, dim=1)), dim=1)\n",
    "        fp = torch.stack(tuple(x_i * mask[:, 0] for x_i in torch.unbind(fp, dim=1)), dim=1)\n",
    "        fn = torch.stack(tuple(x_i * mask[:, 0] for x_i in torch.unbind(fn, dim=1)), dim=1)\n",
    "\n",
    "    if square:\n",
    "        tp = tp ** 2\n",
    "        fp = fp ** 2\n",
    "        fn = fn ** 2\n",
    "\n",
    "    tp = sum_tensor(tp, axes, keepdim=False)\n",
    "    fp = sum_tensor(fp, axes, keepdim=False)\n",
    "    fn = sum_tensor(fn, axes, keepdim=False)\n",
    "\n",
    "    return tp, fp, fn\n",
    "\n",
    "\n",
    "def SoftDiceLoss(x, y, loss_mask = None, smooth = 1e-5, batch_dice = False):\n",
    "    '''\n",
    "    Batch_dice means that we want to calculate the dsc of all batch\n",
    "    It would make more sense for small patchsize, aka DeepMedic based training.\n",
    "    '''\n",
    "    shp_x = x.shape\n",
    "    square = False\n",
    "\n",
    "    axes = [0] + list(range(2, len(shp_x)))\n",
    "    tp, fp, fn = get_tp_fp_fn(x, y, axes, loss_mask, square)\n",
    "    dc = (2 * tp + smooth) / (2 * tp + fp + fn + smooth)\n",
    "    dc_process = dc\n",
    "\n",
    "    return dc_process"
   ]
  },
  {
   "cell_type": "code",
   "execution_count": 58,
   "metadata": {},
   "outputs": [],
   "source": [
    "resultpath = '/vol/biomedic3/zl9518/ModelEvaluation/output/prostate/prostateval/'\n",
    "prostatevalpath = '/vol/biomedic3/zl9518/Prostatedata/datafiletestB/'"
   ]
  },
  {
   "cell_type": "code",
   "execution_count": 59,
   "metadata": {},
   "outputs": [],
   "source": [
    "DatafiletsImgc1 = prostatevalpath + 'seg-eval.txt'\n",
    "Imgfiletsc1 = open(DatafiletsImgc1)\n",
    "Imgreadc1 = Imgfiletsc1.read().splitlines()"
   ]
  },
  {
   "cell_type": "code",
   "execution_count": 6,
   "metadata": {
    "scrolled": false
   },
   "outputs": [
    {
     "name": "stderr",
     "output_type": "stream",
     "text": [
      "100%|█████████████████████████████████████████████████████████████████| 10/10 [00:13<00:00,  1.36s/it]"
     ]
    },
    {
     "name": "stdout",
     "output_type": "stream",
     "text": [
      "0.9960332029006206\n",
      "0.9983169080179795\n",
      "0.9590364072630848\n",
      "0.8925794874268455\n"
     ]
    },
    {
     "name": "stderr",
     "output_type": "stream",
     "text": [
      "\n"
     ]
    }
   ],
   "source": [
    "probs_all = []\n",
    "preds_class_all = []\n",
    "targets_all = []\n",
    "# probs_all_c0 = []\n",
    "# preds_class_all_c0 = []\n",
    "# targets_all_c0 = []\n",
    "# probs_all_c1 = []\n",
    "# preds_class_all_c1 = []\n",
    "# targets_all_c1 = []\n",
    "softDSCs = []\n",
    "realDSCs = []\n",
    "for Imgnamec1 in tqdm(Imgreadc1):\n",
    "    knamelist = Imgnamec1.split(\"/\")\n",
    "    kname = knamelist[-1][0:6]\n",
    "    \n",
    "    cls0filename = resultpath + '/results/pred_' + kname + 'cls0_prob.nii.gz'\n",
    "    cls1filename = resultpath + '/results/pred_' + kname + 'cls1_prob.nii.gz'\n",
    "    cls0read = nib.load(cls0filename)\n",
    "    cls1read = nib.load(cls1filename)\n",
    "    cls0logit = cls0read.get_fdata()\n",
    "    cls1logit = cls1read.get_fdata()\n",
    "    GTread = nib.load(Imgnamec1)\n",
    "    GTimg = GTread.get_fdata()\n",
    "    imgshape = GTimg.shape\n",
    "    cls0flatten = cls0logit.flatten()\n",
    "    cls1flatten = cls1logit.flatten()\n",
    "    clsflatten = np.stack((cls0flatten, cls1flatten))\n",
    "    GTflatten = GTimg.flatten()\n",
    "    probflatten = softmax(clsflatten, T = 1.0)\n",
    "    \n",
    "    pred_class = np.argmax(probflatten, axis = 0)\n",
    "    preds_class_all = np.concatenate((preds_class_all, pred_class), axis=0)\n",
    "    targets_all = np.concatenate((targets_all, GTflatten), axis=0)\n",
    "    probmax = np.max(probflatten, axis = 0)\n",
    "    probs_all = np.concatenate((probs_all, probmax), axis=0)\n",
    "\n",
    "    preds_all_argmax = np.argmax(clsflatten, axis = 0)\n",
    "    \n",
    "#     # for cls 0, BG class \n",
    "#     targets_y1 = np.where(preds_all_argmax==0)[0]\n",
    "#     probflatten_c0 = softmax(clsflatten[:, targets_y1], T = 1.0)\n",
    "#     pred_class_c0 = np.argmax(probflatten_c0, axis = 0)\n",
    "#     preds_class_all_c0 = np.concatenate((preds_class_all_c0, pred_class_c0), axis=0)\n",
    "    \n",
    "#     targets_all_c0 = np.concatenate((targets_all_c0, GTflatten[targets_y1]), axis=0)\n",
    "#     probmax_c0 = np.max(probflatten_c0, axis = 0)\n",
    "#     probs_all_c0 = np.concatenate((probs_all_c0, probmax_c0), axis=0)\n",
    "    \n",
    "#     # for cls 1, FG class\n",
    "#     targets_y1 = np.where(preds_all_argmax==1)[0]\n",
    "#     probflatten_c1 = softmax(clsflatten[:, targets_y1], T = 1.0)\n",
    "#     pred_class_c1 = np.argmax(probflatten_c1, axis = 0)\n",
    "#     preds_class_all_c1 = np.concatenate((preds_class_all_c1, pred_class_c1), axis=0)\n",
    "    \n",
    "#     targets_all_c1 = np.concatenate((targets_all_c1, GTflatten[targets_y1]), axis=0)\n",
    "#     probmax_c1 = np.max(probflatten_c1, axis = 0)\n",
    "#     probs_all_c1 = np.concatenate((probs_all_c1, probmax_c1), axis=0)\n",
    "\n",
    "    # for cls 0, BG class \n",
    "    targets_y1 = np.where(preds_all_argmax==0)[0]\n",
    "    probflatten[:, targets_y1] = softmax(clsflatten[:, targets_y1], T = 1.0)\n",
    "    # for cls 1, FG class\n",
    "    targets_y1 = np.where(preds_all_argmax==1)[0]\n",
    "    probflatten[:, targets_y1] = softmax(clsflatten[:, targets_y1], T = 1.0)\n",
    "    probr = probflatten.reshape((2, imgshape[0], imgshape[1], imgshape[2]))\n",
    "    probr_tensor = torch.tensor(probr[np.newaxis, ...])\n",
    "    GTimgf = np.argmax(probr, axis = 0)\n",
    "    GT_tensor = torch.tensor(GTimgf[np.newaxis, ...])\n",
    "    \n",
    "    softDSC = SoftDiceLoss(probr_tensor, GT_tensor)\n",
    "    softDSCs.append(softDSC[1].numpy())\n",
    "\n",
    "    realDSC, _, _ = ComputMetric(GTimg, np.argmax(probr, axis = 0))\n",
    "    realDSCs.append(realDSC)\n",
    "\n",
    "acc = np.sum(targets_all == preds_class_all) / len(targets_all)\n",
    "mean_prob = np.mean(probs_all)\n",
    "# acc_c0 = np.sum(targets_all_c0 == preds_class_all_c0) / len(targets_all_c0)\n",
    "# mean_prob_c0 = np.mean(probs_all_c0)\n",
    "# acc_c1 = np.sum(targets_all_c1 == preds_class_all_c1) / len(targets_all_c1)\n",
    "# mean_prob_c1 = np.mean(probs_all_c1)\n",
    "print(acc)\n",
    "print(mean_prob)\n",
    "# print(acc_c0)\n",
    "# print(mean_prob_c0)\n",
    "# print(acc_c1)\n",
    "# print(mean_prob_c1)\n",
    "msoftDSC = np.mean(softDSCs)\n",
    "mrealDSC = np.mean(realDSCs)\n",
    "print(msoftDSC)\n",
    "print(mrealDSC)"
   ]
  },
  {
   "cell_type": "code",
   "execution_count": 60,
   "metadata": {},
   "outputs": [
    {
     "name": "stderr",
     "output_type": "stream",
     "text": [
      "100%|█████████████████████████████████████████████████████████████████| 83/83 [19:04<00:00, 13.78s/it]\n"
     ]
    }
   ],
   "source": [
    "# 84 conditions\n",
    "softDSCs_AC = []\n",
    "softDSCs_DoC = []\n",
    "softDSCs_CSDoC = []\n",
    "realDSCs = []\n",
    "for kcon in tqdm(range(1, 84)):\n",
    "    softDSC_FG_AC = []\n",
    "    softDSC_FG_DoC = []\n",
    "    softDSC_FG_CSDoC = []\n",
    "    realDSC_FG = []\n",
    "    resultpath = '/vol/biomedic3/zl9518/ModelEvaluation/output/prostate/prostattestcondition_' + str(kcon) + '/'\n",
    "    for Imgnamec1 in Imgreadc1:\n",
    "        knamelist = Imgnamec1.split(\"/\")\n",
    "        kname = knamelist[-1][0:6]\n",
    "\n",
    "        cls0filename = resultpath + '/results/pred_' + kname + 'cls0_prob.nii.gz'\n",
    "        cls1filename = resultpath + '/results/pred_' + kname + 'cls1_prob.nii.gz'\n",
    "        cls0read = nib.load(cls0filename)\n",
    "        cls1read = nib.load(cls1filename)\n",
    "        cls0logit = cls0read.get_fdata()\n",
    "        cls1logit = cls1read.get_fdata()\n",
    "        GTread = nib.load(Imgnamec1)\n",
    "        GTimg = GTread.get_fdata()\n",
    "        imgshape = GTimg.shape\n",
    "        cls0flatten = cls0logit.flatten()\n",
    "        cls1flatten = cls1logit.flatten()\n",
    "        clsflatten = np.stack((cls0flatten, cls1flatten))\n",
    "        GTflatten = GTimg.flatten()\n",
    "        # By AC\n",
    "        probflatten = softmax(clsflatten, T = 1.0)\n",
    "        probr = probflatten.reshape((2, imgshape[0], imgshape[1], imgshape[2]))\n",
    "        probr_tensor = torch.tensor(probr[np.newaxis, ...])\n",
    "        GTimgf = np.argmax(probr, axis = 0)\n",
    "        GT_tensor = torch.tensor(GTimgf[np.newaxis, ...])\n",
    "        softDSC = SoftDiceLoss(probr_tensor, GT_tensor)\n",
    "        softDSC_FG_AC.append(softDSC[1].numpy())\n",
    "        # By DoC\n",
    "        probflattens = softmax(clsflatten, T = 1.0)\n",
    "        # calculate the diff\n",
    "        \n",
    "        preds_all_argmax = np.argmax(clsflatten, axis = 0)\n",
    "\n",
    "        probflattens[0, np.where(preds_all_argmax == 0)] = probflattens[0, np.where(preds_all_argmax == 0)] + (acc - mean_prob)\n",
    "        probflattens[1, np.where(preds_all_argmax == 0)] = probflattens[1, np.where(preds_all_argmax == 0)] - (acc - mean_prob)\n",
    "        probflattens[0, np.where((1-preds_all_argmax) == 0)] = probflattens[0, np.where((1-preds_all_argmax) == 0)] - (acc - mean_prob)\n",
    "        probflattens[1, np.where((1-preds_all_argmax) == 0)] = probflattens[1, np.where((1-preds_all_argmax) == 0)] + (acc - mean_prob)\n",
    "        probflattens = np.clip(probflattens, 0, 1)\n",
    "        \n",
    "#         probflatten = probflatten + (acc - mean_prob)\n",
    "        \n",
    "        probrs = probflattens.reshape((2, imgshape[0], imgshape[1], imgshape[2]))\n",
    "        probrs_tensor = torch.tensor(probrs[np.newaxis, ...])\n",
    "        GTimgf = np.argmax(probr, axis = 0)\n",
    "        GT_tensor = torch.tensor(GTimgf[np.newaxis, ...])\n",
    "        softDSC = SoftDiceLoss(probrs_tensor, GT_tensor)\n",
    "        softDSC_FG_DoC.append(softDSC[1].numpy())\n",
    "        # By CSDoC\n",
    "        preds_all_argmax = np.argmax(clsflatten, axis = 0)\n",
    "        # for cls 0, BG class \n",
    "        targets_y1 = np.where(preds_all_argmax==0)[0]\n",
    "        probflatten[:, targets_y1] = softmax(clsflatten[:, targets_y1], T = 1.0)\n",
    "        \n",
    "#         probflatten[:, targets_y1] =  probflatten[:, targets_y1] + (acc_c0 - mean_prob_c0)\n",
    "        \n",
    "        # for cls 1, FG class\n",
    "        targets_y1 = np.where(preds_all_argmax==1)[0]\n",
    "        probflatten[:, targets_y1] = softmax(clsflatten[:, targets_y1], T = 1.0)\n",
    "        \n",
    "#         probflatten[:, targets_y1] = probflatten[:, targets_y1] + (acc_c1 - mean_prob_c1)\n",
    "        probflatten = np.clip(probflatten, 0, 1)\n",
    "        \n",
    "        probr = probflatten.reshape((2, imgshape[0], imgshape[1], imgshape[2]))\n",
    "        probr_tensor = torch.tensor(probr[np.newaxis, ...])\n",
    "        GTimgf = np.argmax(probr, axis = 0)\n",
    "        GT_tensor = torch.tensor(GTimgf[np.newaxis, ...])\n",
    "        softDSC = SoftDiceLoss(probr_tensor, GT_tensor)\n",
    "        softDSC_FG_CSDoC.append(softDSC[1].numpy() + (mrealDSC - msoftDSC))\n",
    "\n",
    "        realDSC, _, _ = ComputMetric(GTimg, np.argmax(probr, axis = 0))\n",
    "        realDSC_FG.append(realDSC)\n",
    "        \n",
    "    softDSCs_AC.append(np.mean(np.array(softDSC_FG_AC)))\n",
    "    softDSCs_DoC.append(np.mean(np.array(softDSC_FG_DoC)))\n",
    "    softDSCs_CSDoC.append(np.mean(np.array(softDSC_FG_CSDoC)))\n",
    "    realDSCs.append(np.mean(np.array(realDSC_FG)))"
   ]
  },
  {
   "cell_type": "code",
   "execution_count": 61,
   "metadata": {},
   "outputs": [
    {
     "name": "stdout",
     "output_type": "stream",
     "text": [
      "AC_results:\n",
      "0.08682389850061455\n",
      "DoC_results:\n",
      "0.03653038206070081\n",
      "CSDoC_results:\n",
      "0.03495739062819712\n"
     ]
    }
   ],
   "source": [
    "print('AC_results:')\n",
    "print(np.mean(np.abs(np.array(realDSCs) - np.array(softDSCs_AC))))\n",
    "print('DoC_results:')\n",
    "print(np.mean(np.abs(np.array(realDSCs) - np.array(softDSCs_DoC))))\n",
    "print('CSDoC_results:')\n",
    "print(np.mean(np.abs(np.array(realDSCs) - np.array(softDSCs_CSDoC))))"
   ]
  },
  {
   "cell_type": "code",
   "execution_count": 62,
   "metadata": {},
   "outputs": [
    {
     "name": "stdout",
     "output_type": "stream",
     "text": [
      "[0.8457301025307677, 0.870852084028978, 0.828521585768393, 0.790703746725564, 0.7586812862096527, 0.7557484783931, 0.8172327417988589, 0.6604643235449457, 0.8391672071049449, 0.629645911710675, 0.8541350026276865, 0.8736883469998509, 0.8538392221470215, 0.843655497285545, 0.8472068280655369, 0.8415826376847552, 0.8719698924620335, 0.8669337478504607, 0.8188883956186596, 0.8289616381345647, 0.7512113795312175, 0.7984512037339606, 0.8258757147417111, 0.7808367447866433, 0.8216387475687809, 0.7407959047695183, 0.8082450924634974, 0.7488012437878321, 0.8813964100757584, 0.8449041600923041, 0.8723101712065781, 0.7438437175087971, 0.7690050430372952, 0.8036237249343758, 0.6054180714311662, 0.594775255065044, 0.8655259284098629, 0.8193493642947048, 0.8471036691597765, 0.8195559172815617, 0.8942332191332024, 0.886877812107558, 0.8949294033819303, 0.8655104773584853, 0.8947390346757661, 0.8509641068080747, 0.8916376091423593, 0.8932068281575198, 0.8886573243066662, 0.894043014237129, 0.8841409920497802, 0.8945585277579324, 0.8915872253807999, 0.8935827270797739, 0.8900613019952767, 0.8954535279095417, 0.8892877072755626, 0.8968215735063524, 0.8925794874268455, 0.8925794874268455, 0.8925794874268455, 0.8925794874268455, 0.8925794874268455, 0.8925794874268455, 0.8924648761656288, 0.8925377580298599, 0.8933089801905837, 0.8926561620676898, 0.895421017289985, 0.8927403679919301, 0.8880752189634069, 0.8667071812675555, 0.8374601769085613, 0.872159526969176, 0.8836511356030041, 0.8232106744297741, 0.8933175164598876, 0.8939974918047922, 0.8932180514356667, 0.8756891702461991, 0.8520728368902251, 0.8584788186194494, 0.7989908175918564]\n"
     ]
    }
   ],
   "source": [
    "print(realDSCs)"
   ]
  },
  {
   "cell_type": "code",
   "execution_count": 63,
   "metadata": {},
   "outputs": [
    {
     "name": "stdout",
     "output_type": "stream",
     "text": [
      "[0.9445208141411179, 0.5600351926555271, 0.931730127079436, 0.6528295465927425, 0.9158539060827395, 0.7136134168357384, 0.9246074382786308, 0.6644763539333387, 0.9389497001221697, 0.7066098338452236, 0.9275612026510706, 0.9325569574687153, 0.9328646004932912, 0.9269801658772193, 0.9270234060337872, 0.9238830251708064, 0.9326770866378464, 0.9336464948378751, 0.9172174173486736, 0.9205507685038764, 0.9035785475003083, 0.9033867852464283, 0.7677991683602265, 0.77648857500991, 0.7670021114181449, 0.7822310609348627, 0.7681708070921458, 0.7782648221080334, 0.9547345456520384, 0.9456113594412106, 0.9535450027183474, 0.9004201920300152, 0.8979303404342277, 0.9448680173310867, 0.8859718451761012, 0.8879338421392813, 0.9540584116065987, 0.9288409827503431, 0.9366174510538441, 0.9459088235601767, 0.9619089739592205, 0.9532975605133911, 0.9635967070577143, 0.9466395431589174, 0.9636146188932045, 0.9455708263766514, 0.9578893452463093, 0.9599190227327112, 0.9549463403474387, 0.961062565393781, 0.9515175398065029, 0.9617788075917636, 0.9583956927335651, 0.9597772130758943, 0.9575104902053905, 0.961441181446807, 0.9569452845233041, 0.9630999484301854, 0.9590364093650277, 0.9590363994342577, 0.959036392308124, 0.9590364062231991, 0.9590363982022062, 0.9590364032240967, 0.95900104638466, 0.9590458197604365, 0.9599731055521014, 0.959094514675478, 0.9618567287645607, 0.9591395174937857, 0.9558408131210936, 0.9444166262204436, 0.9337935699114303, 0.9489966481305195, 0.9567010093569644, 0.9379683409277753, 0.9596489660013671, 0.9594923408111391, 0.960642535589748, 0.9481430046919568, 0.9352942657281476, 0.942777893434001, 0.9461562874272953]\n"
     ]
    }
   ],
   "source": [
    "print(softDSCs_AC)"
   ]
  },
  {
   "cell_type": "code",
   "execution_count": 64,
   "metadata": {},
   "outputs": [
    {
     "name": "stdout",
     "output_type": "stream",
     "text": [
      "[0.8855793806178365, 0.5398399096207067, 0.875723285609153, 0.6284892613416123, 0.8686629839093885, 0.6853645574281281, 0.8697781731540773, 0.6450446712007141, 0.8773593294892106, 0.6851297361285489, 0.8690729434979731, 0.8716239451820261, 0.8747628745997265, 0.8710270977740052, 0.8692966026258009, 0.868128389865036, 0.8712530114340925, 0.8724938084921778, 0.8625001705690561, 0.8661448880030557, 0.8571648318697497, 0.8544912742744298, 0.7312085073487132, 0.7424442267119907, 0.7313407603111631, 0.7506173807240824, 0.7338308957764645, 0.7465327423151089, 0.8909439375054158, 0.8874454825765292, 0.8913197916837626, 0.8534444904768034, 0.8481614815341201, 0.8902813174619297, 0.8519269213637914, 0.8540081804680268, 0.8919466201288913, 0.8725604987282631, 0.8781731100484649, 0.890714832390233, 0.8960767468057249, 0.8894387725404238, 0.8975101165924977, 0.8858045838342656, 0.897567442823459, 0.8862165125284106, 0.8928496801199428, 0.8944743873941732, 0.8905827447837578, 0.8954026577127088, 0.8880406817212838, 0.8959917866492335, 0.8933102532195025, 0.8943012794499765, 0.8926825982771875, 0.8955491094689311, 0.8922299911582723, 0.8968529850252132, 0.893764714883873, 0.8937647074779695, 0.8937647002315666, 0.8937647137324916, 0.893764704749685, 0.8937647124519517, 0.893755315140003, 0.8937800289360297, 0.8946066342830058, 0.8938098444303284, 0.8959365388752794, 0.8938394960282082, 0.891271074521056, 0.8837109589498073, 0.8776221057017433, 0.8879823799949766, 0.8933204672968772, 0.8805715891753468, 0.8942554225253815, 0.8942177986181712, 0.8954417458102206, 0.8866665913281043, 0.8781790164835505, 0.8853934711291964, 0.8928577465960823]\n"
     ]
    }
   ],
   "source": [
    "print(softDSCs_DoC)"
   ]
  },
  {
   "cell_type": "code",
   "execution_count": 65,
   "metadata": {},
   "outputs": [
    {
     "name": "stdout",
     "output_type": "stream",
     "text": [
      "[0.8780638943048785, 0.4935782728192878, 0.8652732072431965, 0.586372626756503, 0.8493969862465004, 0.647156496999499, 0.8581505184423914, 0.5980194340970993, 0.8724927802859301, 0.6401529140089843, 0.8611042828148312, 0.8661000376324759, 0.8664076806570519, 0.86052324604098, 0.8605664861975478, 0.8574261053345671, 0.8662201668016071, 0.8671895750016357, 0.8507604975124344, 0.8540938486676373, 0.837121627664069, 0.836929865410189, 0.7013422485239872, 0.7100316551736705, 0.7005451915819055, 0.7157741410986234, 0.7017138872559064, 0.7118079022717939, 0.8882776258157989, 0.8791544396049714, 0.887088082882108, 0.833963272193776, 0.8314734205979883, 0.8784110974948474, 0.8195149253398618, 0.8214769223030419, 0.8876014917703593, 0.8623840629141037, 0.8701605312176047, 0.8794519037239376, 0.895452054122981, 0.8868406406771518, 0.897139787221475, 0.880182623322678, 0.8971576990569652, 0.8791139065404121, 0.8914324254100698, 0.893462102896472, 0.8884894205111994, 0.8946056455575417, 0.8850606199702634, 0.8953218877555242, 0.8919387728973257, 0.8933202932396549, 0.8910535703691511, 0.8949842616105675, 0.8904883646870647, 0.896643028593946, 0.8925794895287881, 0.8925794795980184, 0.8925794724718845, 0.8925794863869596, 0.8925794783659668, 0.8925794833878573, 0.8925441265484206, 0.892588899924197, 0.893516185715862, 0.8926375948392387, 0.8953998089283214, 0.8926825976575465, 0.8893838932848542, 0.8779597063842045, 0.8673366500751907, 0.8825397282942802, 0.8902440895207251, 0.871511421091536, 0.8931920461651277, 0.8930354209748996, 0.8941856157535086, 0.8816860848557173, 0.8688373458919084, 0.8763209735977616, 0.879699367591056]\n"
     ]
    }
   ],
   "source": [
    "print(softDSCs_CSDoC)"
   ]
  },
  {
   "cell_type": "code",
   "execution_count": 53,
   "metadata": {},
   "outputs": [
    {
     "name": "stderr",
     "output_type": "stream",
     "text": [
      "100%|███████████████████████████████████████████████████████████████████| 5/5 [00:40<00:00,  8.04s/it]\n"
     ]
    }
   ],
   "source": [
    "# 5 conditions\n",
    "domainlist = ['A', 'C', 'D', 'E', 'F']\n",
    "softDSCs_AC = []\n",
    "softDSCs_DoC = []\n",
    "softDSCs_CSDoC = []\n",
    "realDSCs = []\n",
    "for kcon in tqdm(domainlist):\n",
    "    softDSC_FG_AC = []\n",
    "    softDSC_FG_DoC = []\n",
    "    softDSC_FG_CSDoC = []\n",
    "    realDSC_FG = []\n",
    "    resultpath = '/vol/biomedic3/zl9518/ModelEvaluation/output/prostate/prostattestcondition_' + kcon + '/'\n",
    "    \n",
    "    prostatevalpath = '/vol/biomedic3/zl9518/Prostatedata/datafiletest' + kcon + '/'\n",
    "    DatafiletsImgc1 = prostatevalpath + 'seg-eval.txt'\n",
    "    Imgfiletsc1 = open(DatafiletsImgc1)\n",
    "    Imgreadc1 = Imgfiletsc1.read().splitlines()\n",
    "    for Imgnamec1 in Imgreadc1:\n",
    "        knamelist = Imgnamec1.split(\"/\")\n",
    "        kname = knamelist[-1][0:6]\n",
    "\n",
    "        cls0filename = resultpath + '/results/pred_' + kname + 'cls0_prob.nii.gz'\n",
    "        cls1filename = resultpath + '/results/pred_' + kname + 'cls1_prob.nii.gz'\n",
    "        cls0read = nib.load(cls0filename)\n",
    "        cls1read = nib.load(cls1filename)\n",
    "        cls0logit = cls0read.get_fdata()\n",
    "        cls1logit = cls1read.get_fdata()\n",
    "        GTread = nib.load(Imgnamec1)\n",
    "        GTimg = GTread.get_fdata()\n",
    "        imgshape = GTimg.shape\n",
    "        cls0flatten = cls0logit.flatten()\n",
    "        cls1flatten = cls1logit.flatten()\n",
    "        clsflatten = np.stack((cls0flatten, cls1flatten))\n",
    "        GTflatten = GTimg.flatten()\n",
    "        # By AC\n",
    "        probflatten = softmax(clsflatten, T = 1.0)\n",
    "        probr = probflatten.reshape((2, imgshape[0], imgshape[1], imgshape[2]))\n",
    "        probr_tensor = torch.tensor(probr[np.newaxis, ...])\n",
    "        GTimgf = np.argmax(probr, axis = 0)\n",
    "        GT_tensor = torch.tensor(GTimgf[np.newaxis, ...])\n",
    "        softDSC = SoftDiceLoss(probr_tensor, GT_tensor)\n",
    "        softDSC_FG_AC.append(softDSC[1].numpy())\n",
    "        # By DoC\n",
    "        probflattens = softmax(clsflatten, T = 1.0)\n",
    "        # calculate the diff\n",
    "        \n",
    "        preds_all_argmax = np.argmax(clsflatten, axis = 0)\n",
    "\n",
    "        probflattens[0, np.where(preds_all_argmax == 0)] = probflattens[0, np.where(preds_all_argmax == 0)] + (acc - mean_prob)\n",
    "        probflattens[1, np.where(preds_all_argmax == 0)] = probflattens[1, np.where(preds_all_argmax == 0)] - (acc - mean_prob)\n",
    "        probflattens[0, np.where((1-preds_all_argmax) == 0)] = probflattens[0, np.where((1-preds_all_argmax) == 0)] - (acc - mean_prob)\n",
    "        probflattens[1, np.where((1-preds_all_argmax) == 0)] = probflattens[1, np.where((1-preds_all_argmax) == 0)] + (acc - mean_prob)\n",
    "        probflattens = np.clip(probflattens, 0, 1)\n",
    "        \n",
    "#         probflatten = probflatten + (acc - mean_prob)\n",
    "        \n",
    "        probrs = probflattens.reshape((2, imgshape[0], imgshape[1], imgshape[2]))\n",
    "        probrs_tensor = torch.tensor(probrs[np.newaxis, ...])\n",
    "        GTimgf = np.argmax(probr, axis = 0)\n",
    "        GT_tensor = torch.tensor(GTimgf[np.newaxis, ...])\n",
    "        softDSC = SoftDiceLoss(probrs_tensor, GT_tensor)\n",
    "        softDSC_FG_DoC.append(softDSC[1].numpy())\n",
    "        # By CSDoC\n",
    "        preds_all_argmax = np.argmax(clsflatten, axis = 0)\n",
    "        # for cls 0, BG class \n",
    "        targets_y1 = np.where(preds_all_argmax==0)[0]\n",
    "        probflatten[:, targets_y1] = softmax(clsflatten[:, targets_y1], T = 1.0)\n",
    "        \n",
    "#         probflatten[:, targets_y1] =  probflatten[:, targets_y1] + (acc_c0 - mean_prob_c0)\n",
    "        \n",
    "        # for cls 1, FG class\n",
    "        targets_y1 = np.where(preds_all_argmax==1)[0]\n",
    "        probflatten[:, targets_y1] = softmax(clsflatten[:, targets_y1], T = 1.0)\n",
    "        \n",
    "#         probflatten[:, targets_y1] = probflatten[:, targets_y1] + (acc_c1 - mean_prob_c1)\n",
    "        probflatten = np.clip(probflatten, 0, 1)\n",
    "        \n",
    "        probr = probflatten.reshape((2, imgshape[0], imgshape[1], imgshape[2]))\n",
    "        probr_tensor = torch.tensor(probr[np.newaxis, ...])\n",
    "        GTimgf = np.argmax(probr, axis = 0)\n",
    "        GT_tensor = torch.tensor(GTimgf[np.newaxis, ...])\n",
    "        softDSC = SoftDiceLoss(probr_tensor, GT_tensor)\n",
    "#         softDSC_FG_CSDoC.append(softDSC[1].numpy())\n",
    "        softDSC_FG_CSDoC.append(softDSC[1].numpy() + (mrealDSC - msoftDSC))\n",
    "\n",
    "        realDSC, _, _ = ComputMetric(GTimg, np.argmax(probr, axis = 0))\n",
    "        realDSC_FG.append(realDSC)\n",
    "        \n",
    "    softDSCs_AC.append(np.mean(np.array(softDSC_FG_AC)))\n",
    "    softDSCs_DoC.append(np.mean(np.array(softDSC_FG_DoC)))\n",
    "    softDSCs_CSDoC.append(np.mean(np.array(softDSC_FG_CSDoC)))\n",
    "    realDSCs.append(np.mean(np.array(realDSC_FG)))"
   ]
  },
  {
   "cell_type": "code",
   "execution_count": 54,
   "metadata": {},
   "outputs": [
    {
     "name": "stdout",
     "output_type": "stream",
     "text": [
      "AC_results:\n",
      "0.18734415411981173\n",
      "DoC_results:\n",
      "0.13932456190498504\n",
      "CSDoC_results:\n",
      "0.12088723428357233\n"
     ]
    }
   ],
   "source": [
    "print('AC_results:')\n",
    "print(np.mean(np.abs(np.array(realDSCs) - np.array(softDSCs_AC))))\n",
    "print('DoC_results:')\n",
    "print(np.mean(np.abs(np.array(realDSCs) - np.array(softDSCs_DoC))))\n",
    "print('CSDoC_results:')\n",
    "print(np.mean(np.abs(np.array(realDSCs) - np.array(softDSCs_CSDoC))))"
   ]
  },
  {
   "cell_type": "code",
   "execution_count": 55,
   "metadata": {},
   "outputs": [
    {
     "name": "stdout",
     "output_type": "stream",
     "text": [
      "[0.8903888833710243, 0.8646945640943136, 0.8701191490312503, 0.9339760285393177, 0.9073143222637996]\n"
     ]
    }
   ],
   "source": [
    "print(softDSCs_AC)"
   ]
  },
  {
   "cell_type": "code",
   "execution_count": 56,
   "metadata": {},
   "outputs": [
    {
     "name": "stdout",
     "output_type": "stream",
     "text": [
      "[0.8672925405702486, 0.8179851444913133, 0.8173482835437254, 0.881894540373737, 0.8418744772465476]\n"
     ]
    }
   ],
   "source": [
    "print(softDSCs_DoC)"
   ]
  },
  {
   "cell_type": "code",
   "execution_count": 57,
   "metadata": {},
   "outputs": [
    {
     "name": "stdout",
     "output_type": "stream",
     "text": [
      "[0.8239319635347849, 0.7982376442580741, 0.8036622291950108, 0.8675191087030785, 0.8408574024275601]\n"
     ]
    }
   ],
   "source": [
    "print(softDSCs_CSDoC)"
   ]
  },
  {
   "cell_type": "code",
   "execution_count": null,
   "metadata": {},
   "outputs": [],
   "source": []
  },
  {
   "cell_type": "code",
   "execution_count": null,
   "metadata": {},
   "outputs": [],
   "source": []
  }
 ],
 "metadata": {
  "kernelspec": {
   "display_name": "IW",
   "language": "python",
   "name": "iw"
  },
  "language_info": {
   "codemirror_mode": {
    "name": "ipython",
    "version": 3
   },
   "file_extension": ".py",
   "mimetype": "text/x-python",
   "name": "python",
   "nbconvert_exporter": "python",
   "pygments_lexer": "ipython3",
   "version": "3.9.7"
  }
 },
 "nbformat": 4,
 "nbformat_minor": 2
}
