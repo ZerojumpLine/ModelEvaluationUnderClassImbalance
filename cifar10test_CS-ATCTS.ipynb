{
 "cells": [
  {
   "cell_type": "code",
   "execution_count": 22,
   "metadata": {},
   "outputs": [],
   "source": [
    "import os\n",
    "import seaborn as sns\n",
    "import pandas as pd\n",
    "import numpy as np\n",
    "from tqdm import tqdm\n",
    "import matplotlib.pyplot as plt"
   ]
  },
  {
   "cell_type": "code",
   "execution_count": 23,
   "metadata": {},
   "outputs": [],
   "source": [
    "def softmax(x, T = 1):\n",
    "    \"\"\"Compute softmax values for each sets of scores in x.\"\"\"\n",
    "    return np.exp(x / T) / np.sum(np.exp(x / T), axis=0)"
   ]
  },
  {
   "cell_type": "code",
   "execution_count": 24,
   "metadata": {},
   "outputs": [],
   "source": [
    "cifar_resultsdir = '/vol/biomedic3/zl9518/ModelEvaluation/LDAM-DRW/cifar10results/'\n",
    "cnn_pred = pd.read_csv(cifar_resultsdir + 'predictions_val.csv')"
   ]
  },
  {
   "cell_type": "code",
   "execution_count": 25,
   "metadata": {},
   "outputs": [],
   "source": [
    "learnTemp = 3.0\n",
    "learnTemps = [5.0, 5.1, 3.1, 3.8, 2.2, 1.9, 1.1, 0.6, 0.4, 0.2]"
   ]
  },
  {
   "cell_type": "code",
   "execution_count": 26,
   "metadata": {},
   "outputs": [
    {
     "name": "stdout",
     "output_type": "stream",
     "text": [
      "0.7054\n",
      "0.7072816198306675\n",
      "0.7055\n"
     ]
    }
   ],
   "source": [
    "kcls = 10\n",
    "targets_all = np.array(cnn_pred[['target_0', 'target_1', 'target_2', 'target_3', 'target_4', 'target_5', 'target_6', 'target_7', 'target_8', 'target_9']])\n",
    "logit_all = np.array(cnn_pred[['logit_0', 'logit_1', 'logit_2', 'logit_3', 'logit_4', 'logit_5', 'logit_6', 'logit_7', 'logit_8', 'logit_9']])\n",
    "preds_all_argmax = np.argmax(logit_all, axis = 1)\n",
    "# acc\n",
    "target_class = np.argmax(targets_all, axis = 1)\n",
    "pred_class = np.argmax(logit_all, axis = 1)\n",
    "acc = np.sum(pred_class == target_class) / len(target_class)\n",
    "prob = softmax(logit_all.transpose(), T = learnTemp).transpose()\n",
    "probmax = np.max(prob, axis = 1)\n",
    "threshold = 0.547\n",
    "acc_appr = np.sum(probmax > threshold) / len(target_class)\n",
    "print(acc)\n",
    "print(np.mean(probmax))\n",
    "print(acc_appr)"
   ]
  },
  {
   "cell_type": "code",
   "execution_count": 27,
   "metadata": {},
   "outputs": [
    {
     "name": "stdout",
     "output_type": "stream",
     "text": [
      "cls 0\n",
      "0.5130111524163569\n",
      "0.5174702558349566\n",
      "0.5172596919808816\n",
      "cls 1\n",
      "0.667574931880109\n",
      "0.6715822874592708\n",
      "0.667574931880109\n",
      "cls 2\n",
      "0.6723577235772358\n",
      "0.6747693768252498\n",
      "0.6723577235772358\n",
      "cls 3\n",
      "0.5485674353598882\n",
      "0.5515075198723262\n",
      "0.5485674353598882\n",
      "cls 4\n",
      "0.7966976264189887\n",
      "0.7927198522007158\n",
      "0.7966976264189887\n",
      "cls 5\n",
      "0.7688504326328801\n",
      "0.7727616252283973\n",
      "0.7700865265760197\n",
      "cls 6\n",
      "0.920881971465629\n",
      "0.9200385890090808\n",
      "0.920881971465629\n",
      "cls 7\n",
      "0.9548494983277592\n",
      "0.9526457191968399\n",
      "0.9548494983277592\n",
      "cls 8\n",
      "0.9671717171717171\n",
      "0.9661278774550892\n",
      "0.9671717171717171\n",
      "cls 9\n",
      "0.9842696629213483\n",
      "0.9824487077408494\n",
      "0.9842696629213483\n"
     ]
    }
   ],
   "source": [
    "# choose TS for different classes, manually\n",
    "label = 0\n",
    "targets_y1 = np.where(preds_all_argmax==label)[0]\n",
    "target_class = np.argmax(targets_all, axis = 1)[targets_y1]\n",
    "pred_class = np.argmax(logit_all, axis = 1)[targets_y1]\n",
    "acc = np.sum(pred_class == target_class) / len(target_class)\n",
    "prob = softmax(logit_all.transpose(), T = learnTemps[0]).transpose()[targets_y1]\n",
    "probmax = np.max(prob, axis = 1)\n",
    "threshold = 0.491\n",
    "acc_appr = np.sum(probmax > threshold) / len(target_class)\n",
    "print('cls ' + str(label))\n",
    "print(acc)\n",
    "print(np.mean(probmax))\n",
    "print(acc_appr)\n",
    "label = 1\n",
    "targets_y1 = np.where(preds_all_argmax==label)[0]\n",
    "target_class = np.argmax(targets_all, axis = 1)[targets_y1]\n",
    "pred_class = np.argmax(logit_all, axis = 1)[targets_y1]\n",
    "acc = np.sum(pred_class == target_class) / len(target_class)\n",
    "prob = softmax(logit_all.transpose(), T = learnTemps[0]).transpose()[targets_y1]\n",
    "probmax = np.max(prob, axis = 1)\n",
    "threshold = 0.540\n",
    "acc_appr = np.sum(probmax > threshold) / len(target_class)\n",
    "print('cls ' + str(label))\n",
    "print(acc)\n",
    "print(np.mean(probmax))\n",
    "print(acc_appr)\n",
    "label = 2\n",
    "targets_y1 = np.where(preds_all_argmax==label)[0]\n",
    "target_class = np.argmax(targets_all, axis = 1)[targets_y1]\n",
    "pred_class = np.argmax(logit_all, axis = 1)[targets_y1]\n",
    "acc = np.sum(pred_class == target_class) / len(target_class)\n",
    "prob = softmax(logit_all.transpose(), T = learnTemps[2]).transpose()[targets_y1]\n",
    "probmax = np.max(prob, axis = 1)\n",
    "threshold = 0.523\n",
    "acc_appr = np.sum(probmax > threshold) / len(target_class)\n",
    "print('cls ' + str(label))\n",
    "print(acc)\n",
    "print(np.mean(probmax))\n",
    "print(acc_appr)\n",
    "label = 3\n",
    "targets_y1 = np.where(preds_all_argmax==label)[0]\n",
    "target_class = np.argmax(targets_all, axis = 1)[targets_y1]\n",
    "pred_class = np.argmax(logit_all, axis = 1)[targets_y1]\n",
    "acc = np.sum(pred_class == target_class) / len(target_class)\n",
    "prob = softmax(logit_all.transpose(), T = learnTemps[3]).transpose()[targets_y1]\n",
    "probmax = np.max(prob, axis = 1)\n",
    "threshold = 0.490\n",
    "acc_appr = np.sum(probmax > threshold) / len(target_class)\n",
    "print('cls ' + str(label))\n",
    "print(acc)\n",
    "print(np.mean(probmax))\n",
    "print(acc_appr)\n",
    "label = 4\n",
    "targets_y1 = np.where(preds_all_argmax==label)[0]\n",
    "target_class = np.argmax(targets_all, axis = 1)[targets_y1]\n",
    "pred_class = np.argmax(logit_all, axis = 1)[targets_y1]\n",
    "acc = np.sum(pred_class == target_class) / len(target_class)\n",
    "prob = softmax(logit_all.transpose(), T = learnTemps[4]).transpose()[targets_y1]\n",
    "probmax = np.max(prob, axis = 1)\n",
    "threshold = 0.564\n",
    "acc_appr = np.sum(probmax > threshold) / len(target_class)\n",
    "print('cls ' + str(label))\n",
    "print(acc)\n",
    "print(np.mean(probmax))\n",
    "print(acc_appr)\n",
    "label = 5\n",
    "targets_y1 = np.where(preds_all_argmax==label)[0]\n",
    "target_class = np.argmax(targets_all, axis = 1)[targets_y1]\n",
    "pred_class = np.argmax(logit_all, axis = 1)[targets_y1]\n",
    "acc = np.sum(pred_class == target_class) / len(target_class)\n",
    "prob = softmax(logit_all.transpose(), T = learnTemps[5]).transpose()[targets_y1]\n",
    "probmax = np.max(prob, axis = 1)\n",
    "threshold = 0.585\n",
    "acc_appr = np.sum(probmax > threshold) / len(target_class)\n",
    "print('cls ' + str(label))\n",
    "print(acc)\n",
    "print(np.mean(probmax))\n",
    "print(acc_appr)\n",
    "label = 6\n",
    "targets_y1 = np.where(preds_all_argmax==label)[0]\n",
    "target_class = np.argmax(targets_all, axis = 1)[targets_y1]\n",
    "pred_class = np.argmax(logit_all, axis = 1)[targets_y1]\n",
    "acc = np.sum(pred_class == target_class) / len(target_class)\n",
    "prob = softmax(logit_all.transpose(), T = learnTemps[6]).transpose()[targets_y1]\n",
    "probmax = np.max(prob, axis = 1)\n",
    "threshold = 0.645\n",
    "acc_appr = np.sum(probmax > threshold) / len(target_class)\n",
    "print('cls ' + str(label))\n",
    "print(acc)\n",
    "print(np.mean(probmax))\n",
    "print(acc_appr)\n",
    "label = 7\n",
    "targets_y1 = np.where(preds_all_argmax==label)[0]\n",
    "target_class = np.argmax(targets_all, axis = 1)[targets_y1]\n",
    "pred_class = np.argmax(logit_all, axis = 1)[targets_y1]\n",
    "acc = np.sum(pred_class == target_class) / len(target_class)\n",
    "prob = softmax(logit_all.transpose(), T = learnTemps[7]).transpose()[targets_y1]\n",
    "probmax = np.max(prob, axis = 1)\n",
    "threshold = 0.650\n",
    "acc_appr = np.sum(probmax > threshold) / len(target_class)\n",
    "print('cls ' + str(label))\n",
    "print(acc)\n",
    "print(np.mean(probmax))\n",
    "print(acc_appr)\n",
    "label = 8\n",
    "targets_y1 = np.where(preds_all_argmax==label)[0]\n",
    "target_class = np.argmax(targets_all, axis = 1)[targets_y1]\n",
    "pred_class = np.argmax(logit_all, axis = 1)[targets_y1]\n",
    "acc = np.sum(pred_class == target_class) / len(target_class)\n",
    "prob = softmax(logit_all.transpose(), T = learnTemps[8]).transpose()[targets_y1]\n",
    "probmax = np.max(prob, axis = 1)\n",
    "threshold = 0.640\n",
    "acc_appr = np.sum(probmax > threshold) / len(target_class)\n",
    "print('cls ' + str(label))\n",
    "print(acc)\n",
    "print(np.mean(probmax))\n",
    "print(acc_appr)\n",
    "label = 9\n",
    "targets_y1 = np.where(preds_all_argmax==label)[0]\n",
    "target_class = np.argmax(targets_all, axis = 1)[targets_y1]\n",
    "pred_class = np.argmax(logit_all, axis = 1)[targets_y1]\n",
    "acc = np.sum(pred_class == target_class) / len(target_class)\n",
    "prob = softmax(logit_all.transpose(), T = learnTemps[9]).transpose()[targets_y1]\n",
    "probmax = np.max(prob, axis = 1)\n",
    "threshold = 0.640\n",
    "acc_appr = np.sum(probmax > threshold) / len(target_class)\n",
    "print('cls ' + str(label))\n",
    "print(acc)\n",
    "print(np.mean(probmax))\n",
    "print(acc_appr)"
   ]
  },
  {
   "cell_type": "code",
   "execution_count": 28,
   "metadata": {},
   "outputs": [],
   "source": [
    "learnT = 0.547\n",
    "learnTs = [0.491, 0.540, 0.523, 0.490, 0.564, 0.585, 0.645, 0.650, 0.640, 0.640]"
   ]
  },
  {
   "cell_type": "code",
   "execution_count": 37,
   "metadata": {},
   "outputs": [
    {
     "name": "stderr",
     "output_type": "stream",
     "text": [
      "100%|███████████████████████████████████████████████████████████████████████████████████████████████████████████| 19/19 [00:03<00:00,  5.55it/s]\n"
     ]
    }
   ],
   "source": [
    "# bring a test condition here.\n",
    "acc_results = []\n",
    "AC_results = []\n",
    "ATC_results = []\n",
    "CSATC_results = []\n",
    "cifar_resultsdir = '/vol/biomedic3/zl9518/ModelEvaluation/LDAM-DRW/cifar10results/'\n",
    "corruptions = ['gaussian_noise', 'shot_noise' , 'impulse_noise', 'defocus_blur', 'glass_blur', \n",
    "               'motion_blur', 'zoom_blur', 'snow', 'frost', 'fog', 'brightness', 'contrast' , 'elastic_transform', \n",
    "               'pixelate', 'jpeg_compression', 'speckle_noise', 'gaussian_blur', 'spatter', 'saturate']\n",
    "\n",
    "for cname in tqdm(corruptions):\n",
    "    csvfilename = cifar_resultsdir + 'predictions_val_' + cname + '.csv'\n",
    "    cnn_pred_all = pd.read_csv(csvfilename)\n",
    "    for severity in range(5):\n",
    "        cnn_pred = cnn_pred_all.iloc[severity * 10000:(severity + 1) * 10000, :]\n",
    "        \n",
    "        kcls = 10\n",
    "        targets_all = np.array(cnn_pred[['target_0', 'target_1', 'target_2', 'target_3', 'target_4', 'target_5', 'target_6', 'target_7', 'target_8', 'target_9']])\n",
    "        logit_all = np.array(cnn_pred[['logit_0', 'logit_1', 'logit_2', 'logit_3', 'logit_4', 'logit_5', 'logit_6', 'logit_7', 'logit_8', 'logit_9']])\n",
    "        preds_all_argmax = np.argmax(logit_all, axis = 1)\n",
    "        # acc\n",
    "        target_class = np.argmax(targets_all, axis = 1)\n",
    "        pred_class = np.argmax(logit_all, axis = 1)\n",
    "        acc = np.sum(pred_class == target_class) / len(target_class)\n",
    "        prob = softmax(logit_all.transpose(), T = learnTemp).transpose()\n",
    "        probmax = np.max(prob, axis = 1)\n",
    "        acc_results.append(acc)\n",
    "        AC_results.append(np.mean(probmax))\n",
    "        ATC_results.append(np.sum(probmax > learnT) / len(target_class))\n",
    "        hit_cnt = 0\n",
    "        for label in range(kcls):\n",
    "            preds_all = softmax(logit_all.transpose(), T = learnTemps[label]).transpose()\n",
    "            preds_all_max = np.max(preds_all, axis = 1)\n",
    "            targets_y1 = np.where(preds_all_argmax==label)[0]\n",
    "            preds_class = preds_all_max[targets_y1]\n",
    "\n",
    "        #     print(np.sum(preds_class > learnTs[label]) / len(targets_y1))\n",
    "            hit_cnt += np.sum(preds_class > learnTs[label])\n",
    "        CSATC_results.append(hit_cnt / len(target_class))"
   ]
  },
  {
   "cell_type": "code",
   "execution_count": 32,
   "metadata": {},
   "outputs": [
    {
     "name": "stdout",
     "output_type": "stream",
     "text": [
      "AC_results:\n",
      "0.05689427230773313\n",
      "ATC_results:\n",
      "0.053307368421052645\n",
      "CSATC_results:\n",
      "0.02673263157894737\n"
     ]
    }
   ],
   "source": [
    "print('AC_results:')\n",
    "print(np.mean(np.abs(np.array(acc_results)-np.array(AC_results))))\n",
    "print('ATC_results:')\n",
    "print(np.mean(np.abs(np.array(acc_results)-np.array(ATC_results))))\n",
    "print('CSATC_results:')\n",
    "print(np.mean(np.abs(np.array(acc_results)-np.array(CSATC_results))))"
   ]
  },
  {
   "cell_type": "code",
   "execution_count": 33,
   "metadata": {},
   "outputs": [
    {
     "name": "stderr",
     "output_type": "stream",
     "text": [
      "100%|█████████████████████████████████████████████████████████████████████████████████████████████████████████████| 1/1 [00:00<00:00, 49.14it/s]\n"
     ]
    }
   ],
   "source": [
    "# bring a test condition here.\n",
    "acc_results = []\n",
    "AC_results = []\n",
    "ATC_results = []\n",
    "CSATC_results = []\n",
    "cifar_resultsdir = '/vol/biomedic3/zl9518/ModelEvaluation/LDAM-DRW/cifar10results/'\n",
    "corruptions = ['2']\n",
    "\n",
    "for cname in tqdm(corruptions):\n",
    "    csvfilename = cifar_resultsdir + 'predictions_val_' + cname + '.csv'\n",
    "    cnn_pred_all = pd.read_csv(csvfilename)\n",
    "    cnn_pred = cnn_pred_all\n",
    "\n",
    "    kcls = 10\n",
    "    targets_all = np.array(cnn_pred[['target_0', 'target_1', 'target_2', 'target_3', 'target_4', 'target_5', 'target_6', 'target_7', 'target_8', 'target_9']])\n",
    "    logit_all = np.array(cnn_pred[['logit_0', 'logit_1', 'logit_2', 'logit_3', 'logit_4', 'logit_5', 'logit_6', 'logit_7', 'logit_8', 'logit_9']])\n",
    "    preds_all_argmax = np.argmax(logit_all, axis = 1)\n",
    "    # acc\n",
    "    target_class = np.argmax(targets_all, axis = 1)\n",
    "    pred_class = np.argmax(logit_all, axis = 1)\n",
    "    acc = np.sum(pred_class == target_class) / len(target_class)\n",
    "    prob = softmax(logit_all.transpose(), T = learnTemp).transpose()\n",
    "    probmax = np.max(prob, axis = 1)\n",
    "    acc_results.append(acc)\n",
    "    AC_results.append(np.mean(probmax))\n",
    "    ATC_results.append(np.sum(probmax > learnT) / len(target_class))\n",
    "    hit_cnt = 0\n",
    "    for label in range(kcls):\n",
    "        preds_all = softmax(logit_all.transpose(), T = learnTemps[label]).transpose()\n",
    "        preds_all_max = np.max(preds_all, axis = 1)\n",
    "        targets_y1 = np.where(preds_all_argmax==label)[0]\n",
    "        preds_class = preds_all_max[targets_y1]\n",
    "\n",
    "    #     print(np.sum(preds_class > learnTs[label]) / len(targets_y1))\n",
    "        hit_cnt += np.sum(preds_class > learnTs[label])\n",
    "    CSATC_results.append(hit_cnt / len(target_class))"
   ]
  },
  {
   "cell_type": "code",
   "execution_count": 34,
   "metadata": {},
   "outputs": [
    {
     "name": "stdout",
     "output_type": "stream",
     "text": [
      "AC_results:\n",
      "0.021887884736460417\n",
      "ATC_results:\n",
      "0.014000000000000012\n",
      "CSATC_results:\n",
      "0.04300000000000004\n"
     ]
    }
   ],
   "source": [
    "print('AC_results:')\n",
    "print(np.mean(np.abs(np.array(acc_results)-np.array(AC_results))))\n",
    "print('ATC_results:')\n",
    "print(np.mean(np.abs(np.array(acc_results)-np.array(ATC_results))))\n",
    "print('CSATC_results:')\n",
    "print(np.mean(np.abs(np.array(acc_results)-np.array(CSATC_results))))"
   ]
  },
  {
   "cell_type": "code",
   "execution_count": 38,
   "metadata": {},
   "outputs": [
    {
     "name": "stdout",
     "output_type": "stream",
     "text": [
      "[0.5859, 0.4546, 0.3477, 0.3089, 0.2899, 0.6395, 0.5711, 0.4239, 0.3754, 0.3101, 0.6282, 0.5331, 0.4456, 0.3128, 0.2467, 0.6972, 0.6713, 0.6274, 0.5811, 0.4817, 0.3936, 0.4078, 0.411, 0.3685, 0.3513, 0.6449, 0.5961, 0.5538, 0.5537, 0.522, 0.5868, 0.5848, 0.5556, 0.5378, 0.4893, 0.6365, 0.5133, 0.5469, 0.5331, 0.4691, 0.658, 0.5894, 0.5003, 0.4841, 0.3957, 0.6938, 0.6623, 0.6299, 0.5846, 0.4821, 0.709, 0.7076, 0.6956, 0.6823, 0.6475, 0.6895, 0.6268, 0.5549, 0.4377, 0.1193, 0.6187, 0.6189, 0.6055, 0.577, 0.5473, 0.6583, 0.6101, 0.5711, 0.4646, 0.4049, 0.6357, 0.5931, 0.575, 0.5639, 0.5409, 0.638, 0.5376, 0.4871, 0.3896, 0.3257, 0.6979, 0.6245, 0.5873, 0.538, 0.4505, 0.6689, 0.6027, 0.5344, 0.6511, 0.5981, 0.6692, 0.6457, 0.6921, 0.6516, 0.5992]\n"
     ]
    }
   ],
   "source": [
    "print(ATC_results)"
   ]
  },
  {
   "cell_type": "code",
   "execution_count": 39,
   "metadata": {},
   "outputs": [
    {
     "name": "stdout",
     "output_type": "stream",
     "text": [
      "[0.6146, 0.5255, 0.4824, 0.4797, 0.4859, 0.6583, 0.6073, 0.5078, 0.4941, 0.4816, 0.6222, 0.5324, 0.4643, 0.4014, 0.4077, 0.6971, 0.6614, 0.5971, 0.5239, 0.4015, 0.4653, 0.4583, 0.4556, 0.439, 0.434, 0.6116, 0.5317, 0.4726, 0.4682, 0.414, 0.5548, 0.5402, 0.4999, 0.4716, 0.4133, 0.6375, 0.5423, 0.5509, 0.5324, 0.4998, 0.6641, 0.5992, 0.523, 0.5214, 0.4668, 0.696, 0.6522, 0.6055, 0.5503, 0.441, 0.7104, 0.7052, 0.6957, 0.6721, 0.6231, 0.6912, 0.5922, 0.4989, 0.3648, 0.059, 0.5923, 0.5908, 0.5646, 0.5147, 0.4984, 0.6652, 0.6216, 0.5886, 0.5027, 0.4877, 0.6407, 0.599, 0.5827, 0.5604, 0.5414, 0.6594, 0.5855, 0.5522, 0.4972, 0.4712, 0.6967, 0.5964, 0.5294, 0.4572, 0.3502, 0.67, 0.596, 0.5222, 0.6321, 0.569, 0.6701, 0.6411, 0.6895, 0.6425, 0.5754]\n"
     ]
    }
   ],
   "source": [
    "print(CSATC_results)"
   ]
  },
  {
   "cell_type": "code",
   "execution_count": null,
   "metadata": {},
   "outputs": [],
   "source": []
  }
 ],
 "metadata": {
  "kernelspec": {
   "display_name": "IW",
   "language": "python",
   "name": "iw"
  },
  "language_info": {
   "codemirror_mode": {
    "name": "ipython",
    "version": 3
   },
   "file_extension": ".py",
   "mimetype": "text/x-python",
   "name": "python",
   "nbconvert_exporter": "python",
   "pygments_lexer": "ipython3",
   "version": "3.9.7"
  }
 },
 "nbformat": 4,
 "nbformat_minor": 2
}
