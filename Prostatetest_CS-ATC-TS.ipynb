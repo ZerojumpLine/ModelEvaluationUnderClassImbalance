{
 "cells": [
  {
   "cell_type": "code",
   "execution_count": 106,
   "metadata": {},
   "outputs": [],
   "source": [
    "import os\n",
    "import seaborn as sns\n",
    "import nibabel as nib\n",
    "import numpy as np\n",
    "import pandas as pd\n",
    "from tqdm import tqdm\n",
    "import torch\n",
    "import matplotlib.pyplot as plt"
   ]
  },
  {
   "cell_type": "code",
   "execution_count": 107,
   "metadata": {},
   "outputs": [],
   "source": [
    "def softmax(x, T):\n",
    "    x = x / T\n",
    "    f = np.exp(x - np.max(x, axis = 0))  # shift values\n",
    "    return f / f.sum(axis = 0)\n",
    "\n",
    "def ComputMetric(ACTUAL, PREDICTED):\n",
    "    ACTUAL = ACTUAL.flatten()\n",
    "    PREDICTED = PREDICTED.flatten()\n",
    "    idxp = ACTUAL == True\n",
    "    idxn = ACTUAL == False\n",
    "\n",
    "    tp = np.sum(ACTUAL[idxp] == PREDICTED[idxp])\n",
    "    tn = np.sum(ACTUAL[idxn] == PREDICTED[idxn])\n",
    "    fp = np.sum(idxn) - tn\n",
    "    fn = np.sum(idxp) - tp\n",
    "    FPR = fp / (fp + tn)\n",
    "    if tp == 0 :\n",
    "        dice = 0\n",
    "        Precision = 0\n",
    "        Sensitivity = 0\n",
    "    else:\n",
    "        dice = 2 * tp / (2 * tp + fp + fn)\n",
    "        Precision = tp / (tp + fp)\n",
    "        Sensitivity = tp / (tp + fn)\n",
    "    return dice, Sensitivity, Precision"
   ]
  },
  {
   "cell_type": "code",
   "execution_count": 108,
   "metadata": {},
   "outputs": [],
   "source": [
    "def sum_tensor(inp, axes, keepdim=False):\n",
    "    axes = np.unique(axes).astype(int)\n",
    "    if keepdim:\n",
    "        for ax in axes:\n",
    "            inp = inp.sum(int(ax), keepdim=True)\n",
    "    else:\n",
    "        for ax in sorted(axes, reverse=True):\n",
    "            inp = inp.sum(int(ax))\n",
    "    return inp\n",
    "\n",
    "def get_tp_fp_fn(net_output, gt, axes=None, mask=None, square=False):\n",
    "    \"\"\"\n",
    "    net_output must be (b, c, x, y(, z)))\n",
    "    gt must be a label map (shape (b, 1, x, y(, z)) OR shape (b, x, y(, z))) or one hot encoding (b, c, x, y(, z))\n",
    "    if mask is provided it must have shape (b, 1, x, y(, z)))\n",
    "    :param net_output:\n",
    "    :param gt:\n",
    "    :param axes:\n",
    "    :param mask: mask must be 1 for valid pixels and 0 for invalid pixels\n",
    "    :param square: if True then fp, tp and fn will be squared before summation\n",
    "    :return:\n",
    "    \"\"\"\n",
    "    if axes is None:\n",
    "        axes = tuple(range(2, len(net_output.size())))\n",
    "\n",
    "    shp_x = net_output.shape\n",
    "    shp_y = gt.shape\n",
    "\n",
    "    with torch.no_grad():\n",
    "        if len(shp_x) != len(shp_y):\n",
    "            gt = gt.view((shp_y[0], 1, *shp_y[1:]))\n",
    "\n",
    "        if all([i == j for i, j in zip(net_output.shape, gt.shape)]):\n",
    "            # if this is the case then gt is probably already a one hot encoding\n",
    "            y_onehot = gt\n",
    "        else:\n",
    "            gt = gt.long()\n",
    "            y_onehot = torch.zeros(shp_x)\n",
    "            if net_output.device.type == \"cuda\":\n",
    "                y_onehot = y_onehot.cuda(net_output.device.index)\n",
    "            y_onehot.scatter_(1, gt, 1)\n",
    "\n",
    "    tp = net_output * y_onehot\n",
    "    fp = net_output * (1 - y_onehot)\n",
    "    fn = (1 - net_output) * y_onehot\n",
    "\n",
    "    if mask is not None:\n",
    "        tp = torch.stack(tuple(x_i * mask[:, 0] for x_i in torch.unbind(tp, dim=1)), dim=1)\n",
    "        fp = torch.stack(tuple(x_i * mask[:, 0] for x_i in torch.unbind(fp, dim=1)), dim=1)\n",
    "        fn = torch.stack(tuple(x_i * mask[:, 0] for x_i in torch.unbind(fn, dim=1)), dim=1)\n",
    "\n",
    "    if square:\n",
    "        tp = tp ** 2\n",
    "        fp = fp ** 2\n",
    "        fn = fn ** 2\n",
    "\n",
    "    tp = sum_tensor(tp, axes, keepdim=False)\n",
    "    fp = sum_tensor(fp, axes, keepdim=False)\n",
    "    fn = sum_tensor(fn, axes, keepdim=False)\n",
    "\n",
    "    return tp, fp, fn\n",
    "\n",
    "\n",
    "def SoftDiceLoss(x, y, loss_mask = None, smooth = 1e-5, batch_dice = False):\n",
    "    '''\n",
    "    Batch_dice means that we want to calculate the dsc of all batch\n",
    "    It would make more sense for small patchsize, aka DeepMedic based training.\n",
    "    '''\n",
    "    shp_x = x.shape\n",
    "    square = False\n",
    "\n",
    "    axes = [0] + list(range(2, len(shp_x)))\n",
    "    tp, fp, fn = get_tp_fp_fn(x, y, axes, loss_mask, square)\n",
    "    dc = (2 * tp + smooth) / (2 * tp + fp + fn + smooth)\n",
    "    dc_process = dc\n",
    "\n",
    "    return dc_process"
   ]
  },
  {
   "cell_type": "code",
   "execution_count": 109,
   "metadata": {},
   "outputs": [],
   "source": [
    "resultpath = '/vol/biomedic3/zl9518/ModelEvaluation/output/prostate/prostateval/'\n",
    "prostatevalpath = '/vol/biomedic3/zl9518/Prostatedata/datafiletestB/'"
   ]
  },
  {
   "cell_type": "code",
   "execution_count": 110,
   "metadata": {},
   "outputs": [],
   "source": [
    "DatafiletsImgc1 = prostatevalpath + 'seg-eval.txt'\n",
    "Imgfiletsc1 = open(DatafiletsImgc1)\n",
    "Imgreadc1 = Imgfiletsc1.read().splitlines()"
   ]
  },
  {
   "cell_type": "code",
   "execution_count": 9,
   "metadata": {
    "scrolled": false
   },
   "outputs": [
    {
     "name": "stderr",
     "output_type": "stream",
     "text": [
      "100%|███████████████████| 10/10 [00:04<00:00,  2.25it/s]\n"
     ]
    }
   ],
   "source": [
    "probs_all = []\n",
    "preds_class_all = []\n",
    "targets_all = []\n",
    "for Imgnamec1 in tqdm(Imgreadc1):\n",
    "    knamelist = Imgnamec1.split(\"/\")\n",
    "    kname = knamelist[-1][0:6]\n",
    "    \n",
    "    cls0filename = resultpath + '/results/pred_' + kname + 'cls0_prob.nii.gz'\n",
    "    cls1filename = resultpath + '/results/pred_' + kname + 'cls1_prob.nii.gz'\n",
    "    cls0read = nib.load(cls0filename)\n",
    "    cls1read = nib.load(cls1filename)\n",
    "    cls0logit = cls0read.get_fdata()\n",
    "    cls1logit = cls1read.get_fdata()\n",
    "    GTread = nib.load(Imgnamec1)\n",
    "    GTimg = GTread.get_fdata()\n",
    "    imgshape = GTimg.shape\n",
    "    cls0flatten = cls0logit.flatten()\n",
    "    cls1flatten = cls1logit.flatten()\n",
    "    clsflatten = np.stack((cls0flatten, cls1flatten))\n",
    "    GTflatten = GTimg.flatten()\n",
    "    probflatten = softmax(clsflatten, T = 1.6)\n",
    "    \n",
    "    pred_class = np.argmax(probflatten, axis = 0)\n",
    "    preds_class_all = np.concatenate((preds_class_all, pred_class), axis=0)\n",
    "    targets_all = np.concatenate((targets_all, GTflatten), axis=0)\n",
    "    probmax = np.max(probflatten, axis = 0)\n",
    "    probs_all = np.concatenate((probs_all, probmax), axis=0)\n"
   ]
  },
  {
   "cell_type": "code",
   "execution_count": 10,
   "metadata": {},
   "outputs": [
    {
     "name": "stdout",
     "output_type": "stream",
     "text": [
      "0.9960332029006206\n",
      "0.9960254199106047\n"
     ]
    }
   ],
   "source": [
    "threshold = 0.774\n",
    "print(np.sum(targets_all == preds_class_all) / len(targets_all))\n",
    "print(np.sum(probs_all > threshold) / len(targets_all))"
   ]
  },
  {
   "cell_type": "code",
   "execution_count": 111,
   "metadata": {},
   "outputs": [
    {
     "name": "stderr",
     "output_type": "stream",
     "text": [
      "100%|███████████████████| 10/10 [00:13<00:00,  1.39s/it]\n"
     ]
    }
   ],
   "source": [
    "# probs_all_c0 = []\n",
    "# preds_class_all_c0 = []\n",
    "# targets_all_c0 = []\n",
    "# probs_all_c1 = []\n",
    "# preds_class_all_c1 = []\n",
    "# targets_all_c1 = []\n",
    "softDSCs = []\n",
    "realDSCs = []\n",
    "for Imgnamec1 in tqdm(Imgreadc1):\n",
    "    knamelist = Imgnamec1.split(\"/\")\n",
    "    kname = knamelist[-1][0:6]\n",
    "    \n",
    "    cls0filename = resultpath + '/results/pred_' + kname + 'cls0_prob.nii.gz'\n",
    "    cls1filename = resultpath + '/results/pred_' + kname + 'cls1_prob.nii.gz'\n",
    "    cls0read = nib.load(cls0filename)\n",
    "    cls1read = nib.load(cls1filename)\n",
    "    cls0logit = cls0read.get_fdata()\n",
    "    cls1logit = cls1read.get_fdata()\n",
    "    GTread = nib.load(Imgnamec1)\n",
    "    GTimg = GTread.get_fdata()\n",
    "    imgshape = GTimg.shape\n",
    "    cls0flatten = cls0logit.flatten()\n",
    "    cls1flatten = cls1logit.flatten()\n",
    "    clsflatten = np.stack((cls0flatten, cls1flatten))\n",
    "    GTflatten = GTimg.flatten()\n",
    "    \n",
    "    preds_all_argmax = np.argmax(clsflatten, axis = 0)\n",
    "    # for cls 0, BG class \n",
    "#     targets_y1 = np.where(preds_all_argmax==0)[0]\n",
    "#     probflatten_c0 = softmax(clsflatten[:, targets_y1], T = 1.0)\n",
    "#     pred_class_c0 = np.argmax(probflatten_c0, axis = 0)\n",
    "#     preds_class_all_c0 = np.concatenate((preds_class_all_c0, pred_class_c0), axis=0)\n",
    "    \n",
    "#     targets_all_c0 = np.concatenate((targets_all_c0, GTflatten[targets_y1]), axis=0)\n",
    "#     probmax_c0 = np.max(probflatten_c0, axis = 0)\n",
    "#     probs_all_c0 = np.concatenate((probs_all_c0, probmax_c0), axis=0)\n",
    "    \n",
    "#     # for cls 1, FG class\n",
    "#     targets_y1 = np.where(preds_all_argmax==1)[0]\n",
    "#     probflatten_c1 = softmax(clsflatten[:, targets_y1], T = 1.0)\n",
    "#     pred_class_c1 = np.argmax(probflatten_c1, axis = 0)\n",
    "#     preds_class_all_c1 = np.concatenate((preds_class_all_c1, pred_class_c1), axis=0)\n",
    "    \n",
    "#     targets_all_c1 = np.concatenate((targets_all_c1, GTflatten[targets_y1]), axis=0)\n",
    "#     probmax_c1 = np.max(probflatten_c1, axis = 0)\n",
    "#     probs_all_c1 = np.concatenate((probs_all_c1, probmax_c1), axis=0)\n",
    "\n",
    "    # for cls 0, BG class \n",
    "    probflatten = softmax(clsflatten, T = 1.0)\n",
    "    probflattens = probflatten\n",
    "    targets_y1 = np.where(preds_all_argmax==0)[0]\n",
    "    probflatten[:, targets_y1] = softmax(clsflatten[:, targets_y1], T = 1.6)\n",
    "    threshold = 0.754\n",
    "    probflattens[:, targets_y1] = probflatten[:, targets_y1] > threshold\n",
    "    probflattens = probflattens.astype(float)\n",
    "    # for cls 1, FG class\n",
    "    targets_y1 = np.where(preds_all_argmax==1)[0]\n",
    "    probflatten[:, targets_y1] = softmax(clsflatten[:, targets_y1], T = 1.9)\n",
    "    threshold = 0.863\n",
    "    probflattens[:, targets_y1] = probflatten[:, targets_y1] > threshold\n",
    "    probflattens = probflattens.astype(float)\n",
    "    probr = probflatten.reshape((2, imgshape[0], imgshape[1], imgshape[2]))\n",
    "    probrs = probflattens.reshape((2, imgshape[0], imgshape[1], imgshape[2]))\n",
    "    probr_tensor = torch.tensor(probrs[np.newaxis, ...])\n",
    "    GTimgf = np.argmax(probr, axis = 0)\n",
    "    GT_tensor = torch.tensor(GTimgf[np.newaxis, ...])\n",
    "    \n",
    "    softDSC = SoftDiceLoss(probr_tensor, GT_tensor)\n",
    "    softDSCs.append(softDSC[1].numpy())\n",
    "\n",
    "    realDSC, _, _ = ComputMetric(GTimg, np.argmax(probr, axis = 0))\n",
    "    realDSCs.append(realDSC)\n"
   ]
  },
  {
   "cell_type": "code",
   "execution_count": 112,
   "metadata": {},
   "outputs": [
    {
     "name": "stdout",
     "output_type": "stream",
     "text": [
      "8.895091619995796e-01\n",
      "0.8925794874268455\n"
     ]
    }
   ],
   "source": [
    "# print(np.sum(targets_all_c0 == preds_class_all_c0) / len(targets_all_c0))\n",
    "# threshold = 0.857\n",
    "# print(np.sum(probs_all_c0 > threshold) / len(targets_all_c0))\n",
    "# print(np.sum(targets_all_c1 == preds_class_all_c1) / len(targets_all_c1))\n",
    "# threshold = 0.903\n",
    "# print(np.sum(probs_all_c1 > threshold) / len(targets_all_c1))\n",
    "print(np.mean(softDSCs))\n",
    "print(np.mean(realDSCs))"
   ]
  },
  {
   "cell_type": "code",
   "execution_count": 113,
   "metadata": {},
   "outputs": [
    {
     "name": "stderr",
     "output_type": "stream",
     "text": [
      "100%|███████████████████| 83/83 [21:05<00:00, 15.25s/it]\n"
     ]
    }
   ],
   "source": [
    "# 84 conditions\n",
    "softDSCs_AC = []\n",
    "softDSCs_ATC = []\n",
    "softDSCs_CSATC = []\n",
    "realDSCs = []\n",
    "for kcon in tqdm(range(1, 84)):\n",
    "    softDSC_FG_AC = []\n",
    "    softDSC_FG_ATC = []\n",
    "    softDSC_FG_CSATC = []\n",
    "    realDSC_FG = []\n",
    "    resultpath = '/vol/biomedic3/zl9518/ModelEvaluation/output/prostate/prostattestcondition_' + str(kcon) + '/'\n",
    "    for Imgnamec1 in Imgreadc1:\n",
    "        knamelist = Imgnamec1.split(\"/\")\n",
    "        kname = knamelist[-1][0:6]\n",
    "\n",
    "        cls0filename = resultpath + '/results/pred_' + kname + 'cls0_prob.nii.gz'\n",
    "        cls1filename = resultpath + '/results/pred_' + kname + 'cls1_prob.nii.gz'\n",
    "        cls0read = nib.load(cls0filename)\n",
    "        cls1read = nib.load(cls1filename)\n",
    "        cls0logit = cls0read.get_fdata()\n",
    "        cls1logit = cls1read.get_fdata()\n",
    "        GTread = nib.load(Imgnamec1)\n",
    "        GTimg = GTread.get_fdata()\n",
    "        imgshape = GTimg.shape\n",
    "        cls0flatten = cls0logit.flatten()\n",
    "        cls1flatten = cls1logit.flatten()\n",
    "        clsflatten = np.stack((cls0flatten, cls1flatten))\n",
    "        GTflatten = GTimg.flatten()\n",
    "        # By AC\n",
    "        probflatten = softmax(clsflatten, T = 1.0)\n",
    "        probr = probflatten.reshape((2, imgshape[0], imgshape[1], imgshape[2]))\n",
    "        probr_tensor = torch.tensor(probr[np.newaxis, ...])\n",
    "        GTimgf = np.argmax(probr, axis = 0)\n",
    "        GT_tensor = torch.tensor(GTimgf[np.newaxis, ...])\n",
    "        softDSC = SoftDiceLoss(probr_tensor, GT_tensor)\n",
    "        softDSC_FG_AC.append(softDSC[1].numpy())\n",
    "        # By ATC\n",
    "        probflatten = softmax(clsflatten, T = 1.6)\n",
    "        threshold = 0.774\n",
    "        probflattens = probflatten > threshold\n",
    "        probflattens = probflattens.astype(float)\n",
    "        \n",
    "        probr = probflatten.reshape((2, imgshape[0], imgshape[1], imgshape[2]))\n",
    "        GTimgf = np.argmax(probr, axis = 0)\n",
    "        GT_tensor = torch.tensor(GTimgf[np.newaxis, ...])\n",
    "        probrs = probflattens.reshape((2, imgshape[0], imgshape[1], imgshape[2]))\n",
    "        probr_tensor = torch.tensor(probrs[np.newaxis, ...])\n",
    "        softDSC = SoftDiceLoss(probr_tensor, GT_tensor)\n",
    "        softDSC_FG_ATC.append(softDSC[1].numpy())\n",
    "        # By CSATC\n",
    "        preds_all_argmax = np.argmax(clsflatten, axis = 0)\n",
    "        # for cls 0, BG class \n",
    "        targets_y1 = np.where(preds_all_argmax==0)[0]\n",
    "        probflatten[:, targets_y1] = softmax(clsflatten[:, targets_y1], T = 1.6)\n",
    "        threshold = 0.754\n",
    "        probflattens[:, targets_y1] = probflatten[:, targets_y1] > threshold\n",
    "        # for cls 1, FG class\n",
    "        targets_y1 = np.where(preds_all_argmax==1)[0]\n",
    "        probflatten[:, targets_y1] = softmax(clsflatten[:, targets_y1], T = 1.9)\n",
    "        threshold = 0.863\n",
    "        probflattens[:, targets_y1] = probflatten[:, targets_y1] > threshold\n",
    "        probflattens = probflattens.astype(float)\n",
    "        probr = probflatten.reshape((2, imgshape[0], imgshape[1], imgshape[2]))\n",
    "        probrs = probflattens.reshape((2, imgshape[0], imgshape[1], imgshape[2]))\n",
    "        probr_tensor = torch.tensor(probrs[np.newaxis, ...])\n",
    "        GTimgf = np.argmax(probr, axis = 0)\n",
    "        GT_tensor = torch.tensor(GTimgf[np.newaxis, ...])\n",
    "        softDSC = SoftDiceLoss(probr_tensor, GT_tensor)\n",
    "        softDSC_FG_CSATC.append(softDSC[1].numpy())\n",
    "\n",
    "        realDSC, _, _ = ComputMetric(GTimg, np.argmax(probr, axis = 0))\n",
    "        realDSC_FG.append(realDSC)\n",
    "        \n",
    "    softDSCs_AC.append(np.mean(np.array(softDSC_FG_AC)))\n",
    "    softDSCs_ATC.append(np.mean(np.array(softDSC_FG_ATC)))\n",
    "    softDSCs_CSATC.append(np.mean(np.array(softDSC_FG_CSATC)))\n",
    "    realDSCs.append(np.mean(np.array(realDSC_FG)))"
   ]
  },
  {
   "cell_type": "code",
   "execution_count": 114,
   "metadata": {},
   "outputs": [
    {
     "name": "stdout",
     "output_type": "stream",
     "text": [
      "AC_results:\n",
      "8.682389850061455e-02\n",
      "ATC_results:\n",
      "0.0853563014472969\n",
      "CSATC_results:\n",
      "0.012338082758307983\n"
     ]
    }
   ],
   "source": [
    "print('AC_results:')\n",
    "print(np.mean(np.abs(np.array(realDSCs) - np.array(softDSCs_AC))))\n",
    "print('ATC_results:')\n",
    "print(np.mean(np.abs(np.array(realDSCs) - np.array(softDSCs_ATC))))\n",
    "print('CSATC_results:')\n",
    "print(np.mean(np.abs(np.array(realDSCs) - np.array(softDSCs_CSATC))))"
   ]
  },
  {
   "cell_type": "code",
   "execution_count": 115,
   "metadata": {},
   "outputs": [
    {
     "name": "stdout",
     "output_type": "stream",
     "text": [
      "[0.8457301025307677, 0.870852084028978, 0.828521585768393, 0.790703746725564, 0.7586812862096527, 0.7557484783931, 0.8172327417988589, 0.6604643235449457, 0.8391672071049449, 0.629645911710675, 0.8541350026276865, 0.8736883469998509, 0.8538392221470215, 0.843655497285545, 0.8472068280655369, 0.8415826376847552, 0.8719698924620335, 0.8669337478504607, 0.8188883956186596, 0.8289616381345647, 0.7512113795312175, 0.7984512037339606, 0.8258757147417111, 0.7808367447866433, 0.8216387475687809, 0.7407959047695183, 0.8082450924634974, 0.7488012437878321, 0.8813964100757584, 0.8449041600923041, 0.8723101712065781, 0.7438437175087971, 0.7690050430372952, 0.8036237249343758, 0.6054180714311662, 0.594775255065044, 0.8655259284098629, 0.8193493642947048, 0.8471036691597765, 0.8195559172815617, 0.8942332191332024, 0.886877812107558, 0.8949294033819303, 0.8655104773584853, 0.8947390346757661, 0.8509641068080747, 0.8916376091423593, 0.8932068281575198, 0.8886573243066662, 0.894043014237129, 0.8841409920497802, 0.8945585277579324, 0.8915872253807999, 0.8935827270797739, 0.8900613019952767, 0.8954535279095417, 0.8892877072755626, 0.8968215735063524, 0.8925794874268455, 0.8925794874268455, 0.8925794874268455, 0.8925794874268455, 0.8925794874268455, 0.8925794874268455, 0.8924648761656288, 0.8925377580298599, 0.8933089801905837, 0.8926561620676898, 0.895421017289985, 0.8927403679919301, 0.8880752189634069, 0.8667071812675555, 0.8374601769085613, 0.872159526969176, 0.8836511356030041, 0.8232106744297741, 0.8933175164598876, 0.8939974918047922, 0.8932180514356667, 0.8756891702461991, 0.8520728368902251, 0.8584788186194494, 0.7989908175918564]\n"
     ]
    }
   ],
   "source": [
    "print(realDSCs)"
   ]
  },
  {
   "cell_type": "code",
   "execution_count": 116,
   "metadata": {},
   "outputs": [
    {
     "name": "stdout",
     "output_type": "stream",
     "text": [
      "[0.8557870343538007, 0.8581082011391123, 0.8497910197456173, 0.7583390485701038, 0.8026681779496532, 0.6958752812062108, 0.8331270507195747, 0.5833262926837742, 0.8694806986158534, 0.529114805794747, 0.8592592262366223, 0.8729086173941525, 0.8383632078711042, 0.8289072966221601, 0.8247832461872854, 0.8159975670938586, 0.8749697077451021, 0.875689847061022, 0.8130792395111376, 0.8190136355050232, 0.7584671089499697, 0.7724262678917323, 0.8224237175841889, 0.7927032244958939, 0.8233129828472121, 0.7627747517413369, 0.8013764668575899, 0.7726204790571214, 0.8797128064343995, 0.8492085069142978, 0.8706757293701006, 0.7108493838727199, 0.7423964313788215, 0.8151348898492167, 0.6457989187661217, 0.6229526999367161, 0.8677736535280174, 0.8048965454851749, 0.8245047485328433, 0.8354106037281077, 0.8916935983950841, 0.8830358133174482, 0.892519196704883, 0.8606625642875034, 0.8918618699403563, 0.8481756513887586, 0.8884667298375684, 0.8902558478707203, 0.8852337758871854, 0.8912128440901295, 0.8804468336395443, 0.8917166489421071, 0.8884150254093977, 0.8906046901314081, 0.8866628156694647, 0.8925930406910053, 0.8857251294939484, 0.8940244124021863, 0.8895091619995796, 0.8895091619995796, 0.8895091619995796, 0.8895091619995796, 0.8895091619995796, 0.8895091619995796, 0.8893306216196883, 0.8894683194119593, 0.8899787683773794, 0.8895924757733278, 0.892360931026538, 0.8896839552437852, 0.8851020470337325, 0.8588682979157755, 0.8324335040279601, 0.8681620511824123, 0.8767364715139838, 0.8151439285090898, 0.8894419845897504, 0.888432285255691, 0.8847354077055434, 0.8681279357002822, 0.8397351281367499, 0.8525532986693349, 0.8291533623572331]\n"
     ]
    }
   ],
   "source": [
    "print(softDSCs_CSATC)"
   ]
  },
  {
   "cell_type": "code",
   "execution_count": 117,
   "metadata": {},
   "outputs": [
    {
     "name": "stdout",
     "output_type": "stream",
     "text": [
      "[0.9325211544215042, 0.9376525633771082, 0.9233867663295175, 0.8883537795170673, 0.8977479555992331, 0.8619215389860942, 0.9137063033222613, 0.7929500102100553, 0.9357807291114462, 0.7620176819698508, 0.933641291192061, 0.9436974153974068, 0.9274992795185885, 0.9213054011743989, 0.9190269515078608, 0.9104304735813512, 0.9454983041339183, 0.9461714957949644, 0.9141541908791652, 0.9154773879463278, 0.8879914039789405, 0.8915007207953105, 0.9161764179304777, 0.9026693586894373, 0.9146106176212122, 0.8865294825883627, 0.9006627168171562, 0.8919940002850952, 0.9507485812956075, 0.9351947202662089, 0.9481250041107536, 0.8538304558043446, 0.8690546446502566, 0.925088916993951, 0.8335073887460138, 0.8406930857903306, 0.9461195348162137, 0.9179167344861838, 0.9301139143120144, 0.9328301843113188, 0.9579842117252415, 0.9506629567160196, 0.9590465347861217, 0.9375712598203458, 0.9589317057188674, 0.9324802996093583, 0.9548829719667135, 0.9564748968129383, 0.9521477981705561, 0.9573671546917462, 0.9486273470897768, 0.9578977909060781, 0.9550924749849466, 0.9565591214604016, 0.9540175089953513, 0.9581785866676343, 0.9536729262714088, 0.9593697958339087, 0.9557715535291221, 0.9557715535291221, 0.9557715535291221, 0.9557715535291221, 0.9557715535291221, 0.9557715535291221, 0.9556714911384336, 0.9557349392157833, 0.9562562708491813, 0.9558263183737681, 0.9580847168570715, 0.955891578760822, 0.953314082064589, 0.9391031346320163, 0.928509937827297, 0.944776300358207, 0.950627269616539, 0.9131334177573132, 0.955739847784859, 0.9557924357136948, 0.9559653760382322, 0.9447496002419058, 0.9273891789584395, 0.9380775116083058, 0.9282396469900622]\n"
     ]
    }
   ],
   "source": [
    "print(softDSCs_ATC)"
   ]
  },
  {
   "cell_type": "code",
   "execution_count": 118,
   "metadata": {},
   "outputs": [
    {
     "name": "stdout",
     "output_type": "stream",
     "text": [
      "[0.9445208141411179, 0.5600351926555271, 0.931730127079436, 0.6528295465927425, 0.9158539060827395, 0.7136134168357384, 0.9246074382786308, 0.6644763539333387, 0.9389497001221697, 0.7066098338452236, 0.9275612026510706, 0.9325569574687153, 0.9328646004932912, 0.9269801658772193, 0.9270234060337872, 0.9238830251708064, 0.9326770866378464, 0.9336464948378751, 0.9172174173486736, 0.9205507685038764, 0.9035785475003083, 0.9033867852464283, 0.7677991683602265, 0.77648857500991, 0.7670021114181449, 0.7822310609348627, 0.7681708070921458, 0.7782648221080334, 0.9547345456520384, 0.9456113594412106, 0.9535450027183474, 0.9004201920300152, 0.8979303404342277, 0.9448680173310867, 0.8859718451761012, 0.8879338421392813, 0.9540584116065987, 0.9288409827503431, 0.9366174510538441, 0.9459088235601767, 0.9619089739592205, 0.9532975605133911, 0.9635967070577143, 0.9466395431589174, 0.9636146188932045, 0.9455708263766514, 0.9578893452463093, 0.9599190227327112, 0.9549463403474387, 0.961062565393781, 0.9515175398065029, 0.9617788075917636, 0.9583956927335651, 0.9597772130758943, 0.9575104902053905, 0.961441181446807, 0.9569452845233041, 0.9630999484301854, 0.9590364093650277, 0.9590363994342577, 0.959036392308124, 0.9590364062231991, 0.9590363982022062, 0.9590364032240967, 0.95900104638466, 0.9590458197604365, 0.9599731055521014, 0.959094514675478, 0.9618567287645607, 0.9591395174937857, 0.9558408131210936, 0.9444166262204436, 0.9337935699114303, 0.9489966481305195, 0.9567010093569644, 0.9379683409277753, 0.9596489660013671, 0.9594923408111391, 0.960642535589748, 0.9481430046919568, 0.9352942657281476, 0.942777893434001, 0.9461562874272953]\n"
     ]
    }
   ],
   "source": [
    "print(softDSCs_AC)"
   ]
  },
  {
   "cell_type": "code",
   "execution_count": 119,
   "metadata": {},
   "outputs": [
    {
     "name": "stderr",
     "output_type": "stream",
     "text": [
      "100%|█████████████████████| 5/5 [00:54<00:00, 10.94s/it]\n"
     ]
    }
   ],
   "source": [
    "# 5 conditions\n",
    "domainlist = ['A', 'C', 'D', 'E', 'F']\n",
    "softDSCs_AC = []\n",
    "softDSCs_ATC = []\n",
    "softDSCs_CSATC = []\n",
    "realDSCs = []\n",
    "for kcon in tqdm(domainlist):\n",
    "    softDSC_FG_AC = []\n",
    "    softDSC_FG_ATC = []\n",
    "    softDSC_FG_CSATC = []\n",
    "    realDSC_FG = []\n",
    "    resultpath = '/vol/biomedic3/zl9518/ModelEvaluation/output/prostate/prostattestcondition_' + kcon + '/'\n",
    "    \n",
    "    prostatevalpath = '/vol/biomedic3/zl9518/Prostatedata/datafiletest' + kcon + '/'\n",
    "    DatafiletsImgc1 = prostatevalpath + 'seg-eval.txt'\n",
    "    Imgfiletsc1 = open(DatafiletsImgc1)\n",
    "    Imgreadc1 = Imgfiletsc1.read().splitlines()\n",
    "    for Imgnamec1 in Imgreadc1:\n",
    "        knamelist = Imgnamec1.split(\"/\")\n",
    "        kname = knamelist[-1][0:6]\n",
    "\n",
    "        cls0filename = resultpath + '/results/pred_' + kname + 'cls0_prob.nii.gz'\n",
    "        cls1filename = resultpath + '/results/pred_' + kname + 'cls1_prob.nii.gz'\n",
    "        cls0read = nib.load(cls0filename)\n",
    "        cls1read = nib.load(cls1filename)\n",
    "        cls0logit = cls0read.get_fdata()\n",
    "        cls1logit = cls1read.get_fdata()\n",
    "        GTread = nib.load(Imgnamec1)\n",
    "        GTimg = GTread.get_fdata()\n",
    "        imgshape = GTimg.shape\n",
    "        cls0flatten = cls0logit.flatten()\n",
    "        cls1flatten = cls1logit.flatten()\n",
    "        clsflatten = np.stack((cls0flatten, cls1flatten))\n",
    "        GTflatten = GTimg.flatten()\n",
    "        # By AC\n",
    "        probflatten = softmax(clsflatten, T = 1.0)\n",
    "        probr = probflatten.reshape((2, imgshape[0], imgshape[1], imgshape[2]))\n",
    "        probr_tensor = torch.tensor(probr[np.newaxis, ...])\n",
    "        GTimgf = np.argmax(probr, axis = 0)\n",
    "        GT_tensor = torch.tensor(GTimgf[np.newaxis, ...])\n",
    "        softDSC = SoftDiceLoss(probr_tensor, GT_tensor)\n",
    "        softDSC_FG_AC.append(softDSC[1].numpy())\n",
    "        # By ATC\n",
    "        probflatten = softmax(clsflatten, T = 1.6)\n",
    "        threshold = 0.774\n",
    "        probflattens = probflatten > threshold\n",
    "        probflattens = probflattens.astype(float)\n",
    "        \n",
    "        probr = probflatten.reshape((2, imgshape[0], imgshape[1], imgshape[2]))\n",
    "        GTimgf = np.argmax(probr, axis = 0)\n",
    "        GT_tensor = torch.tensor(GTimgf[np.newaxis, ...])\n",
    "        probrs = probflattens.reshape((2, imgshape[0], imgshape[1], imgshape[2]))\n",
    "        probr_tensor = torch.tensor(probrs[np.newaxis, ...])\n",
    "        softDSC = SoftDiceLoss(probr_tensor, GT_tensor)\n",
    "        softDSC_FG_ATC.append(softDSC[1].numpy())\n",
    "        # By CSATC\n",
    "        preds_all_argmax = np.argmax(clsflatten, axis = 0)\n",
    "        # for cls 0, BG class \n",
    "        targets_y1 = np.where(preds_all_argmax==0)[0]\n",
    "        probflatten[:, targets_y1] = softmax(clsflatten[:, targets_y1], T = 1.6)\n",
    "        threshold = 0.754\n",
    "        probflattens[:, targets_y1] = probflatten[:, targets_y1] > threshold\n",
    "        # for cls 1, FG class\n",
    "        targets_y1 = np.where(preds_all_argmax==1)[0]\n",
    "        probflatten[:, targets_y1] = softmax(clsflatten[:, targets_y1], T = 1.9)\n",
    "        threshold = 0.863\n",
    "        probflattens[:, targets_y1] = probflatten[:, targets_y1] > threshold\n",
    "        probflattens = probflattens.astype(float)\n",
    "        probr = probflatten.reshape((2, imgshape[0], imgshape[1], imgshape[2]))\n",
    "        probrs = probflattens.reshape((2, imgshape[0], imgshape[1], imgshape[2]))\n",
    "        probr_tensor = torch.tensor(probrs[np.newaxis, ...])\n",
    "        GTimgf = np.argmax(probr, axis = 0)\n",
    "        GT_tensor = torch.tensor(GTimgf[np.newaxis, ...])\n",
    "        softDSC = SoftDiceLoss(probr_tensor, GT_tensor)\n",
    "        softDSC_FG_CSATC.append(softDSC[1].numpy())\n",
    "\n",
    "        realDSC, _, _ = ComputMetric(GTimg, np.argmax(probr, axis = 0))\n",
    "        realDSC_FG.append(realDSC)\n",
    "        \n",
    "    softDSCs_AC.append(np.mean(np.array(softDSC_FG_AC)))\n",
    "    softDSCs_ATC.append(np.mean(np.array(softDSC_FG_ATC)))\n",
    "    softDSCs_CSATC.append(np.mean(np.array(softDSC_FG_CSATC)))\n",
    "    realDSCs.append(np.mean(np.array(realDSC_FG)))"
   ]
  },
  {
   "cell_type": "code",
   "execution_count": 120,
   "metadata": {},
   "outputs": [
    {
     "name": "stdout",
     "output_type": "stream",
     "text": [
      "AC_results:\n",
      "1.8734415411981173e-01\n",
      "ATC_results:\n",
      "0.16657160031224447\n",
      "CSATC_results:\n",
      "0.04167167157262874\n"
     ]
    }
   ],
   "source": [
    "print('AC_results:')\n",
    "print(np.mean(np.abs(np.array(realDSCs) - np.array(softDSCs_AC))))\n",
    "print('ATC_results:')\n",
    "print(np.mean(np.abs(np.array(realDSCs) - np.array(softDSCs_ATC))))\n",
    "print('CSATC_results:')\n",
    "print(np.mean(np.abs(np.array(realDSCs) - np.array(softDSCs_CSATC))))"
   ]
  },
  {
   "cell_type": "code",
   "execution_count": 121,
   "metadata": {},
   "outputs": [
    {
     "name": "stdout",
     "output_type": "stream",
     "text": [
      "[0.6336811350074099, 0.6945867003609429, 0.6747764344774836, 0.8404526517918648, 0.7956317550818014]\n"
     ]
    }
   ],
   "source": [
    "print(softDSCs_CSATC)"
   ]
  },
  {
   "cell_type": "code",
   "execution_count": 122,
   "metadata": {},
   "outputs": [
    {
     "name": "stdout",
     "output_type": "stream",
     "text": [
      "[0.8903888833710243, 0.8646945640943136, 0.8701191490312503, 0.9339760285393177, 0.9073143222637996]\n"
     ]
    }
   ],
   "source": [
    "print(softDSCs_AC)"
   ]
  },
  {
   "cell_type": "code",
   "execution_count": 123,
   "metadata": {},
   "outputs": [
    {
     "name": "stdout",
     "output_type": "stream",
     "text": [
      "[0.8462852907117808, 0.8518285643107747, 0.8424388958841647, 0.9245426635249726, 0.8975347638301764]\n"
     ]
    }
   ],
   "source": [
    "print(softDSCs_ATC)"
   ]
  },
  {
   "cell_type": "code",
   "execution_count": null,
   "metadata": {},
   "outputs": [],
   "source": []
  }
 ],
 "metadata": {
  "kernelspec": {
   "display_name": "IW",
   "language": "python",
   "name": "iw"
  },
  "language_info": {
   "codemirror_mode": {
    "name": "ipython",
    "version": 3
   },
   "file_extension": ".py",
   "mimetype": "text/x-python",
   "name": "python",
   "nbconvert_exporter": "python",
   "pygments_lexer": "ipython3",
   "version": "3.9.7"
  }
 },
 "nbformat": 4,
 "nbformat_minor": 2
}
