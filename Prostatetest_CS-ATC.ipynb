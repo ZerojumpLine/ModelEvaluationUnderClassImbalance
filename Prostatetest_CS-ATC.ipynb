{
 "cells": [
  {
   "cell_type": "code",
   "execution_count": 1,
   "metadata": {},
   "outputs": [],
   "source": [
    "import os\n",
    "import seaborn as sns\n",
    "import nibabel as nib\n",
    "import numpy as np\n",
    "import pandas as pd\n",
    "from tqdm import tqdm\n",
    "import torch\n",
    "import matplotlib.pyplot as plt"
   ]
  },
  {
   "cell_type": "code",
   "execution_count": 2,
   "metadata": {},
   "outputs": [],
   "source": [
    "def softmax(x, T):\n",
    "    x = x / T\n",
    "    f = np.exp(x - np.max(x, axis = 0))  # shift values\n",
    "    return f / f.sum(axis = 0)\n",
    "\n",
    "def ComputMetric(ACTUAL, PREDICTED):\n",
    "    ACTUAL = ACTUAL.flatten()\n",
    "    PREDICTED = PREDICTED.flatten()\n",
    "    idxp = ACTUAL == True\n",
    "    idxn = ACTUAL == False\n",
    "\n",
    "    tp = np.sum(ACTUAL[idxp] == PREDICTED[idxp])\n",
    "    tn = np.sum(ACTUAL[idxn] == PREDICTED[idxn])\n",
    "    fp = np.sum(idxn) - tn\n",
    "    fn = np.sum(idxp) - tp\n",
    "    FPR = fp / (fp + tn)\n",
    "    if tp == 0 :\n",
    "        dice = 0\n",
    "        Precision = 0\n",
    "        Sensitivity = 0\n",
    "    else:\n",
    "        dice = 2 * tp / (2 * tp + fp + fn)\n",
    "        Precision = tp / (tp + fp)\n",
    "        Sensitivity = tp / (tp + fn)\n",
    "    return dice, Sensitivity, Precision"
   ]
  },
  {
   "cell_type": "code",
   "execution_count": 3,
   "metadata": {},
   "outputs": [],
   "source": [
    "def sum_tensor(inp, axes, keepdim=False):\n",
    "    axes = np.unique(axes).astype(int)\n",
    "    if keepdim:\n",
    "        for ax in axes:\n",
    "            inp = inp.sum(int(ax), keepdim=True)\n",
    "    else:\n",
    "        for ax in sorted(axes, reverse=True):\n",
    "            inp = inp.sum(int(ax))\n",
    "    return inp\n",
    "\n",
    "def get_tp_fp_fn(net_output, gt, axes=None, mask=None, square=False):\n",
    "    \"\"\"\n",
    "    net_output must be (b, c, x, y(, z)))\n",
    "    gt must be a label map (shape (b, 1, x, y(, z)) OR shape (b, x, y(, z))) or one hot encoding (b, c, x, y(, z))\n",
    "    if mask is provided it must have shape (b, 1, x, y(, z)))\n",
    "    :param net_output:\n",
    "    :param gt:\n",
    "    :param axes:\n",
    "    :param mask: mask must be 1 for valid pixels and 0 for invalid pixels\n",
    "    :param square: if True then fp, tp and fn will be squared before summation\n",
    "    :return:\n",
    "    \"\"\"\n",
    "    if axes is None:\n",
    "        axes = tuple(range(2, len(net_output.size())))\n",
    "\n",
    "    shp_x = net_output.shape\n",
    "    shp_y = gt.shape\n",
    "\n",
    "    with torch.no_grad():\n",
    "        if len(shp_x) != len(shp_y):\n",
    "            gt = gt.view((shp_y[0], 1, *shp_y[1:]))\n",
    "\n",
    "        if all([i == j for i, j in zip(net_output.shape, gt.shape)]):\n",
    "            # if this is the case then gt is probably already a one hot encoding\n",
    "            y_onehot = gt\n",
    "        else:\n",
    "            gt = gt.long()\n",
    "            y_onehot = torch.zeros(shp_x)\n",
    "            if net_output.device.type == \"cuda\":\n",
    "                y_onehot = y_onehot.cuda(net_output.device.index)\n",
    "            y_onehot.scatter_(1, gt, 1)\n",
    "\n",
    "    tp = net_output * y_onehot\n",
    "    fp = net_output * (1 - y_onehot)\n",
    "    fn = (1 - net_output) * y_onehot\n",
    "\n",
    "    if mask is not None:\n",
    "        tp = torch.stack(tuple(x_i * mask[:, 0] for x_i in torch.unbind(tp, dim=1)), dim=1)\n",
    "        fp = torch.stack(tuple(x_i * mask[:, 0] for x_i in torch.unbind(fp, dim=1)), dim=1)\n",
    "        fn = torch.stack(tuple(x_i * mask[:, 0] for x_i in torch.unbind(fn, dim=1)), dim=1)\n",
    "\n",
    "    if square:\n",
    "        tp = tp ** 2\n",
    "        fp = fp ** 2\n",
    "        fn = fn ** 2\n",
    "\n",
    "    tp = sum_tensor(tp, axes, keepdim=False)\n",
    "    fp = sum_tensor(fp, axes, keepdim=False)\n",
    "    fn = sum_tensor(fn, axes, keepdim=False)\n",
    "\n",
    "    return tp, fp, fn\n",
    "\n",
    "\n",
    "def SoftDiceLoss(x, y, loss_mask = None, smooth = 1e-5, batch_dice = False):\n",
    "    '''\n",
    "    Batch_dice means that we want to calculate the dsc of all batch\n",
    "    It would make more sense for small patchsize, aka DeepMedic based training.\n",
    "    '''\n",
    "    shp_x = x.shape\n",
    "    square = False\n",
    "\n",
    "    axes = [0] + list(range(2, len(shp_x)))\n",
    "    tp, fp, fn = get_tp_fp_fn(x, y, axes, loss_mask, square)\n",
    "    dc = (2 * tp + smooth) / (2 * tp + fp + fn + smooth)\n",
    "    dc_process = dc\n",
    "\n",
    "    return dc_process"
   ]
  },
  {
   "cell_type": "code",
   "execution_count": 4,
   "metadata": {},
   "outputs": [],
   "source": [
    "resultpath = '/vol/biomedic3/zl9518/ModelEvaluation/output/prostate/prostateval/'\n",
    "prostatevalpath = '/vol/biomedic3/zl9518/Prostatedata/datafiletestB/'"
   ]
  },
  {
   "cell_type": "code",
   "execution_count": 5,
   "metadata": {},
   "outputs": [],
   "source": [
    "DatafiletsImgc1 = prostatevalpath + 'seg-eval.txt'\n",
    "Imgfiletsc1 = open(DatafiletsImgc1)\n",
    "Imgreadc1 = Imgfiletsc1.read().splitlines()"
   ]
  },
  {
   "cell_type": "code",
   "execution_count": 6,
   "metadata": {
    "scrolled": false
   },
   "outputs": [
    {
     "name": "stderr",
     "output_type": "stream",
     "text": [
      "100%|█████████████████████████████████████████████████████████████████| 10/10 [00:04<00:00,  2.50it/s]\n"
     ]
    }
   ],
   "source": [
    "probs_all = []\n",
    "preds_class_all = []\n",
    "targets_all = []\n",
    "for Imgnamec1 in tqdm(Imgreadc1):\n",
    "    knamelist = Imgnamec1.split(\"/\")\n",
    "    kname = knamelist[-1][0:6]\n",
    "    \n",
    "    cls0filename = resultpath + '/results/pred_' + kname + 'cls0_prob.nii.gz'\n",
    "    cls1filename = resultpath + '/results/pred_' + kname + 'cls1_prob.nii.gz'\n",
    "    cls0read = nib.load(cls0filename)\n",
    "    cls1read = nib.load(cls1filename)\n",
    "    cls0logit = cls0read.get_fdata()\n",
    "    cls1logit = cls1read.get_fdata()\n",
    "    GTread = nib.load(Imgnamec1)\n",
    "    GTimg = GTread.get_fdata()\n",
    "    imgshape = GTimg.shape\n",
    "    cls0flatten = cls0logit.flatten()\n",
    "    cls1flatten = cls1logit.flatten()\n",
    "    clsflatten = np.stack((cls0flatten, cls1flatten))\n",
    "    GTflatten = GTimg.flatten()\n",
    "    probflatten = softmax(clsflatten, T = 1.0)\n",
    "    \n",
    "    pred_class = np.argmax(probflatten, axis = 0)\n",
    "    preds_class_all = np.concatenate((preds_class_all, pred_class), axis=0)\n",
    "    targets_all = np.concatenate((targets_all, GTflatten), axis=0)\n",
    "    probmax = np.max(probflatten, axis = 0)\n",
    "    probs_all = np.concatenate((probs_all, probmax), axis=0)\n"
   ]
  },
  {
   "cell_type": "code",
   "execution_count": 7,
   "metadata": {},
   "outputs": [
    {
     "name": "stdout",
     "output_type": "stream",
     "text": [
      "0.9960332029006206\n",
      "0.9960383582999901\n"
     ]
    }
   ],
   "source": [
    "threshold = 0.877\n",
    "print(np.sum(targets_all == preds_class_all) / len(targets_all))\n",
    "print(np.sum(probs_all > threshold) / len(targets_all))"
   ]
  },
  {
   "cell_type": "code",
   "execution_count": 16,
   "metadata": {},
   "outputs": [
    {
     "name": "stderr",
     "output_type": "stream",
     "text": [
      "100%|█████████████████████████████████████████████████████████████████| 10/10 [00:09<00:00,  1.05it/s]\n"
     ]
    }
   ],
   "source": [
    "# probs_all_c0 = []\n",
    "# preds_class_all_c0 = []\n",
    "# targets_all_c0 = []\n",
    "# probs_all_c1 = []\n",
    "# preds_class_all_c1 = []\n",
    "# targets_all_c1 = []\n",
    "softDSCs = []\n",
    "realDSCs = []\n",
    "for Imgnamec1 in tqdm(Imgreadc1):\n",
    "    knamelist = Imgnamec1.split(\"/\")\n",
    "    kname = knamelist[-1][0:6]\n",
    "    \n",
    "    cls0filename = resultpath + '/results/pred_' + kname + 'cls0_prob.nii.gz'\n",
    "    cls1filename = resultpath + '/results/pred_' + kname + 'cls1_prob.nii.gz'\n",
    "    cls0read = nib.load(cls0filename)\n",
    "    cls1read = nib.load(cls1filename)\n",
    "    cls0logit = cls0read.get_fdata()\n",
    "    cls1logit = cls1read.get_fdata()\n",
    "    GTread = nib.load(Imgnamec1)\n",
    "    GTimg = GTread.get_fdata()\n",
    "    imgshape = GTimg.shape\n",
    "    cls0flatten = cls0logit.flatten()\n",
    "    cls1flatten = cls1logit.flatten()\n",
    "    clsflatten = np.stack((cls0flatten, cls1flatten))\n",
    "    GTflatten = GTimg.flatten()\n",
    "    \n",
    "    preds_all_argmax = np.argmax(clsflatten, axis = 0)\n",
    "    # for cls 0, BG class \n",
    "#     targets_y1 = np.where(preds_all_argmax==0)[0]\n",
    "#     probflatten_c0 = softmax(clsflatten[:, targets_y1], T = 1.0)\n",
    "#     pred_class_c0 = np.argmax(probflatten_c0, axis = 0)\n",
    "#     preds_class_all_c0 = np.concatenate((preds_class_all_c0, pred_class_c0), axis=0)\n",
    "    \n",
    "#     targets_all_c0 = np.concatenate((targets_all_c0, GTflatten[targets_y1]), axis=0)\n",
    "#     probmax_c0 = np.max(probflatten_c0, axis = 0)\n",
    "#     probs_all_c0 = np.concatenate((probs_all_c0, probmax_c0), axis=0)\n",
    "    \n",
    "#     # for cls 1, FG class\n",
    "#     targets_y1 = np.where(preds_all_argmax==1)[0]\n",
    "#     probflatten_c1 = softmax(clsflatten[:, targets_y1], T = 1.0)\n",
    "#     pred_class_c1 = np.argmax(probflatten_c1, axis = 0)\n",
    "#     preds_class_all_c1 = np.concatenate((preds_class_all_c1, pred_class_c1), axis=0)\n",
    "    \n",
    "#     targets_all_c1 = np.concatenate((targets_all_c1, GTflatten[targets_y1]), axis=0)\n",
    "#     probmax_c1 = np.max(probflatten_c1, axis = 0)\n",
    "#     probs_all_c1 = np.concatenate((probs_all_c1, probmax_c1), axis=0)\n",
    "\n",
    "    # for cls 0, BG class \n",
    "    probflatten = softmax(clsflatten, T = 1.0)\n",
    "    probflattens = probflatten\n",
    "    targets_y1 = np.where(preds_all_argmax==0)[0]\n",
    "    probflatten[:, targets_y1] = softmax(clsflatten[:, targets_y1], T = 1.0)\n",
    "    threshold = 0.857\n",
    "    probflattens[:, targets_y1] = probflatten[:, targets_y1] > threshold\n",
    "    probflattens = probflattens.astype(float)\n",
    "    # for cls 1, FG class\n",
    "    targets_y1 = np.where(preds_all_argmax==1)[0]\n",
    "    probflatten[:, targets_y1] = softmax(clsflatten[:, targets_y1], T = 1.0)\n",
    "    threshold = 0.970\n",
    "    probflattens[:, targets_y1] = probflatten[:, targets_y1] > threshold\n",
    "    probflattens = probflattens.astype(float)\n",
    "    probr = probflatten.reshape((2, imgshape[0], imgshape[1], imgshape[2]))\n",
    "    probrs = probflattens.reshape((2, imgshape[0], imgshape[1], imgshape[2]))\n",
    "    probr_tensor = torch.tensor(probrs[np.newaxis, ...])\n",
    "    GTimgf = np.argmax(probr, axis = 0)\n",
    "    GT_tensor = torch.tensor(GTimgf[np.newaxis, ...])\n",
    "    \n",
    "    softDSC = SoftDiceLoss(probr_tensor, GT_tensor)\n",
    "    softDSCs.append(softDSC[1].numpy())\n",
    "\n",
    "    realDSC, _, _ = ComputMetric(GTimg, np.argmax(probr, axis = 0))\n",
    "    realDSCs.append(realDSC)z\n"
   ]
  },
  {
   "cell_type": "code",
   "execution_count": 17,
   "metadata": {},
   "outputs": [
    {
     "name": "stdout",
     "output_type": "stream",
     "text": [
      "0.9980038587250382\n",
      "0.9979738236461122\n"
     ]
    }
   ],
   "source": [
    "# print(np.sum(targets_all_c0 == preds_class_all_c0) / len(targets_all_c0))\n",
    "# threshold = 0.857\n",
    "# print(np.sum(probs_all_c0 > threshold) / len(targets_all_c0))\n",
    "# print(np.sum(targets_all_c1 == preds_class_all_c1) / len(targets_all_c1))\n",
    "# threshold = 0.903\n",
    "# print(np.sum(probs_all_c1 > threshold) / len(targets_all_c1))\n",
    "print(np.mean(softDSCs))\n",
    "print(np.mean(realDSCs))"
   ]
  },
  {
   "cell_type": "code",
   "execution_count": 107,
   "metadata": {},
   "outputs": [
    {
     "name": "stderr",
     "output_type": "stream",
     "text": [
      "100%|███████████████████| 83/83 [18:27<00:00, 13.35s/it]\n"
     ]
    }
   ],
   "source": [
    "# 84 conditions\n",
    "softDSCs_AC = []\n",
    "softDSCs_ATC = []\n",
    "softDSCs_CSATC = []\n",
    "realDSCs = []\n",
    "for kcon in tqdm(range(1, 84)):\n",
    "    softDSC_FG_AC = []\n",
    "    softDSC_FG_ATC = []\n",
    "    softDSC_FG_CSATC = []\n",
    "    realDSC_FG = []\n",
    "    resultpath = '/vol/biomedic3/zl9518/ModelEvaluation/output/prostate/prostattestcondition_' + str(kcon) + '/'\n",
    "    for Imgnamec1 in Imgreadc1:\n",
    "        knamelist = Imgnamec1.split(\"/\")\n",
    "        kname = knamelist[-1][0:6]\n",
    "\n",
    "        cls0filename = resultpath + '/results/pred_' + kname + 'cls0_prob.nii.gz'\n",
    "        cls1filename = resultpath + '/results/pred_' + kname + 'cls1_prob.nii.gz'\n",
    "        cls0read = nib.load(cls0filename)\n",
    "        cls1read = nib.load(cls1filename)\n",
    "        cls0logit = cls0read.get_fdata()\n",
    "        cls1logit = cls1read.get_fdata()\n",
    "        GTread = nib.load(Imgnamec1)\n",
    "        GTimg = GTread.get_fdata()\n",
    "        imgshape = GTimg.shape\n",
    "        cls0flatten = cls0logit.flatten()\n",
    "        cls1flatten = cls1logit.flatten()\n",
    "        clsflatten = np.stack((cls0flatten, cls1flatten))\n",
    "        GTflatten = GTimg.flatten()\n",
    "        # By AC\n",
    "        probflatten = softmax(clsflatten, T = 1.0)\n",
    "        probr = probflatten.reshape((2, imgshape[0], imgshape[1], imgshape[2]))\n",
    "        probr_tensor = torch.tensor(probr[np.newaxis, ...])\n",
    "        GTimgf = np.argmax(probr, axis = 0)\n",
    "        GT_tensor = torch.tensor(GTimgf[np.newaxis, ...])\n",
    "        softDSC = SoftDiceLoss(probr_tensor, GT_tensor)\n",
    "        softDSC_FG_AC.append(softDSC[1].numpy())\n",
    "        # By ATC\n",
    "        probflatten = softmax(clsflatten, T = 1.0)\n",
    "        threshold = 0.877\n",
    "        probflattens = probflatten > threshold\n",
    "        probflattens = probflattens.astype(float)\n",
    "        \n",
    "        probr = probflatten.reshape((2, imgshape[0], imgshape[1], imgshape[2]))\n",
    "        GTimgf = np.argmax(probr, axis = 0)\n",
    "        GT_tensor = torch.tensor(GTimgf[np.newaxis, ...])\n",
    "        probrs = probflattens.reshape((2, imgshape[0], imgshape[1], imgshape[2]))\n",
    "        probr_tensor = torch.tensor(probrs[np.newaxis, ...])\n",
    "        softDSC = SoftDiceLoss(probr_tensor, GT_tensor)\n",
    "        softDSC_FG_ATC.append(softDSC[1].numpy())\n",
    "        # By CSATC\n",
    "        preds_all_argmax = np.argmax(clsflatten, axis = 0)\n",
    "        # for cls 0, BG class \n",
    "        targets_y1 = np.where(preds_all_argmax==0)[0]\n",
    "        probflatten[:, targets_y1] = softmax(clsflatten[:, targets_y1], T = 1.0)\n",
    "        threshold = 0.857\n",
    "        probflattens[:, targets_y1] = probflatten[:, targets_y1] > threshold\n",
    "        # for cls 1, FG class\n",
    "        targets_y1 = np.where(preds_all_argmax==1)[0]\n",
    "        probflatten[:, targets_y1] = softmax(clsflatten[:, targets_y1], T = 1.0)\n",
    "        threshold = 0.970\n",
    "        probflattens[:, targets_y1] = probflatten[:, targets_y1] > threshold\n",
    "        probflattens = probflattens.astype(float)\n",
    "        probr = probflatten.reshape((2, imgshape[0], imgshape[1], imgshape[2]))\n",
    "        probrs = probflattens.reshape((2, imgshape[0], imgshape[1], imgshape[2]))\n",
    "        probr_tensor = torch.tensor(probrs[np.newaxis, ...])\n",
    "        GTimgf = np.argmax(probr, axis = 0)\n",
    "        GT_tensor = torch.tensor(GTimgf[np.newaxis, ...])\n",
    "        softDSC = SoftDiceLoss(probr_tensor, GT_tensor)\n",
    "        softDSC_FG_CSATC.append(softDSC[1].numpy())\n",
    "\n",
    "        realDSC, _, _ = ComputMetric(GTimg, np.argmax(probr, axis = 0))\n",
    "        realDSC_FG.append(realDSC)\n",
    "        \n",
    "    softDSCs_AC.append(np.mean(np.array(softDSC_FG_AC)))\n",
    "    softDSCs_ATC.append(np.mean(np.array(softDSC_FG_ATC)))\n",
    "    softDSCs_CSATC.append(np.mean(np.array(softDSC_FG_CSATC)))\n",
    "    realDSCs.append(np.mean(np.array(realDSC_FG)))"
   ]
  },
  {
   "cell_type": "code",
   "execution_count": 117,
   "metadata": {},
   "outputs": [
    {
     "name": "stdout",
     "output_type": "stream",
     "text": [
      "AC_results:\n",
      "0.08682389850061455\n",
      "ATC_results:\n",
      "0.08557026647305374\n",
      "CSATC_results:\n",
      "0.01134276768333814\n"
     ]
    }
   ],
   "source": [
    "print('AC_results:')\n",
    "print(np.mean(np.abs(np.array(realDSCs) - np.array(softDSCs_AC))))\n",
    "print('ATC_results:')\n",
    "print(np.mean(np.abs(np.array(realDSCs) - np.array(softDSCs_ATC))))\n",
    "print('CSATC_results:')\n",
    "print(np.mean(np.abs(np.array(realDSCs) - np.array(softDSCs_CSATC))))"
   ]
  },
  {
   "cell_type": "code",
   "execution_count": 118,
   "metadata": {},
   "outputs": [
    {
     "name": "stdout",
     "output_type": "stream",
     "text": [
      "[0.8457301025307677, 0.870852084028978, 0.828521585768393, 0.790703746725564, 0.7586812862096527, 0.7557484783931, 0.8172327417988589, 0.6604643235449457, 0.8391672071049449, 0.629645911710675, 0.8541350026276865, 0.8736883469998509, 0.8538392221470215, 0.843655497285545, 0.8472068280655369, 0.8415826376847552, 0.8719698924620335, 0.8669337478504607, 0.8188883956186596, 0.8289616381345647, 0.7512113795312175, 0.7984512037339606, 0.8258757147417111, 0.7808367447866433, 0.8216387475687809, 0.7407959047695183, 0.8082450924634974, 0.7488012437878321, 0.8813964100757584, 0.8449041600923041, 0.8723101712065781, 0.7438437175087971, 0.7690050430372952, 0.8036237249343758, 0.6054180714311662, 0.594775255065044, 0.8655259284098629, 0.8193493642947048, 0.8471036691597765, 0.8195559172815617, 0.8942332191332024, 0.886877812107558, 0.8949294033819303, 0.8655104773584853, 0.8947390346757661, 0.8509641068080747, 0.8916376091423593, 0.8932068281575198, 0.8886573243066662, 0.894043014237129, 0.8841409920497802, 0.8945585277579324, 0.8915872253807999, 0.8935827270797739, 0.8900613019952767, 0.8954535279095417, 0.8892877072755626, 0.8968215735063524, 0.8925794874268455, 0.8925794874268455, 0.8925794874268455, 0.8925794874268455, 0.8925794874268455, 0.8925794874268455, 0.8924648761656288, 0.8925377580298599, 0.8933089801905837, 0.8926561620676898, 0.895421017289985, 0.8927403679919301, 0.8880752189634069, 0.8667071812675555, 0.8374601769085613, 0.872159526969176, 0.8836511356030041, 0.8232106744297741, 0.8933175164598876, 0.8939974918047922, 0.8932180514356667, 0.8756891702461991, 0.8520728368902251, 0.8584788186194494, 0.7989908175918564]\n"
     ]
    }
   ],
   "source": [
    "print(realDSCs)"
   ]
  },
  {
   "cell_type": "code",
   "execution_count": 119,
   "metadata": {},
   "outputs": [
    {
     "name": "stdout",
     "output_type": "stream",
     "text": [
      "[0.8573098450600742, 0.8600617529258539, 0.8511011800465511, 0.7610844443132836, 0.804225260350873, 0.6994625775600914, 0.8343077680867872, 0.5873883511877259, 0.8706367818162295, 0.5339708737304262, 0.8609286835520462, 0.8745588154827783, 0.8403775389417912, 0.8307831808346533, 0.8268898561923944, 0.8178379643873039, 0.8766403422994316, 0.8773801044190288, 0.8150702273271563, 0.8208535644503716, 0.7608286257043855, 0.7744383555214596, 0.8241560744704524, 0.7945163828758084, 0.8251698745952046, 0.7650909563272303, 0.8033009616996422, 0.775191699411599, 0.8813952990882676, 0.8511207214924168, 0.8724475501828607, 0.7128424443954274, 0.7445548932485803, 0.8172331937923939, 0.6486932954872577, 0.6261100425329447, 0.8695209492318604, 0.8071358207942033, 0.8268769963475917, 0.8375713993517863, 0.8934472807140402, 0.8847814183850069, 0.8943232197369081, 0.8623928516691762, 0.8936365726907469, 0.850068732989435, 0.890262573033971, 0.8920501421527687, 0.8869467539993081, 0.892964061399845, 0.8821391785122523, 0.8934503637079482, 0.890156151877435, 0.8923978461482676, 0.8883969700936925, 0.8944091662459801, 0.887466162690161, 0.8958124137523397, 0.8912683912388623, 0.8912683912388623, 0.8912683912388623, 0.8912683912388623, 0.8912683912388623, 0.8912683912388623, 0.8911120896993333, 0.8912198813778881, 0.8917833861743392, 0.8913365425416556, 0.8941107431948605, 0.8914404241833698, 0.886889358156051, 0.8606964229845879, 0.8345173627269217, 0.869959747043843, 0.8785460963465315, 0.8171054530177406, 0.8911425277472318, 0.890223446217966, 0.8865286111095688, 0.8698546306028636, 0.8416478386111683, 0.8544834172544858, 0.8313503125534405]\n"
     ]
    }
   ],
   "source": [
    "print(softDSCs_CSATC)"
   ]
  },
  {
   "cell_type": "code",
   "execution_count": 120,
   "metadata": {},
   "outputs": [
    {
     "name": "stdout",
     "output_type": "stream",
     "text": [
      "[0.9327430434040498, 0.9378185544854519, 0.9235938340434025, 0.8887076731960827, 0.8980355965887018, 0.8623144028533967, 0.9139631172921199, 0.7935959157041663, 0.9359708308937295, 0.7627235374306184, 0.9338440006464964, 0.9438774865471279, 0.9277106442572324, 0.9215330720071491, 0.9192820047470296, 0.910710004457669, 0.945640048371857, 0.9463451534286573, 0.9144148581126073, 0.9157026992753277, 0.8883251761930238, 0.8918552898827743, 0.9164302206070701, 0.9030024851692705, 0.9148374331392123, 0.8868819000455664, 0.9009367099490613, 0.8923107859810571, 0.950903975491976, 0.9353683840105426, 0.9482715857870654, 0.8543321439640149, 0.869384858425738, 0.9253469251009279, 0.834054241217984, 0.8412640539162384, 0.946280918471361, 0.9181433266337031, 0.9303256093728377, 0.9330631718014264, 0.9581101680541646, 0.950782862848264, 0.9591669752540989, 0.9377284310228851, 0.959041002108993, 0.9326961557549968, 0.9550094581183686, 0.9566148152600666, 0.9522982678392369, 0.9574968827574347, 0.9487825165666521, 0.9580345419156835, 0.955233055525061, 0.9566967738155177, 0.9541494281439403, 0.958298298770055, 0.9538096369091786, 0.9594706427290415, 0.9558981644076642, 0.955898606406046, 0.9558981644076642, 0.955898606406046, 0.9558981644076642, 0.955898606406046, 0.9557941552540153, 0.9558724554174063, 0.9563549863053691, 0.9559548547703631, 0.9581885497259076, 0.9560290194761445, 0.9534303485292239, 0.9393073339240084, 0.9287375411321731, 0.9449311050406195, 0.9507581580585722, 0.9134170535669623, 0.955869996995452, 0.9558894859958667, 0.9560800509304486, 0.9448930314471056, 0.927606296126925, 0.9382960017463864, 0.928469050404414]\n"
     ]
    }
   ],
   "source": [
    "print(softDSCs_ATC)"
   ]
  },
  {
   "cell_type": "code",
   "execution_count": 121,
   "metadata": {},
   "outputs": [
    {
     "name": "stdout",
     "output_type": "stream",
     "text": [
      "[0.9445208141411179, 0.5600351926555271, 0.931730127079436, 0.6528295465927425, 0.9158539060827395, 0.7136134168357384, 0.9246074382786308, 0.6644763539333387, 0.9389497001221697, 0.7066098338452236, 0.9275612026510706, 0.9325569574687153, 0.9328646004932912, 0.9269801658772193, 0.9270234060337872, 0.9238830251708064, 0.9326770866378464, 0.9336464948378751, 0.9172174173486736, 0.9205507685038764, 0.9035785475003083, 0.9033867852464283, 0.7677991683602265, 0.77648857500991, 0.7670021114181449, 0.7822310609348627, 0.7681708070921458, 0.7782648221080334, 0.9547345456520384, 0.9456113594412106, 0.9535450027183474, 0.9004201920300152, 0.8979303404342277, 0.9448680173310867, 0.8859718451761012, 0.8879338421392813, 0.9540584116065987, 0.9288409827503431, 0.9366174510538441, 0.9459088235601767, 0.9619089739592205, 0.9532975605133911, 0.9635967070577143, 0.9466395431589174, 0.9636146188932045, 0.9455708263766514, 0.9578893452463093, 0.9599190227327112, 0.9549463403474387, 0.961062565393781, 0.9515175398065029, 0.9617788075917636, 0.9583956927335651, 0.9597772130758943, 0.9575104902053905, 0.961441181446807, 0.9569452845233041, 0.9630999484301854, 0.9590364093650277, 0.9590363994342577, 0.959036392308124, 0.9590364062231991, 0.9590363982022062, 0.9590364032240967, 0.95900104638466, 0.9590458197604365, 0.9599731055521014, 0.959094514675478, 0.9618567287645607, 0.9591395174937857, 0.9558408131210936, 0.9444166262204436, 0.9337935699114303, 0.9489966481305195, 0.9567010093569644, 0.9379683409277753, 0.9596489660013671, 0.9594923408111391, 0.960642535589748, 0.9481430046919568, 0.9352942657281476, 0.942777893434001, 0.9461562874272953]\n"
     ]
    }
   ],
   "source": [
    "print(softDSCs_AC)"
   ]
  },
  {
   "cell_type": "code",
   "execution_count": 122,
   "metadata": {},
   "outputs": [
    {
     "name": "stderr",
     "output_type": "stream",
     "text": [
      "100%|█████████████████████| 5/5 [00:39<00:00,  7.97s/it]\n"
     ]
    }
   ],
   "source": [
    "# 5 conditions\n",
    "domainlist = ['A', 'C', 'D', 'E', 'F']\n",
    "softDSCs_AC = []\n",
    "softDSCs_ATC = []\n",
    "softDSCs_CSATC = []\n",
    "realDSCs = []\n",
    "for kcon in tqdm(domainlist):\n",
    "    softDSC_FG_AC = []\n",
    "    softDSC_FG_ATC = []\n",
    "    softDSC_FG_CSATC = []\n",
    "    realDSC_FG = []\n",
    "    resultpath = '/vol/biomedic3/zl9518/ModelEvaluation/output/prostate/prostattestcondition_' + kcon + '/'\n",
    "    \n",
    "    prostatevalpath = '/vol/biomedic3/zl9518/Prostatedata/datafiletest' + kcon + '/'\n",
    "    DatafiletsImgc1 = prostatevalpath + 'seg-eval.txt'\n",
    "    Imgfiletsc1 = open(DatafiletsImgc1)\n",
    "    Imgreadc1 = Imgfiletsc1.read().splitlines()\n",
    "    for Imgnamec1 in Imgreadc1:\n",
    "        knamelist = Imgnamec1.split(\"/\")\n",
    "        kname = knamelist[-1][0:6]\n",
    "\n",
    "        cls0filename = resultpath + '/results/pred_' + kname + 'cls0_prob.nii.gz'\n",
    "        cls1filename = resultpath + '/results/pred_' + kname + 'cls1_prob.nii.gz'\n",
    "        cls0read = nib.load(cls0filename)\n",
    "        cls1read = nib.load(cls1filename)\n",
    "        cls0logit = cls0read.get_fdata()\n",
    "        cls1logit = cls1read.get_fdata()\n",
    "        GTread = nib.load(Imgnamec1)\n",
    "        GTimg = GTread.get_fdata()\n",
    "        imgshape = GTimg.shape\n",
    "        cls0flatten = cls0logit.flatten()\n",
    "        cls1flatten = cls1logit.flatten()\n",
    "        clsflatten = np.stack((cls0flatten, cls1flatten))\n",
    "        GTflatten = GTimg.flatten()\n",
    "        # By AC\n",
    "        probflatten = softmax(clsflatten, T = 1.0)\n",
    "        probr = probflatten.reshape((2, imgshape[0], imgshape[1], imgshape[2]))\n",
    "        probr_tensor = torch.tensor(probr[np.newaxis, ...])\n",
    "        GTimgf = np.argmax(probr, axis = 0)\n",
    "        GT_tensor = torch.tensor(GTimgf[np.newaxis, ...])\n",
    "        softDSC = SoftDiceLoss(probr_tensor, GT_tensor)\n",
    "        softDSC_FG_AC.append(softDSC[1].numpy())\n",
    "        # By ATC\n",
    "        probflatten = softmax(clsflatten, T = 1.0)\n",
    "        threshold = 0.877\n",
    "        probflattens = probflatten > threshold\n",
    "        probflattens = probflattens.astype(float)\n",
    "        \n",
    "        probr = probflatten.reshape((2, imgshape[0], imgshape[1], imgshape[2]))\n",
    "        GTimgf = np.argmax(probr, axis = 0)\n",
    "        GT_tensor = torch.tensor(GTimgf[np.newaxis, ...])\n",
    "        probrs = probflattens.reshape((2, imgshape[0], imgshape[1], imgshape[2]))\n",
    "        probr_tensor = torch.tensor(probrs[np.newaxis, ...])\n",
    "        softDSC = SoftDiceLoss(probr_tensor, GT_tensor)\n",
    "        softDSC_FG_ATC.append(softDSC[1].numpy())\n",
    "        # By CSATC\n",
    "        preds_all_argmax = np.argmax(clsflatten, axis = 0)\n",
    "        # for cls 0, BG class \n",
    "        targets_y1 = np.where(preds_all_argmax==0)[0]\n",
    "        probflatten[:, targets_y1] = softmax(clsflatten[:, targets_y1], T = 1.0)\n",
    "        threshold = 0.857\n",
    "        probflattens[:, targets_y1] = probflatten[:, targets_y1] > threshold\n",
    "        # for cls 1, FG class\n",
    "        targets_y1 = np.where(preds_all_argmax==1)[0]\n",
    "        probflatten[:, targets_y1] = softmax(clsflatten[:, targets_y1], T = 1.0)\n",
    "        threshold = 0.970\n",
    "        probflattens[:, targets_y1] = probflatten[:, targets_y1] > threshold\n",
    "        probflattens = probflattens.astype(float)\n",
    "        probr = probflatten.reshape((2, imgshape[0], imgshape[1], imgshape[2]))\n",
    "        probrs = probflattens.reshape((2, imgshape[0], imgshape[1], imgshape[2]))\n",
    "        probr_tensor = torch.tensor(probrs[np.newaxis, ...])\n",
    "        GTimgf = np.argmax(probr, axis = 0)\n",
    "        GT_tensor = torch.tensor(GTimgf[np.newaxis, ...])\n",
    "        softDSC = SoftDiceLoss(probr_tensor, GT_tensor)\n",
    "        softDSC_FG_CSATC.append(softDSC[1].numpy())\n",
    "\n",
    "        realDSC, _, _ = ComputMetric(GTimg, np.argmax(probr, axis = 0))\n",
    "        realDSC_FG.append(realDSC)\n",
    "        \n",
    "    softDSCs_AC.append(np.mean(np.array(softDSC_FG_AC)))\n",
    "    softDSCs_ATC.append(np.mean(np.array(softDSC_FG_ATC)))\n",
    "    softDSCs_CSATC.append(np.mean(np.array(softDSC_FG_CSATC)))\n",
    "    realDSCs.append(np.mean(np.array(realDSC_FG)))"
   ]
  },
  {
   "cell_type": "code",
   "execution_count": 123,
   "metadata": {},
   "outputs": [
    {
     "name": "stdout",
     "output_type": "stream",
     "text": [
      "AC_results:\n",
      "1.8734415411981173e-01\n",
      "ATC_results:\n",
      "0.16698388786318447\n",
      "CSATC_results:\n",
      "0.042532286860843274\n"
     ]
    }
   ],
   "source": [
    "print('AC_results:')\n",
    "print(np.mean(np.abs(np.array(realDSCs) - np.array(softDSCs_AC))))\n",
    "print('ATC_results:')\n",
    "print(np.mean(np.abs(np.array(realDSCs) - np.array(softDSCs_ATC))))\n",
    "print('CSATC_results:')\n",
    "print(np.mean(np.abs(np.array(realDSCs) - np.array(softDSCs_CSATC))))"
   ]
  },
  {
   "cell_type": "code",
   "execution_count": 124,
   "metadata": {},
   "outputs": [
    {
     "name": "stdout",
     "output_type": "stream",
     "text": [
      "[0.6378083422909432, 0.697240794087378, 0.6772908320125938, 0.8419924585360163, 0.7973537408007105]\n"
     ]
    }
   ],
   "source": [
    "print(softDSCs_CSATC)"
   ]
  },
  {
   "cell_type": "code",
   "execution_count": 125,
   "metadata": {},
   "outputs": [
    {
     "name": "stdout",
     "output_type": "stream",
     "text": [
      "[0.8467825488872531, 0.8523113325450369, 0.8429700103616687, 0.9247865749636566, 0.8978411492589539]\n"
     ]
    }
   ],
   "source": [
    "print(softDSCs_ATC)"
   ]
  },
  {
   "cell_type": "code",
   "execution_count": 126,
   "metadata": {},
   "outputs": [
    {
     "name": "stdout",
     "output_type": "stream",
     "text": [
      "[0.8903888833710243, 0.8646945640943136, 0.8701191490312503, 0.9339760285393177, 0.9073143222637996]\n"
     ]
    }
   ],
   "source": [
    "print(softDSCs_AC)"
   ]
  },
  {
   "cell_type": "code",
   "execution_count": null,
   "metadata": {},
   "outputs": [],
   "source": []
  }
 ],
 "metadata": {
  "kernelspec": {
   "display_name": "IW",
   "language": "python",
   "name": "iw"
  },
  "language_info": {
   "codemirror_mode": {
    "name": "ipython",
    "version": 3
   },
   "file_extension": ".py",
   "mimetype": "text/x-python",
   "name": "python",
   "nbconvert_exporter": "python",
   "pygments_lexer": "ipython3",
   "version": "3.9.7"
  }
 },
 "nbformat": 4,
 "nbformat_minor": 2
}
