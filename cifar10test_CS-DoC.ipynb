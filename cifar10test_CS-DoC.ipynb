{
 "cells": [
  {
   "cell_type": "code",
   "execution_count": 3,
   "metadata": {},
   "outputs": [],
   "source": [
    "import os\n",
    "import seaborn as sns\n",
    "import pandas as pd\n",
    "import numpy as np\n",
    "from tqdm import tqdm\n",
    "import matplotlib.pyplot as plt"
   ]
  },
  {
   "cell_type": "code",
   "execution_count": 4,
   "metadata": {},
   "outputs": [],
   "source": [
    "def softmax(x, T = 1):\n",
    "    \"\"\"Compute softmax values for each sets of scores in x.\"\"\"\n",
    "    return np.exp(x / T) / np.sum(np.exp(x / T), axis=0)"
   ]
  },
  {
   "cell_type": "code",
   "execution_count": 5,
   "metadata": {},
   "outputs": [],
   "source": [
    "cifar_resultsdir = '/vol/biomedic3/zl9518/ModelEvaluation/LDAM-DRW/cifar10results/'\n",
    "cnn_pred = pd.read_csv(cifar_resultsdir + 'predictions_val.csv')"
   ]
  },
  {
   "cell_type": "code",
   "execution_count": 6,
   "metadata": {},
   "outputs": [
    {
     "name": "stdout",
     "output_type": "stream",
     "text": [
      "0.7054\n",
      "0.9106864566517481\n",
      "[0.9225970566011684, 0.9465175189373298, 0.8975987029430894, 0.8778312979804334, 0.9152566284004128, 0.8755787677997529, 0.9290975124124513, 0.9130334730434783, 0.9070707217171718, 0.9059517615280899]\n",
      "[0.5130111524163569, 0.667574931880109, 0.6723577235772358, 0.5485674353598882, 0.7966976264189887, 0.7688504326328801, 0.920881971465629, 0.9548494983277592, 0.9671717171717171, 0.9842696629213483]\n"
     ]
    }
   ],
   "source": [
    "kcls = 10\n",
    "targets_all = np.array(cnn_pred[['target_0', 'target_1', 'target_2', 'target_3', 'target_4', 'target_5', 'target_6', 'target_7', 'target_8', 'target_9']])\n",
    "logit_all = np.array(cnn_pred[['logit_0', 'logit_1', 'logit_2', 'logit_3', 'logit_4', 'logit_5', 'logit_6', 'logit_7', 'logit_8', 'logit_9']])\n",
    "# acc\n",
    "target_class = np.argmax(targets_all, axis = 1)\n",
    "pred_class = np.argmax(logit_all, axis = 1)\n",
    "acc = np.sum(pred_class == target_class) / len(target_class)\n",
    "prob = softmax(logit_all.transpose(), T = 1).transpose()\n",
    "probmax = np.max(prob, axis = 1)\n",
    "AC = np.mean(probmax)\n",
    "print(acc)\n",
    "print(AC)\n",
    "\n",
    "mean_prob = []\n",
    "targets_all = []\n",
    "acc_cls = []\n",
    "preds_class_all = []\n",
    "preds_all = np.array(cnn_pred[['class_0', 'class_1', 'class_2', 'class_3', 'class_4', 'class_5', 'class_6', 'class_7', 'class_8', 'class_9']])\n",
    "preds_all_argmax = np.argmax(preds_all, axis = 1)\n",
    "preds_all_max = np.max(preds_all, axis = 1)\n",
    "class_all = np.array(cnn_pred[['target_0', 'target_1', 'target_2', 'target_3', 'target_4', 'target_5', 'target_6', 'target_7', 'target_8', 'target_9']])\n",
    "class_all_argmax = np.argmax(class_all, axis = 1)\n",
    "for label in range(kcls):\n",
    "    targets_y1 = np.where(preds_all_argmax==label)[0]\n",
    "    preds_class = preds_all_max[targets_y1]\n",
    "    \n",
    "    preds_class_all = np.concatenate((preds_class_all, preds_class), axis=0)\n",
    "    \n",
    "    preds_realclass = class_all_argmax[targets_y1]\n",
    "    targets_all = np.concatenate((targets_all, np.ones(len(preds_class)) * label), axis=0)\n",
    "    acc_cls.append(np.sum(preds_realclass == label) / len(targets_y1))\n",
    "    mean_prob.append(np.mean(preds_class))\n",
    "print(mean_prob)\n",
    "print(acc_cls)"
   ]
  },
  {
   "cell_type": "code",
   "execution_count": 7,
   "metadata": {},
   "outputs": [
    {
     "name": "stderr",
     "output_type": "stream",
     "text": [
      "100%|███████████████████████████████████████████████████████████████████████████████████████████████████████████| 19/19 [00:12<00:00,  1.49it/s]\n"
     ]
    }
   ],
   "source": [
    "# bring a test condition here.\n",
    "acc_results = []\n",
    "AC_results = []\n",
    "DoC_results = []\n",
    "CSDoC_results = []\n",
    "cifar_resultsdir = '/vol/biomedic3/zl9518/ModelEvaluation/LDAM-DRW/cifar10results/'\n",
    "corruptions = ['gaussian_noise', 'shot_noise' , 'impulse_noise', 'defocus_blur', 'glass_blur', \n",
    "               'motion_blur', 'zoom_blur', 'snow', 'frost', 'fog', 'brightness', 'contrast' , 'elastic_transform', \n",
    "               'pixelate', 'jpeg_compression', 'speckle_noise', 'gaussian_blur', 'spatter', 'saturate']\n",
    "\n",
    "for cname in tqdm(corruptions):\n",
    "    csvfilename = cifar_resultsdir + 'predictions_val_' + cname + '.csv'\n",
    "    cnn_pred_all = pd.read_csv(csvfilename)\n",
    "    for severity in range(5):\n",
    "        cnn_pred = cnn_pred_all.iloc[severity * 10000:(severity + 1) * 10000, :]\n",
    "        \n",
    "        kcls = 10\n",
    "        targets_all = np.array(cnn_pred[['target_0', 'target_1', 'target_2', 'target_3', 'target_4', 'target_5', 'target_6', 'target_7', 'target_8', 'target_9']])\n",
    "        logit_all = np.array(cnn_pred[['logit_0', 'logit_1', 'logit_2', 'logit_3', 'logit_4', 'logit_5', 'logit_6', 'logit_7', 'logit_8', 'logit_9']])\n",
    "        preds_all_argmax = np.argmax(logit_all, axis = 1)\n",
    "        # acc\n",
    "        target_class = np.argmax(targets_all, axis = 1)\n",
    "        pred_class = np.argmax(logit_all, axis = 1)\n",
    "        acc_t = np.sum(pred_class == target_class) / len(target_class)\n",
    "        prob = softmax(logit_all.transpose(), T = 1).transpose()\n",
    "        probmax = np.max(prob, axis = 1)\n",
    "        acc_results.append(acc_t)\n",
    "        AC_results.append(np.mean(probmax))\n",
    "        DoC_results.append(acc-(AC-np.mean(probmax)))\n",
    "        targets_all = []\n",
    "        preds_class_all = []\n",
    "        for label in range(kcls):\n",
    "            preds_all = softmax(logit_all.transpose(), T = 1).transpose()\n",
    "            preds_all_max = np.max(preds_all, axis = 1)\n",
    "            targets_y1 = np.where(preds_all_argmax==label)[0]\n",
    "            preds_class = preds_all_max[targets_y1]\n",
    "\n",
    "            preds_class_all = np.concatenate((preds_class_all, preds_class - mean_prob[label] + acc_cls[label]), axis=0)\n",
    "        CSDoC_results.append(np.mean(preds_class_all))"
   ]
  },
  {
   "cell_type": "code",
   "execution_count": 8,
   "metadata": {},
   "outputs": [
    {
     "name": "stdout",
     "output_type": "stream",
     "text": [
      "AC_results:\n",
      "0.31302850098791185\n",
      "DoC_results:\n",
      "0.10774204433616379\n",
      "CSDoC_results:\n",
      "0.09364027001796721\n"
     ]
    }
   ],
   "source": [
    "print('AC_results:')\n",
    "print(np.mean(np.abs(np.array(acc_results)-np.array(AC_results))))\n",
    "print('DoC_results:')\n",
    "print(np.mean(np.abs(np.array(acc_results)-np.array(DoC_results))))\n",
    "print('CSDoC_results:')\n",
    "print(np.mean(np.abs(np.array(acc_results)-np.array(CSDoC_results))))"
   ]
  },
  {
   "cell_type": "code",
   "execution_count": 9,
   "metadata": {},
   "outputs": [
    {
     "name": "stdout",
     "output_type": "stream",
     "text": [
      "[0.6716073722530063, 0.6318219332256849, 0.5989617985116201, 0.5871380349866165, 0.5788520182162653, 0.6870734315750555, 0.6681572243257768, 0.6193758363166537, 0.6069041840553213, 0.5857611246509108, 0.6860774070717457, 0.6599561063075562, 0.6323169366145046, 0.5898560679621445, 0.5646759357742686, 0.7033293195049252, 0.6954346322141653, 0.6827864273978638, 0.6705762056526218, 0.6505191758191524, 0.6159253532778608, 0.6215837041210042, 0.6199667163655169, 0.6128458708757504, 0.6034150220897436, 0.689653862613752, 0.6775421683654855, 0.6688154415359313, 0.6664976643148346, 0.6619941818150136, 0.6738177585318718, 0.672227908459391, 0.6652355326478668, 0.6605590284030467, 0.6492553903199693, 0.6883557232202934, 0.6528962810703012, 0.661865103335706, 0.6575448702143369, 0.6393778643605073, 0.693069003645487, 0.6727643993887014, 0.6464146991517457, 0.6436038633902954, 0.6104579779564218, 0.703607992605194, 0.6929798829922625, 0.6838380643483326, 0.6738550245625128, 0.6449719083731476, 0.7063771198773059, 0.7066229269156464, 0.7052531225108442, 0.7010822330216159, 0.692475439969572, 0.7023654247008865, 0.681999333465019, 0.6668938929282604, 0.6359438635667212, 0.5076221078091135, 0.6804793711663348, 0.6830971856015738, 0.6769540566727117, 0.6690138217862442, 0.6622721114700986, 0.693411087325284, 0.6818201213984927, 0.6691770356554994, 0.6334245756814039, 0.6075053446558553, 0.6867753754359647, 0.672797032082533, 0.6690013321191564, 0.6644778728389856, 0.6584709243338103, 0.6899894833671489, 0.6596053659600203, 0.6437447244466264, 0.6107291621423679, 0.5884466811849496, 0.703362884522841, 0.6824256335518696, 0.6722253092135431, 0.662298497322144, 0.649017379661709, 0.6965864853987361, 0.677590427259549, 0.6604867964157273, 0.6895222886337508, 0.6785665266959814, 0.6973244414924519, 0.69025572936442, 0.7031441365724937, 0.6921480654094118, 0.6785920455427419]\n"
     ]
    }
   ],
   "source": [
    "print(DoC_results)"
   ]
  },
  {
   "cell_type": "code",
   "execution_count": 10,
   "metadata": {},
   "outputs": [
    {
     "name": "stdout",
     "output_type": "stream",
     "text": [
      "[0.6927921957905866, 0.6679437190389814, 0.6542379931253861, 0.6515859839670718, 0.6545926304524582, 0.7060128864532011, 0.6931471591237388, 0.6616096964671422, 0.6562421314805531, 0.6542255258395552, 0.6747117040830463, 0.6474164651155273, 0.6295047405007017, 0.608729285345344, 0.6072372226841424, 0.6994448696284493, 0.6780258054466418, 0.6436471425777418, 0.610923604357552, 0.5626045354772516, 0.6273601034432565, 0.621012046288981, 0.6161015875716634, 0.6173577343923518, 0.6084102282754531, 0.6495024212610914, 0.6157985792527156, 0.5928716820502022, 0.5904289817788217, 0.5735827744269826, 0.634995672029316, 0.6203518722409332, 0.6025026986055491, 0.5864620869035163, 0.564112573036458, 0.6795100415432971, 0.6609545827740753, 0.6543770065675176, 0.6435338978853988, 0.63779810045447, 0.6940060523959187, 0.6704343303615514, 0.6466478845016163, 0.6462128702740685, 0.6235765851797247, 0.6960466390211781, 0.6726557224879288, 0.652106278271263, 0.6306965205378017, 0.5884530065304899, 0.7057781122595239, 0.7035364498880831, 0.6991003510074659, 0.6901002695829278, 0.6670894793451889, 0.6923083218174928, 0.6431120194699174, 0.6080081404474157, 0.5550614077081782, 0.3964539335502442, 0.64984620894239, 0.6502808022781209, 0.6304818013237569, 0.6072495292615419, 0.6044941157542169, 0.694615936020305, 0.6869005564254358, 0.6755072651356298, 0.6407644687565105, 0.6298788316929395, 0.6934247159770949, 0.6719890439876494, 0.6636248833362942, 0.6536275538248607, 0.6406690055923414, 0.708308581977086, 0.6873268069389487, 0.6759224372777566, 0.6568770449181882, 0.6464422901192792, 0.6994526617015443, 0.6428868697924461, 0.6098480876978574, 0.5804851633707143, 0.5422631261116798, 0.689098607049489, 0.6627300197690423, 0.6405980906078499, 0.6705377427540488, 0.6523077280476839, 0.6897800297301643, 0.6763139894611402, 0.700949459430549, 0.681757779273122, 0.6575400749941045]\n"
     ]
    }
   ],
   "source": [
    "print(CSDoC_results)"
   ]
  },
  {
   "cell_type": "code",
   "execution_count": null,
   "metadata": {},
   "outputs": [],
   "source": []
  }
 ],
 "metadata": {
  "kernelspec": {
   "display_name": "IW",
   "language": "python",
   "name": "iw"
  },
  "language_info": {
   "codemirror_mode": {
    "name": "ipython",
    "version": 3
   },
   "file_extension": ".py",
   "mimetype": "text/x-python",
   "name": "python",
   "nbconvert_exporter": "python",
   "pygments_lexer": "ipython3",
   "version": "3.9.7"
  }
 },
 "nbformat": 4,
 "nbformat_minor": 2
}
